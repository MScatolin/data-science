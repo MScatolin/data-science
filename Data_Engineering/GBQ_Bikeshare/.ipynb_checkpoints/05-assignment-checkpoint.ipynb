{
 "cells": [
  {
   "cell_type": "code",
   "execution_count": 5,
   "metadata": {},
   "outputs": [],
   "source": [
    "import pandas as pd\n",
    "import math\n",
    "%matplotlib inline\n",
    "\n",
    "pd.set_option('display.max_colwidth', -1)"
   ]
  },
  {
   "cell_type": "markdown",
   "metadata": {},
   "source": [
    "# Ford GoBike Rideshare analysis\n",
    "\n",
    "## Increasing rideshare through improving customer experience.\n",
    "\n",
    "This is an analysis of the dataset of Ford GoBike available for public consultation in Google Big Query. The queries are running in a Docker container hosted by a Droplet in Digital Ocean's.\n",
    "\n",
    "### Context\n",
    "\n",
    "Ford GoBike (https://www.fordgobike.com/) is a company running Bay Area Bikeshare services. My goal is to try to increase ridership, offering deals through the mobile app. Currently, GOBike has three options: a flat price for a single one-way trip, a day pass that allows unlimited 30-minute rides for 24 hours and an annual membership.\n",
    "\n",
    "### Research Questions\n",
    "\n",
    "The first questions raised when exploring the data were:\n",
    "* What are the 5 most popular trips that you would call \"commuter trips\"?\n",
    "* What are your recommendations for offers (justify based on your findings)?\n",
    "\n",
    "Later in this analysis we might raise new questions based on the results of the queries.\n",
    "\n",
    "### Exploring the data:\n",
    "\n",
    "For an initial exploratory analisys we wanted to know:\n",
    "\n",
    "* the sise of the trips dataset: "
   ]
  },
  {
   "cell_type": "code",
   "execution_count": 61,
   "metadata": {},
   "outputs": [
    {
     "name": "stdout",
     "output_type": "stream",
     "text": [
      "\r",
      "Waiting on bqjob_r3b9206a2e12072b1_00000164012847d3_1 ... (0s) Current status: DONE   "
     ]
    },
    {
     "data": {
      "text/plain": [
       "983648"
      ]
     },
     "execution_count": 61,
     "metadata": {},
     "output_type": "execute_result"
    }
   ],
   "source": [
    "with open(\"trip_count.txt\", \"w\") as f:\n",
    "    f.write('''\n",
    "    #standardSQL\n",
    "    SELECT\n",
    "      COUNT(trip_id) AS trip_count\n",
    "    FROM\n",
    "      `bigquery-public-data.san_francisco.bikeshare_trips`\n",
    "    ''')\n",
    "\n",
    "! cat first_query.txt | bq query --format=csv > trip_count.csv\n",
    "\n",
    "trip_count = pd.read_csv('trip_count.csv')['f0_'][0]\n",
    "\n",
    "trip_count\n"
   ]
  },
  {
   "cell_type": "markdown",
   "metadata": {},
   "source": [
    "* the initial and end dates from the dataset observations: "
   ]
  },
  {
   "cell_type": "code",
   "execution_count": 62,
   "metadata": {},
   "outputs": [
    {
     "name": "stdout",
     "output_type": "stream",
     "text": [
      "\r",
      "Waiting on bqjob_r41c049c3150c7962_00000164012866bc_1 ... (0s) Current status: DONE   "
     ]
    },
    {
     "data": {
      "text/html": [
       "<div>\n",
       "<style scoped>\n",
       "    .dataframe tbody tr th:only-of-type {\n",
       "        vertical-align: middle;\n",
       "    }\n",
       "\n",
       "    .dataframe tbody tr th {\n",
       "        vertical-align: top;\n",
       "    }\n",
       "\n",
       "    .dataframe thead th {\n",
       "        text-align: right;\n",
       "    }\n",
       "</style>\n",
       "<table border=\"1\" class=\"dataframe\">\n",
       "  <thead>\n",
       "    <tr style=\"text-align: right;\">\n",
       "      <th></th>\n",
       "      <th>first</th>\n",
       "      <th>last</th>\n",
       "    </tr>\n",
       "  </thead>\n",
       "  <tbody>\n",
       "    <tr>\n",
       "      <th>0</th>\n",
       "      <td>2013-08-29 09:08:00</td>\n",
       "      <td>2016-08-31 23:48:00</td>\n",
       "    </tr>\n",
       "  </tbody>\n",
       "</table>\n",
       "</div>"
      ],
      "text/plain": [
       "                 first                 last\n",
       "0  2013-08-29 09:08:00  2016-08-31 23:48:00"
      ]
     },
     "execution_count": 62,
     "metadata": {},
     "output_type": "execute_result"
    }
   ],
   "source": [
    "with open(\"trip_dates.txt\", \"w\") as f:\n",
    "    f.write('''\n",
    "    #standardSQL\n",
    "    SELECT\n",
    "      first,\n",
    "      last\n",
    "    FROM (\n",
    "      SELECT\n",
    "        MIN(start_date) AS first\n",
    "      FROM\n",
    "        `bigquery-public-data.san_francisco.bikeshare_trips`) AS head,\n",
    "      (\n",
    "      SELECT\n",
    "        MAX(end_date) AS last\n",
    "      FROM\n",
    "        `bigquery-public-data.san_francisco.bikeshare_trips`) AS tail''')\n",
    "    \n",
    "! cat trip_dates.txt | bq query --format=csv > trip_dates.csv\n",
    "\n",
    "trip_dates = pd.read_csv('trip_dates.csv')\n",
    "\n",
    "trip_dates\n",
    "\n"
   ]
  },
  {
   "cell_type": "markdown",
   "metadata": {},
   "source": [
    "* How many bikes there are:"
   ]
  },
  {
   "cell_type": "code",
   "execution_count": 64,
   "metadata": {
    "scrolled": false
   },
   "outputs": [
    {
     "name": "stdout",
     "output_type": "stream",
     "text": [
      "\r",
      "Waiting on bqjob_r5e5d96d31eac7d95_0000016401298ccc_1 ... (0s) Current status: DONE   "
     ]
    },
    {
     "data": {
      "text/plain": [
       "700"
      ]
     },
     "execution_count": 64,
     "metadata": {},
     "output_type": "execute_result"
    }
   ],
   "source": [
    "with open(\"bike_count.txt\", \"w\") as file:\n",
    "    file.write('''\n",
    "    SELECT\n",
    "      COUNT(DISTINCT bike_number) AS bike_count\n",
    "    FROM\n",
    "      `bigquery-public-data.san_francisco.bikeshare_trips`''')\n",
    "    \n",
    "! cat bike_count.txt | bq query --use_legacy_sql=false --format=csv > bike_count.csv\n",
    "\n",
    "bike_count = pd.read_csv(\"bike_count.csv\")['bike_count'][0]\n",
    "\n",
    "bike_count"
   ]
  },
  {
   "cell_type": "markdown",
   "metadata": {},
   "source": [
    "* How many trips are in the morning vs in the afternoon:"
   ]
  },
  {
   "cell_type": "code",
   "execution_count": 58,
   "metadata": {
    "scrolled": true
   },
   "outputs": [
    {
     "name": "stdout",
     "output_type": "stream",
     "text": [
      "Waiting on bqjob_r7cdeb542cb501eb1_00000163fcfd5a01_1 ... (1s) Current status: DONE   "
     ]
    },
    {
     "data": {
      "text/html": [
       "<div>\n",
       "<style scoped>\n",
       "    .dataframe tbody tr th:only-of-type {\n",
       "        vertical-align: middle;\n",
       "    }\n",
       "\n",
       "    .dataframe tbody tr th {\n",
       "        vertical-align: top;\n",
       "    }\n",
       "\n",
       "    .dataframe thead th {\n",
       "        text-align: right;\n",
       "    }\n",
       "</style>\n",
       "<table border=\"1\" class=\"dataframe\">\n",
       "  <thead>\n",
       "    <tr style=\"text-align: right;\">\n",
       "      <th></th>\n",
       "      <th>early_day</th>\n",
       "      <th>morning</th>\n",
       "      <th>afternoon</th>\n",
       "      <th>night</th>\n",
       "      <th>late_night</th>\n",
       "    </tr>\n",
       "  </thead>\n",
       "  <tbody>\n",
       "    <tr>\n",
       "      <th>0</th>\n",
       "      <td>7420</td>\n",
       "      <td>404919</td>\n",
       "      <td>264897</td>\n",
       "      <td>251942</td>\n",
       "      <td>54470</td>\n",
       "    </tr>\n",
       "  </tbody>\n",
       "</table>\n",
       "</div>"
      ],
      "text/plain": [
       "   early_day  morning  afternoon   night  late_night\n",
       "0       7420   404919     264897  251942       54470"
      ]
     },
     "execution_count": 58,
     "metadata": {},
     "output_type": "execute_result"
    }
   ],
   "source": [
    "with open(\"trips_periods.txt\", \"w\") as file:\n",
    "    file.write(\"\"\"\n",
    "    SELECT\n",
    "      early_day,\n",
    "      morning,\n",
    "      afternoon,\n",
    "      night,\n",
    "      late_night\n",
    "    FROM (\n",
    "      SELECT\n",
    "        COUNT(trip_id) AS early_day\n",
    "      FROM\n",
    "        `bigquery-public-data.san_francisco.bikeshare_trips`\n",
    "      WHERE\n",
    "        EXTRACT(hour FROM start_date) >= 0\n",
    "        AND EXTRACT(hour FROM start_date) < 5 ) AS early_day_query,\n",
    "        (\n",
    "      SELECT\n",
    "        COUNT(trip_id) AS morning\n",
    "      FROM\n",
    "        `bigquery-public-data.san_francisco.bikeshare_trips`\n",
    "      WHERE\n",
    "        EXTRACT(hour FROM start_date) >= 5\n",
    "        AND EXTRACT(hour FROM start_date) < 12 ) AS day_query,\n",
    "        (\n",
    "      SELECT\n",
    "        COUNT(trip_id) AS afternoon\n",
    "      FROM\n",
    "        `bigquery-public-data.san_francisco.bikeshare_trips`\n",
    "      WHERE\n",
    "        EXTRACT(hour FROM start_date) >= 12\n",
    "        AND EXTRACT(hour FROM start_date) < 17 ) AS early_afternoon,\n",
    "      (\n",
    "      SELECT\n",
    "        COUNT(trip_id) AS night\n",
    "      FROM\n",
    "        `bigquery-public-data.san_francisco.bikeshare_trips`\n",
    "      WHERE\n",
    "        EXTRACT(hour FROM start_date) >= 17\n",
    "        AND EXTRACT(hour FROM start_date) < 20 ) AS night_query,\n",
    "      (\n",
    "      SELECT\n",
    "        COUNT(trip_id) AS late_night\n",
    "      FROM\n",
    "        `bigquery-public-data.san_francisco.bikeshare_trips`\n",
    "      WHERE\n",
    "        EXTRACT(hour FROM start_date) >= 20\n",
    "        AND EXTRACT(hour FROM start_date) < 24 ) AS late_night_query\n",
    "        \"\"\")\n",
    "\n",
    "! cat trips_periods.txt | bq query --use_legacy_sql=false --format=csv > trips_periods.csv\n",
    "\n",
    "trips_periods = pd.read_csv(\"trips_periods.csv\")\n",
    "\n",
    "trips_periods\n",
    "    \n",
    "    "
   ]
  },
  {
   "cell_type": "markdown",
   "metadata": {},
   "source": [
    "It seems the preffered time for riding the shared bikes is between 5 and 12. One possible cause of this is a great amount of people using those bikes for commuting to work in the morning. The higher spread in the afternoon could be explained by flexible hours practiced in Bay Area, with people leaving work in different times, even after 20 sometimes. \n",
    "\n",
    "The idea of commuting to work encouraged one deeper analysis, focused on finding user profiles. This was developed in the following section."
   ]
  },
  {
   "cell_type": "markdown",
   "metadata": {},
   "source": [
    "## Data Analysis per category\n",
    "\n",
    "The first idea was to understand what was the users relationship with the company. Since two business models are used pinpointed in the dataset, the first step was to understand how they are distributed accross the users. According to one publication of 2013, when the service was first launched (see References - [1]), the customers could pay US\\$ 9 dollars for a day pass or US\\$ 22 for a 3 day pass and use the bikes for 30 minutes rides (extra 30 minutes cost US\\$ 4), while a subscriber would pay an annual fee of US$ 88 for unlimmited rides during the period. Therefore, customers were encourajed to pay the yearly rate case intend to use the service for more than 12 days in a year. Also, it is clear that the 30 minutes limit encourages commuting trips and no long sightseeing rides. These encouraged the first  analysis:\n",
    "\n",
    "* How long are the trips? Can we identify types of user based on trip times?\n",
    "\n",
    "To answer that question, 3 assumptions were made:\n",
    "\n",
    "* Trips with less then 3 minutes were disconsidered.\n",
    "* Trips with less then 30 minutes were considered commuting trips.\n",
    "* Trips with more then 30 minutes have leisure purposes, like turism and/or sightseeing.\n",
    "\n",
    "When we launched the first query againt the DB, it was clear that the 30 minutes limit does have an impact:"
   ]
  },
  {
   "cell_type": "code",
   "execution_count": 74,
   "metadata": {
    "scrolled": false
   },
   "outputs": [
    {
     "name": "stdout",
     "output_type": "stream",
     "text": [
      "\r",
      "Waiting on bqjob_r4cc882a94d312544_000001640158b81f_1 ... (0s) Current status: DONE   "
     ]
    },
    {
     "data": {
      "text/html": [
       "<div>\n",
       "<style scoped>\n",
       "    .dataframe tbody tr th:only-of-type {\n",
       "        vertical-align: middle;\n",
       "    }\n",
       "\n",
       "    .dataframe tbody tr th {\n",
       "        vertical-align: top;\n",
       "    }\n",
       "\n",
       "    .dataframe thead th {\n",
       "        text-align: right;\n",
       "    }\n",
       "</style>\n",
       "<table border=\"1\" class=\"dataframe\">\n",
       "  <thead>\n",
       "    <tr style=\"text-align: right;\">\n",
       "      <th></th>\n",
       "      <th>subscribers_commuter</th>\n",
       "      <th>subscribers_casual</th>\n",
       "      <th>customers_commuter</th>\n",
       "      <th>customers_casual</th>\n",
       "    </tr>\n",
       "  </thead>\n",
       "  <tbody>\n",
       "    <tr>\n",
       "      <th>0</th>\n",
       "      <td>82.27</td>\n",
       "      <td>0.54</td>\n",
       "      <td>9.51</td>\n",
       "      <td>4.27</td>\n",
       "    </tr>\n",
       "  </tbody>\n",
       "</table>\n",
       "</div>"
      ],
      "text/plain": [
       "   subscribers_commuter  subscribers_casual  customers_commuter  \\\n",
       "0                 82.27                0.54                9.51   \n",
       "\n",
       "   customers_casual  \n",
       "0              4.27  "
      ]
     },
     "execution_count": 74,
     "metadata": {},
     "output_type": "execute_result"
    }
   ],
   "source": [
    "with open(\"type_ratio.txt\", \"w\") as file:\n",
    "    file.write(\"\"\"\n",
    "SELECT\n",
    "  subscribers_commuter,\n",
    "  subscribers_casual,\n",
    "  customers_commuter,\n",
    "  customers_casual\n",
    "FROM (\n",
    "  SELECT\n",
    "    ROUND(COUNT(duration_sec)*100/(983648),2) AS subscribers_commuter\n",
    "  FROM\n",
    "    `bigquery-public-data.san_francisco.bikeshare_trips`\n",
    "  WHERE\n",
    "    duration_sec >= 180\n",
    "    AND duration_sec <= 1800\n",
    "    AND subscriber_type = \"Subscriber\" ) AS sub_com,\n",
    "  (\n",
    "  SELECT\n",
    "    ROUND(COUNT(duration_sec)*100/(983648),2) AS subscribers_casual\n",
    "  FROM\n",
    "    `bigquery-public-data.san_francisco.bikeshare_trips`\n",
    "  WHERE\n",
    "    duration_sec > 1800\n",
    "    AND subscriber_type = \"Subscriber\" ) AS sub_cas,\n",
    "  (\n",
    "  SELECT\n",
    "    ROUND(COUNT(duration_sec)*100/(983648),2) AS customers_commuter\n",
    "  FROM\n",
    "    `bigquery-public-data.san_francisco.bikeshare_trips`\n",
    "  WHERE\n",
    "    duration_sec >= 180\n",
    "    AND duration_sec <= 1800\n",
    "    AND subscriber_type = \"Customer\" ) AS cus_com,\n",
    "  (\n",
    "  SELECT\n",
    "    ROUND(COUNT(duration_sec)*100/(983648),2) AS customers_casual\n",
    "  FROM\n",
    "    `bigquery-public-data.san_francisco.bikeshare_trips`\n",
    "  WHERE\n",
    "    duration_sec > 1800\n",
    "    AND subscriber_type = \"Customer\" ) AS cus_cas\n",
    "\"\"\")\n",
    "\n",
    "! cat type_ratio.txt | bq query --use_legacy_sql=false --format=csv > type_ratio.csv\n",
    "\n",
    "type_ratio = pd.read_csv(\"type_ratio.csv\")\n",
    "\n",
    "type_ratio\n",
    "\n"
   ]
  },
  {
   "cell_type": "code",
   "execution_count": 78,
   "metadata": {},
   "outputs": [
    {
     "data": {
      "image/png": "[encoded data removed]",
      "text/plain": [
       "<Figure size 432x288 with 1 Axes>"
      ]
     },
     "metadata": {},
     "output_type": "display_data"
    }
   ],
   "source": [
    "plot_1 = type_ratio.plot(kind = 'bar')"
   ]
  },
  {
   "cell_type": "markdown",
   "metadata": {},
   "source": [
    "As we can see, the trips shorter than 30 minutes afrom subscribers (from now on defined commuting subscribers) were more than 80% of our data set, even with those users not subject to the 30 min limit. This enforces the sharing mindset from this user's community.\n",
    "\n",
    "For the customers, the 30 minutes limit have an impact, but not as impressive as expected, with approximatelly 1/3 of  customers trips being longer than that limit. For going deeper on the impact of the 30 minute penalty, we checked the average duration, in minutes, of those trips:"
   ]
  },
  {
   "cell_type": "code",
   "execution_count": 77,
   "metadata": {},
   "outputs": [
    {
     "name": "stdout",
     "output_type": "stream",
     "text": [
      "Waiting on bqjob_r114e79ea53cd0d10_0000016401636b9c_1 ... (0s) Current status: DONE   "
     ]
    },
    {
     "data": {
      "text/html": [
       "<div>\n",
       "<style scoped>\n",
       "    .dataframe tbody tr th:only-of-type {\n",
       "        vertical-align: middle;\n",
       "    }\n",
       "\n",
       "    .dataframe tbody tr th {\n",
       "        vertical-align: top;\n",
       "    }\n",
       "\n",
       "    .dataframe thead th {\n",
       "        text-align: right;\n",
       "    }\n",
       "</style>\n",
       "<table border=\"1\" class=\"dataframe\">\n",
       "  <thead>\n",
       "    <tr style=\"text-align: right;\">\n",
       "      <th></th>\n",
       "      <th>subscribers_commuter</th>\n",
       "      <th>subscribers_casual</th>\n",
       "      <th>customers_commuter</th>\n",
       "      <th>customers_casual</th>\n",
       "    </tr>\n",
       "  </thead>\n",
       "  <tbody>\n",
       "    <tr>\n",
       "      <th>0</th>\n",
       "      <td>9.0</td>\n",
       "      <td>172.0</td>\n",
       "      <td>15.0</td>\n",
       "      <td>169.0</td>\n",
       "    </tr>\n",
       "  </tbody>\n",
       "</table>\n",
       "</div>"
      ],
      "text/plain": [
       "   subscribers_commuter  subscribers_casual  customers_commuter  \\\n",
       "0                   9.0               172.0                15.0   \n",
       "\n",
       "   customers_casual  \n",
       "0             169.0  "
      ]
     },
     "execution_count": 77,
     "metadata": {},
     "output_type": "execute_result"
    }
   ],
   "source": [
    "with open(\"trip_duration.txt\", \"w\") as file:\n",
    "    file.write(\"\"\"\n",
    "SELECT\n",
    " subscribers_commuter,\n",
    " subscribers_casual,\n",
    " customers_commuter,\n",
    " customers_casual\n",
    "FROM (\n",
    " SELECT\n",
    "   ROUND(AVG(duration_sec)/60) AS subscribers_commuter\n",
    " FROM\n",
    "   `bigquery-public-data.san_francisco.bikeshare_trips`\n",
    " WHERE\n",
    "   duration_sec >= 180\n",
    "   AND duration_sec <= 1800\n",
    "   AND subscriber_type = \"Subscriber\" ) AS sub_com,\n",
    " (\n",
    " SELECT\n",
    "   ROUND(AVG(duration_sec)/60) AS subscribers_casual\n",
    " FROM\n",
    "   `bigquery-public-data.san_francisco.bikeshare_trips`\n",
    " WHERE\n",
    "   duration_sec > 1800\n",
    "   AND subscriber_type = \"Subscriber\" ) AS sub_cas,\n",
    " (\n",
    " SELECT\n",
    "   ROUND(AVG(duration_sec)/60) AS customers_commuter\n",
    " FROM\n",
    "   `bigquery-public-data.san_francisco.bikeshare_trips`\n",
    " WHERE\n",
    "   duration_sec >= 180\n",
    "   AND duration_sec <= 1800\n",
    "   AND subscriber_type = \"Customer\" ) AS cus_com,\n",
    " (\n",
    " SELECT\n",
    "   ROUND(AVG(duration_sec)/60) AS customers_casual\n",
    " FROM\n",
    "   `bigquery-public-data.san_francisco.bikeshare_trips`\n",
    " WHERE\n",
    "   duration_sec > 1800\n",
    "   AND subscriber_type = \"Customer\" ) AS cus_cas\n",
    "   --'\n",
    "\"\"\")\n",
    "! cat trip_duration.txt | bq query --use_legacy_sql=false --format=csv > trip_duration.csv\n",
    "\n",
    "trip_duration = pd.read_csv(\"trip_duration.csv\")\n",
    "\n",
    "trip_duration"
   ]
  },
  {
   "cell_type": "code",
   "execution_count": 79,
   "metadata": {},
   "outputs": [
    {
     "data": {
      "image/png": "[encoded data removed]",
      "text/plain": [
       "<Figure size 432x288 with 1 Axes>"
      ]
     },
     "metadata": {},
     "output_type": "display_data"
    }
   ],
   "source": [
    "plot_2 = trip_duration.plot(kind = 'bar')"
   ]
  },
  {
   "cell_type": "markdown",
   "metadata": {},
   "source": [
    "Therefore, regular customers spend substantially more time with the bikes, even when limited to 30 minutes, but after the 30 minutes limit is reached, both types of users tend to ride trips close to 3 hours, reinforcing the idea of leisure purposes. The hypothesis that some of the casual-labeled trips was actually for exercizing purposes was discarded due to the nature of the bikes, which can be seing in the picture:\n",
    "\n",
    "<img src=\"https://www.motivateco.com/wp-content/uploads/2016/09/Ford-GoBike_MTVweb.jpg\" alt=\"Drawing\" style=\"width: 600px;\"/>"
   ]
  },
  {
   "cell_type": "markdown",
   "metadata": {},
   "source": [
    "To continue exploring the differences between the user types, we verified which stations were preffered by each of the users, getting the top 5 stations for each one:\n"
   ]
  },
  {
   "cell_type": "code",
   "execution_count": 103,
   "metadata": {},
   "outputs": [
    {
     "name": "stdout",
     "output_type": "stream",
     "text": [
      "Waiting on bqjob_r472d1fb00e46141d_000001640191a557_1 ... (0s) Current status: DONE   "
     ]
    }
   ],
   "source": [
    "with open(\"subs_com_top_st.txt\", \"w\") as file:\n",
    "    file.write(\"\"\"\n",
    "  SELECT\n",
    "   start_station_name AS subscribers_commuters,\n",
    "   round(COUNT(trip_id)*100/983648,2) AS ct_st\n",
    " FROM\n",
    "   `bigquery-public-data.san_francisco.bikeshare_trips`\n",
    " WHERE\n",
    "   duration_sec >= 180\n",
    "   AND duration_sec <= 1800\n",
    "   AND subscriber_type = \"Subscriber\"\n",
    " GROUP BY\n",
    "   start_station_name\n",
    " ORDER BY\n",
    "   ct_st DESC\n",
    " LIMIT\n",
    "   5 \n",
    "\"\"\")\n",
    "    \n",
    "    \n",
    "with open(\"subs_cas_top_st.txt\", \"w\") as file:\n",
    "    file.write(\"\"\"\n",
    "  SELECT\n",
    "   start_station_name AS subscribber_casual,\n",
    "   round(COUNT(trip_id)*100/983648,2) AS ct_st\n",
    " FROM\n",
    "   `bigquery-public-data.san_francisco.bikeshare_trips`\n",
    " WHERE\n",
    "   duration_sec >= 1800\n",
    "   AND subscriber_type = \"Subscriber\"\n",
    " GROUP BY\n",
    "   start_station_name\n",
    " ORDER BY\n",
    "   ct_st DESC\n",
    " LIMIT\n",
    "   5 \n",
    "\"\"\")\n",
    "    \n",
    "    \n",
    "with open(\"cus_com_top_st.txt\", \"w\") as file:\n",
    "    file.write(\"\"\"\n",
    "  SELECT\n",
    "   start_station_name AS customer_commuters,\n",
    "   round(COUNT(trip_id)*100/983648,2) AS ct_st\n",
    " FROM\n",
    "   `bigquery-public-data.san_francisco.bikeshare_trips`\n",
    " WHERE\n",
    "   duration_sec >= 180\n",
    "   AND duration_sec <= 1800\n",
    "   AND subscriber_type = \"Customer\"\n",
    " GROUP BY\n",
    "   start_station_name\n",
    " ORDER BY\n",
    "   ct_st DESC\n",
    " LIMIT\n",
    "   5 \n",
    "\"\"\")\n",
    "    \n",
    "    \n",
    "with open(\"cus_cas_top_st.txt\", \"w\") as file:\n",
    "    file.write(\"\"\"\n",
    "  SELECT\n",
    "   start_station_name AS customer_casual,\n",
    "   round(COUNT(trip_id)*100/983648,2) AS ct_st\n",
    " FROM\n",
    "   `bigquery-public-data.san_francisco.bikeshare_trips`\n",
    " WHERE\n",
    "   duration_sec >= 1800\n",
    "   AND subscriber_type = \"Customer\"\n",
    " GROUP BY\n",
    "   start_station_name\n",
    " ORDER BY\n",
    "   ct_st DESC\n",
    " LIMIT\n",
    "   5 \n",
    "\"\"\")\n",
    "    \n",
    "    \n",
    "! cat subs_com_top_st.txt | bq query --use_legacy_sql=false --format=csv > subs_com_top_st.csv\n",
    "subs_com_top_st = pd.read_csv(\"subs_com_top_st.csv\")\n",
    "\n",
    "! cat subs_cas_top_st.txt | bq query --use_legacy_sql=false --format=csv > subs_cas_top_st.csv\n",
    "subs_cas_top_st = pd.read_csv(\"subs_cas_top_st.csv\")\n",
    "\n",
    "! cat cus_com_top_st.txt | bq query --use_legacy_sql=false --format=csv > cus_com_top_st.csv\n",
    "cus_com_top_st = pd.read_csv(\"cus_com_top_st.csv\")\n",
    "\n",
    "! cat cus_cas_top_st.txt | bq query --use_legacy_sql=false --format=csv > cus_cas_top_st.csv\n",
    "cus_cas_top_st = pd.read_csv(\"cus_cas_top_st.csv\")"
   ]
  },
  {
   "cell_type": "code",
   "execution_count": 86,
   "metadata": {},
   "outputs": [
    {
     "data": {
      "text/html": [
       "<div>\n",
       "<style scoped>\n",
       "    .dataframe tbody tr th:only-of-type {\n",
       "        vertical-align: middle;\n",
       "    }\n",
       "\n",
       "    .dataframe tbody tr th {\n",
       "        vertical-align: top;\n",
       "    }\n",
       "\n",
       "    .dataframe thead th {\n",
       "        text-align: right;\n",
       "    }\n",
       "</style>\n",
       "<table border=\"1\" class=\"dataframe\">\n",
       "  <thead>\n",
       "    <tr style=\"text-align: right;\">\n",
       "      <th></th>\n",
       "      <th>subscribers_commuters</th>\n",
       "      <th>ct_st</th>\n",
       "    </tr>\n",
       "  </thead>\n",
       "  <tbody>\n",
       "    <tr>\n",
       "      <th>0</th>\n",
       "      <td>San Francisco Caltrain (Townsend at 4th)</td>\n",
       "      <td>6.85</td>\n",
       "    </tr>\n",
       "    <tr>\n",
       "      <th>1</th>\n",
       "      <td>San Francisco Caltrain 2 (330 Townsend)</td>\n",
       "      <td>5.38</td>\n",
       "    </tr>\n",
       "    <tr>\n",
       "      <th>2</th>\n",
       "      <td>Temporary Transbay Terminal (Howard at Beale)</td>\n",
       "      <td>3.68</td>\n",
       "    </tr>\n",
       "    <tr>\n",
       "      <th>3</th>\n",
       "      <td>Harry Bridges Plaza (Ferry Building)</td>\n",
       "      <td>3.64</td>\n",
       "    </tr>\n",
       "    <tr>\n",
       "      <th>4</th>\n",
       "      <td>2nd at Townsend</td>\n",
       "      <td>3.49</td>\n",
       "    </tr>\n",
       "  </tbody>\n",
       "</table>\n",
       "</div>"
      ],
      "text/plain": [
       "                           subscribers_commuters  ct_st\n",
       "0       San Francisco Caltrain (Townsend at 4th)   6.85\n",
       "1        San Francisco Caltrain 2 (330 Townsend)   5.38\n",
       "2  Temporary Transbay Terminal (Howard at Beale)   3.68\n",
       "3           Harry Bridges Plaza (Ferry Building)   3.64\n",
       "4                                2nd at Townsend   3.49"
      ]
     },
     "execution_count": 86,
     "metadata": {},
     "output_type": "execute_result"
    }
   ],
   "source": [
    "subs_com_top_st"
   ]
  },
  {
   "cell_type": "code",
   "execution_count": 87,
   "metadata": {},
   "outputs": [
    {
     "data": {
      "text/html": [
       "<div>\n",
       "<style scoped>\n",
       "    .dataframe tbody tr th:only-of-type {\n",
       "        vertical-align: middle;\n",
       "    }\n",
       "\n",
       "    .dataframe tbody tr th {\n",
       "        vertical-align: top;\n",
       "    }\n",
       "\n",
       "    .dataframe thead th {\n",
       "        text-align: right;\n",
       "    }\n",
       "</style>\n",
       "<table border=\"1\" class=\"dataframe\">\n",
       "  <thead>\n",
       "    <tr style=\"text-align: right;\">\n",
       "      <th></th>\n",
       "      <th>subscribber_casual</th>\n",
       "      <th>ct_st</th>\n",
       "    </tr>\n",
       "  </thead>\n",
       "  <tbody>\n",
       "    <tr>\n",
       "      <th>0</th>\n",
       "      <td>Harry Bridges Plaza (Ferry Building)</td>\n",
       "      <td>0.03</td>\n",
       "    </tr>\n",
       "    <tr>\n",
       "      <th>1</th>\n",
       "      <td>San Francisco Caltrain (Townsend at 4th)</td>\n",
       "      <td>0.03</td>\n",
       "    </tr>\n",
       "    <tr>\n",
       "      <th>2</th>\n",
       "      <td>Market at Sansome</td>\n",
       "      <td>0.02</td>\n",
       "    </tr>\n",
       "    <tr>\n",
       "      <th>3</th>\n",
       "      <td>2nd at Townsend</td>\n",
       "      <td>0.02</td>\n",
       "    </tr>\n",
       "    <tr>\n",
       "      <th>4</th>\n",
       "      <td>Townsend at 7th</td>\n",
       "      <td>0.02</td>\n",
       "    </tr>\n",
       "  </tbody>\n",
       "</table>\n",
       "</div>"
      ],
      "text/plain": [
       "                         subscribber_casual  ct_st\n",
       "0      Harry Bridges Plaza (Ferry Building)   0.03\n",
       "1  San Francisco Caltrain (Townsend at 4th)   0.03\n",
       "2                         Market at Sansome   0.02\n",
       "3                           2nd at Townsend   0.02\n",
       "4                           Townsend at 7th   0.02"
      ]
     },
     "execution_count": 87,
     "metadata": {},
     "output_type": "execute_result"
    }
   ],
   "source": [
    "subs_cas_top_st"
   ]
  },
  {
   "cell_type": "code",
   "execution_count": 88,
   "metadata": {},
   "outputs": [
    {
     "data": {
      "text/html": [
       "<div>\n",
       "<style scoped>\n",
       "    .dataframe tbody tr th:only-of-type {\n",
       "        vertical-align: middle;\n",
       "    }\n",
       "\n",
       "    .dataframe tbody tr th {\n",
       "        vertical-align: top;\n",
       "    }\n",
       "\n",
       "    .dataframe thead th {\n",
       "        text-align: right;\n",
       "    }\n",
       "</style>\n",
       "<table border=\"1\" class=\"dataframe\">\n",
       "  <thead>\n",
       "    <tr style=\"text-align: right;\">\n",
       "      <th></th>\n",
       "      <th>customer_commuters</th>\n",
       "      <th>ct_st</th>\n",
       "    </tr>\n",
       "  </thead>\n",
       "  <tbody>\n",
       "    <tr>\n",
       "      <th>0</th>\n",
       "      <td>Embarcadero at Sansome</td>\n",
       "      <td>1.02</td>\n",
       "    </tr>\n",
       "    <tr>\n",
       "      <th>1</th>\n",
       "      <td>Harry Bridges Plaza (Ferry Building)</td>\n",
       "      <td>0.76</td>\n",
       "    </tr>\n",
       "    <tr>\n",
       "      <th>2</th>\n",
       "      <td>Market at 4th</td>\n",
       "      <td>0.40</td>\n",
       "    </tr>\n",
       "    <tr>\n",
       "      <th>3</th>\n",
       "      <td>2nd at Townsend</td>\n",
       "      <td>0.36</td>\n",
       "    </tr>\n",
       "    <tr>\n",
       "      <th>4</th>\n",
       "      <td>Powell at Post (Union Square)</td>\n",
       "      <td>0.35</td>\n",
       "    </tr>\n",
       "  </tbody>\n",
       "</table>\n",
       "</div>"
      ],
      "text/plain": [
       "                     customer_commuters  ct_st\n",
       "0                Embarcadero at Sansome   1.02\n",
       "1  Harry Bridges Plaza (Ferry Building)   0.76\n",
       "2                         Market at 4th   0.40\n",
       "3                       2nd at Townsend   0.36\n",
       "4         Powell at Post (Union Square)   0.35"
      ]
     },
     "execution_count": 88,
     "metadata": {},
     "output_type": "execute_result"
    }
   ],
   "source": [
    "cus_com_top_st"
   ]
  },
  {
   "cell_type": "code",
   "execution_count": 91,
   "metadata": {},
   "outputs": [
    {
     "data": {
      "text/html": [
       "<div>\n",
       "<style scoped>\n",
       "    .dataframe tbody tr th:only-of-type {\n",
       "        vertical-align: middle;\n",
       "    }\n",
       "\n",
       "    .dataframe tbody tr th {\n",
       "        vertical-align: top;\n",
       "    }\n",
       "\n",
       "    .dataframe thead th {\n",
       "        text-align: right;\n",
       "    }\n",
       "</style>\n",
       "<table border=\"1\" class=\"dataframe\">\n",
       "  <thead>\n",
       "    <tr style=\"text-align: right;\">\n",
       "      <th></th>\n",
       "      <th>customer_casual</th>\n",
       "      <th>ct_st</th>\n",
       "    </tr>\n",
       "  </thead>\n",
       "  <tbody>\n",
       "    <tr>\n",
       "      <th>0</th>\n",
       "      <td>Harry Bridges Plaza (Ferry Building)</td>\n",
       "      <td>0.50</td>\n",
       "    </tr>\n",
       "    <tr>\n",
       "      <th>1</th>\n",
       "      <td>Embarcadero at Sansome</td>\n",
       "      <td>0.38</td>\n",
       "    </tr>\n",
       "    <tr>\n",
       "      <th>2</th>\n",
       "      <td>Market at 4th</td>\n",
       "      <td>0.20</td>\n",
       "    </tr>\n",
       "    <tr>\n",
       "      <th>3</th>\n",
       "      <td>Embarcadero at Vallejo</td>\n",
       "      <td>0.18</td>\n",
       "    </tr>\n",
       "    <tr>\n",
       "      <th>4</th>\n",
       "      <td>Powell Street BART</td>\n",
       "      <td>0.17</td>\n",
       "    </tr>\n",
       "  </tbody>\n",
       "</table>\n",
       "</div>"
      ],
      "text/plain": [
       "                        customer_casual  ct_st\n",
       "0  Harry Bridges Plaza (Ferry Building)   0.50\n",
       "1                Embarcadero at Sansome   0.38\n",
       "2                         Market at 4th   0.20\n",
       "3                Embarcadero at Vallejo   0.18\n",
       "4                    Powell Street BART   0.17"
      ]
     },
     "execution_count": 91,
     "metadata": {},
     "output_type": "execute_result"
    }
   ],
   "source": [
    "cus_cas_top_st"
   ]
  },
  {
   "cell_type": "markdown",
   "metadata": {},
   "source": [
    "As observed, the subscribers that are commuting usually prefer stations related to public transportation hubs like Caltrain or Ferryboats. The regular customers, comprehensivelly, use stations near touristic such as Embarcadero at Sansome.\n",
    "\n",
    "Assuming that the start and end trips would have a certaing symmetry among commuters (one that uses the bike from A to B in the morning tends to use it from B to A in the afternoon), we decide not to do the same analisys for end stations, but to verify the top trips per user. The results were the following:\n"
   ]
  },
  {
   "cell_type": "code",
   "execution_count": 100,
   "metadata": {},
   "outputs": [
    {
     "name": "stdout",
     "output_type": "stream",
     "text": [
      "Waiting on bqjob_r11f612970583a5b0_00000164018f6a11_1 ... (0s) Current status: DONE   "
     ]
    }
   ],
   "source": [
    "with open(\"subs_com_top_trip.txt\", \"w\") as file:\n",
    "    file.write(\"\"\"\n",
    "    SELECT\n",
    "    concat(start_station_name,\" to \", end_station_name) AS subscriber_commuter,\n",
    "    COUNT(trip_id) AS ct_trip\n",
    "  FROM\n",
    "    `bigquery-public-data.san_francisco.bikeshare_trips`\n",
    "  WHERE\n",
    "    duration_sec >= 180\n",
    "    AND duration_sec <1800\n",
    "    AND subscriber_type = \"Subscriber\"\n",
    "  GROUP BY\n",
    "    subscriber_commuter\n",
    "  ORDER BY\n",
    "    ct_trip DESC\n",
    "  LIMIT\n",
    "    5 \n",
    "\"\"\")\n",
    "\n",
    "with open(\"subs_cas_top_trip.txt\", \"w\") as file:\n",
    "    file.write(\"\"\"\n",
    "    SELECT\n",
    "    concat(start_station_name,\" to \", end_station_name) AS subscriber_casual,\n",
    "    COUNT(trip_id) AS ct_trip\n",
    "  FROM\n",
    "    `bigquery-public-data.san_francisco.bikeshare_trips`\n",
    "  WHERE\n",
    "    duration_sec > 1800\n",
    "    AND subscriber_type = \"Subscriber\"\n",
    "  GROUP BY\n",
    "    subscriber_casual\n",
    "  ORDER BY\n",
    "    ct_trip DESC\n",
    "  LIMIT\n",
    "    5 \n",
    "\"\"\")\n",
    "               \n",
    "with open(\"cus_com_top_trip.txt\", \"w\") as file:\n",
    "    file.write(\"\"\"\n",
    "    SELECT\n",
    "    concat(start_station_name,\" to \", end_station_name) AS customer_commuter,\n",
    "    COUNT(trip_id) AS ct_trip\n",
    "  FROM\n",
    "    `bigquery-public-data.san_francisco.bikeshare_trips`\n",
    "  WHERE\n",
    "    duration_sec >= 180\n",
    "    AND duration_sec <1800\n",
    "    AND subscriber_type = \"Customer\"\n",
    "  GROUP BY\n",
    "    customer_commuter\n",
    "  ORDER BY\n",
    "    ct_trip DESC\n",
    "  LIMIT\n",
    "    5 \n",
    "\"\"\")\n",
    "\n",
    "with open(\"cus_cas_top_trip.txt\", \"w\") as file:\n",
    "    file.write(\"\"\"\n",
    "    SELECT\n",
    "    concat(start_station_name,\" to \", end_station_name) AS customer_casual,\n",
    "    COUNT(trip_id) AS ct_trip\n",
    "  FROM\n",
    "    `bigquery-public-data.san_francisco.bikeshare_trips`\n",
    "  WHERE\n",
    "    duration_sec > 1800\n",
    "    AND subscriber_type = \"Customer\"\n",
    "  GROUP BY\n",
    "    customer_casual\n",
    "  ORDER BY\n",
    "    ct_trip DESC\n",
    "  LIMIT\n",
    "    5 \n",
    "\"\"\")\n",
    "               \n",
    "! cat subs_com_top_trip.txt | bq query --use_legacy_sql=false --format=csv > subs_com_top_trip.csv\n",
    "subs_com_top_trip = pd.read_csv(\"subs_com_top_trip.csv\")\n",
    "\n",
    "! cat subs_cas_top_trip.txt | bq query --use_legacy_sql=false --format=csv > subs_cas_top_trip.csv\n",
    "subs_cas_top_trip = pd.read_csv(\"subs_cas_top_trip.csv\")\n",
    "\n",
    "! cat cus_com_top_trip.txt | bq query --use_legacy_sql=false --format=csv > cus_com_top_trip.csv\n",
    "cus_com_top_trip = pd.read_csv(\"cus_com_top_trip.csv\")\n",
    "\n",
    "! cat cus_cas_top_trip.txt | bq query --use_legacy_sql=false --format=csv > cus_cas_top_trip.csv\n",
    "cus_cas_top_trip = pd.read_csv(\"cus_cas_top_trip.csv\")"
   ]
  },
  {
   "cell_type": "code",
   "execution_count": 99,
   "metadata": {},
   "outputs": [
    {
     "data": {
      "text/html": [
       "<div>\n",
       "<style scoped>\n",
       "    .dataframe tbody tr th:only-of-type {\n",
       "        vertical-align: middle;\n",
       "    }\n",
       "\n",
       "    .dataframe tbody tr th {\n",
       "        vertical-align: top;\n",
       "    }\n",
       "\n",
       "    .dataframe thead th {\n",
       "        text-align: right;\n",
       "    }\n",
       "</style>\n",
       "<table border=\"1\" class=\"dataframe\">\n",
       "  <thead>\n",
       "    <tr style=\"text-align: right;\">\n",
       "      <th></th>\n",
       "      <th>subscriber_commuter</th>\n",
       "      <th>ct_trip</th>\n",
       "    </tr>\n",
       "  </thead>\n",
       "  <tbody>\n",
       "    <tr>\n",
       "      <th>0</th>\n",
       "      <td>San Francisco Caltrain 2 (330 Townsend) to Townsend at 7th</td>\n",
       "      <td>8045</td>\n",
       "    </tr>\n",
       "    <tr>\n",
       "      <th>1</th>\n",
       "      <td>2nd at Townsend to Harry Bridges Plaza (Ferry Building)</td>\n",
       "      <td>6912</td>\n",
       "    </tr>\n",
       "    <tr>\n",
       "      <th>2</th>\n",
       "      <td>Harry Bridges Plaza (Ferry Building) to 2nd at Townsend</td>\n",
       "      <td>6313</td>\n",
       "    </tr>\n",
       "    <tr>\n",
       "      <th>3</th>\n",
       "      <td>Embarcadero at Sansome to Steuart at Market</td>\n",
       "      <td>6190</td>\n",
       "    </tr>\n",
       "    <tr>\n",
       "      <th>4</th>\n",
       "      <td>Embarcadero at Folsom to San Francisco Caltrain (Townsend at 4th)</td>\n",
       "      <td>6149</td>\n",
       "    </tr>\n",
       "  </tbody>\n",
       "</table>\n",
       "</div>"
      ],
      "text/plain": [
       "                                                 subscriber_commuter  ct_trip\n",
       "0  San Francisco Caltrain 2 (330 Townsend) to Townsend at 7th         8045   \n",
       "1  2nd at Townsend to Harry Bridges Plaza (Ferry Building)            6912   \n",
       "2  Harry Bridges Plaza (Ferry Building) to 2nd at Townsend            6313   \n",
       "3  Embarcadero at Sansome to Steuart at Market                        6190   \n",
       "4  Embarcadero at Folsom to San Francisco Caltrain (Townsend at 4th)  6149   "
      ]
     },
     "execution_count": 99,
     "metadata": {},
     "output_type": "execute_result"
    }
   ],
   "source": [
    "subs_com_top_trip"
   ]
  },
  {
   "cell_type": "markdown",
   "metadata": {},
   "source": [
    "\n",
    "As already stated, subscribers tend to go from and to stations that are public transportation related.\n"
   ]
  },
  {
   "cell_type": "code",
   "execution_count": 101,
   "metadata": {},
   "outputs": [
    {
     "data": {
      "text/html": [
       "<div>\n",
       "<style scoped>\n",
       "    .dataframe tbody tr th:only-of-type {\n",
       "        vertical-align: middle;\n",
       "    }\n",
       "\n",
       "    .dataframe tbody tr th {\n",
       "        vertical-align: top;\n",
       "    }\n",
       "\n",
       "    .dataframe thead th {\n",
       "        text-align: right;\n",
       "    }\n",
       "</style>\n",
       "<table border=\"1\" class=\"dataframe\">\n",
       "  <thead>\n",
       "    <tr style=\"text-align: right;\">\n",
       "      <th></th>\n",
       "      <th>subscriber_casual</th>\n",
       "      <th>ct_trip</th>\n",
       "    </tr>\n",
       "  </thead>\n",
       "  <tbody>\n",
       "    <tr>\n",
       "      <th>0</th>\n",
       "      <td>Embarcadero at Sansome to Embarcadero at Sansome</td>\n",
       "      <td>54</td>\n",
       "    </tr>\n",
       "    <tr>\n",
       "      <th>1</th>\n",
       "      <td>Townsend at 7th to Townsend at 7th</td>\n",
       "      <td>50</td>\n",
       "    </tr>\n",
       "    <tr>\n",
       "      <th>2</th>\n",
       "      <td>2nd at South Park to 2nd at South Park</td>\n",
       "      <td>45</td>\n",
       "    </tr>\n",
       "    <tr>\n",
       "      <th>3</th>\n",
       "      <td>San Francisco Caltrain 2 (330 Townsend) to San Francisco Caltrain 2 (330 Townsend)</td>\n",
       "      <td>44</td>\n",
       "    </tr>\n",
       "    <tr>\n",
       "      <th>4</th>\n",
       "      <td>Market at Sansome to Market at Sansome</td>\n",
       "      <td>42</td>\n",
       "    </tr>\n",
       "  </tbody>\n",
       "</table>\n",
       "</div>"
      ],
      "text/plain": [
       "                                                                    subscriber_casual  \\\n",
       "0  Embarcadero at Sansome to Embarcadero at Sansome                                     \n",
       "1  Townsend at 7th to Townsend at 7th                                                   \n",
       "2  2nd at South Park to 2nd at South Park                                               \n",
       "3  San Francisco Caltrain 2 (330 Townsend) to San Francisco Caltrain 2 (330 Townsend)   \n",
       "4  Market at Sansome to Market at Sansome                                               \n",
       "\n",
       "   ct_trip  \n",
       "0  54       \n",
       "1  50       \n",
       "2  45       \n",
       "3  44       \n",
       "4  42       "
      ]
     },
     "execution_count": 101,
     "metadata": {},
     "output_type": "execute_result"
    }
   ],
   "source": [
    "subs_cas_top_trip"
   ]
  },
  {
   "cell_type": "markdown",
   "metadata": {},
   "source": [
    "However, when subscribers are in casual long trips, they tend to pick up and deliver the bikes on the same station, even if that kind of trip is not as common (note that we have 40 to 50 trips where this happened in three years of data)."
   ]
  },
  {
   "cell_type": "code",
   "execution_count": 102,
   "metadata": {
    "scrolled": true
   },
   "outputs": [
    {
     "data": {
      "text/html": [
       "<div>\n",
       "<style scoped>\n",
       "    .dataframe tbody tr th:only-of-type {\n",
       "        vertical-align: middle;\n",
       "    }\n",
       "\n",
       "    .dataframe tbody tr th {\n",
       "        vertical-align: top;\n",
       "    }\n",
       "\n",
       "    .dataframe thead th {\n",
       "        text-align: right;\n",
       "    }\n",
       "</style>\n",
       "<table border=\"1\" class=\"dataframe\">\n",
       "  <thead>\n",
       "    <tr style=\"text-align: right;\">\n",
       "      <th></th>\n",
       "      <th>customer_commuter</th>\n",
       "      <th>ct_trip</th>\n",
       "    </tr>\n",
       "  </thead>\n",
       "  <tbody>\n",
       "    <tr>\n",
       "      <th>0</th>\n",
       "      <td>Harry Bridges Plaza (Ferry Building) to Embarcadero at Sansome</td>\n",
       "      <td>2395</td>\n",
       "    </tr>\n",
       "    <tr>\n",
       "      <th>1</th>\n",
       "      <td>Embarcadero at Sansome to Harry Bridges Plaza (Ferry Building)</td>\n",
       "      <td>1423</td>\n",
       "    </tr>\n",
       "    <tr>\n",
       "      <th>2</th>\n",
       "      <td>Embarcadero at Sansome to Embarcadero at Sansome</td>\n",
       "      <td>867</td>\n",
       "    </tr>\n",
       "    <tr>\n",
       "      <th>3</th>\n",
       "      <td>Embarcadero at Vallejo to Embarcadero at Sansome</td>\n",
       "      <td>787</td>\n",
       "    </tr>\n",
       "    <tr>\n",
       "      <th>4</th>\n",
       "      <td>2nd at Townsend to Harry Bridges Plaza (Ferry Building)</td>\n",
       "      <td>638</td>\n",
       "    </tr>\n",
       "  </tbody>\n",
       "</table>\n",
       "</div>"
      ],
      "text/plain": [
       "                                                customer_commuter  ct_trip\n",
       "0  Harry Bridges Plaza (Ferry Building) to Embarcadero at Sansome  2395   \n",
       "1  Embarcadero at Sansome to Harry Bridges Plaza (Ferry Building)  1423   \n",
       "2  Embarcadero at Sansome to Embarcadero at Sansome                867    \n",
       "3  Embarcadero at Vallejo to Embarcadero at Sansome                787    \n",
       "4  2nd at Townsend to Harry Bridges Plaza (Ferry Building)         638    "
      ]
     },
     "execution_count": 102,
     "metadata": {},
     "output_type": "execute_result"
    }
   ],
   "source": [
    "cus_com_top_trip"
   ]
  },
  {
   "cell_type": "markdown",
   "metadata": {},
   "source": [
    "For regular customers in fast trips the trends are mixed and we have both different and same stations as the top 5 trips observed. The same trend is observed when analyzing customers in long trips:"
   ]
  },
  {
   "cell_type": "code",
   "execution_count": 104,
   "metadata": {},
   "outputs": [
    {
     "data": {
      "text/html": [
       "<div>\n",
       "<style scoped>\n",
       "    .dataframe tbody tr th:only-of-type {\n",
       "        vertical-align: middle;\n",
       "    }\n",
       "\n",
       "    .dataframe tbody tr th {\n",
       "        vertical-align: top;\n",
       "    }\n",
       "\n",
       "    .dataframe thead th {\n",
       "        text-align: right;\n",
       "    }\n",
       "</style>\n",
       "<table border=\"1\" class=\"dataframe\">\n",
       "  <thead>\n",
       "    <tr style=\"text-align: right;\">\n",
       "      <th></th>\n",
       "      <th>customer_casual</th>\n",
       "      <th>ct_trip</th>\n",
       "    </tr>\n",
       "  </thead>\n",
       "  <tbody>\n",
       "    <tr>\n",
       "      <th>0</th>\n",
       "      <td>Embarcadero at Sansome to Embarcadero at Sansome</td>\n",
       "      <td>1582</td>\n",
       "    </tr>\n",
       "    <tr>\n",
       "      <th>1</th>\n",
       "      <td>Harry Bridges Plaza (Ferry Building) to Harry Bridges Plaza (Ferry Building)</td>\n",
       "      <td>1485</td>\n",
       "    </tr>\n",
       "    <tr>\n",
       "      <th>2</th>\n",
       "      <td>Harry Bridges Plaza (Ferry Building) to Embarcadero at Sansome</td>\n",
       "      <td>1272</td>\n",
       "    </tr>\n",
       "    <tr>\n",
       "      <th>3</th>\n",
       "      <td>University and Emerson to University and Emerson</td>\n",
       "      <td>956</td>\n",
       "    </tr>\n",
       "    <tr>\n",
       "      <th>4</th>\n",
       "      <td>Market at 4th to Market at 4th</td>\n",
       "      <td>610</td>\n",
       "    </tr>\n",
       "  </tbody>\n",
       "</table>\n",
       "</div>"
      ],
      "text/plain": [
       "                                                                customer_casual  \\\n",
       "0  Embarcadero at Sansome to Embarcadero at Sansome                               \n",
       "1  Harry Bridges Plaza (Ferry Building) to Harry Bridges Plaza (Ferry Building)   \n",
       "2  Harry Bridges Plaza (Ferry Building) to Embarcadero at Sansome                 \n",
       "3  University and Emerson to University and Emerson                               \n",
       "4  Market at 4th to Market at 4th                                                 \n",
       "\n",
       "   ct_trip  \n",
       "0  1582     \n",
       "1  1485     \n",
       "2  1272     \n",
       "3  956      \n",
       "4  610      "
      ]
     },
     "execution_count": 104,
     "metadata": {},
     "output_type": "execute_result"
    }
   ],
   "source": [
    "cus_cas_top_trip"
   ]
  },
  {
   "cell_type": "markdown",
   "metadata": {},
   "source": [
    " The \"same station trend\" can be enforced when observing what is ratio of trips where the start and the end stations are the same:"
   ]
  },
  {
   "cell_type": "code",
   "execution_count": 105,
   "metadata": {},
   "outputs": [
    {
     "name": "stdout",
     "output_type": "stream",
     "text": [
      "Waiting on bqjob_r5f7e5b3198e65ae4_0000016401980996_1 ... (0s) Current status: DONE   "
     ]
    },
    {
     "data": {
      "text/html": [
       "<div>\n",
       "<style scoped>\n",
       "    .dataframe tbody tr th:only-of-type {\n",
       "        vertical-align: middle;\n",
       "    }\n",
       "\n",
       "    .dataframe tbody tr th {\n",
       "        vertical-align: top;\n",
       "    }\n",
       "\n",
       "    .dataframe thead th {\n",
       "        text-align: right;\n",
       "    }\n",
       "</style>\n",
       "<table border=\"1\" class=\"dataframe\">\n",
       "  <thead>\n",
       "    <tr style=\"text-align: right;\">\n",
       "      <th></th>\n",
       "      <th>subscribers_commuter</th>\n",
       "      <th>subscribers_casual</th>\n",
       "      <th>customers_commuter</th>\n",
       "      <th>customers_casual</th>\n",
       "    </tr>\n",
       "  </thead>\n",
       "  <tbody>\n",
       "    <tr>\n",
       "      <th>0</th>\n",
       "      <td>1.52</td>\n",
       "      <td>20.17</td>\n",
       "      <td>6.13</td>\n",
       "      <td>37.0</td>\n",
       "    </tr>\n",
       "  </tbody>\n",
       "</table>\n",
       "</div>"
      ],
      "text/plain": [
       "   subscribers_commuter  subscribers_casual  customers_commuter  \\\n",
       "0  1.52                  20.17               6.13                 \n",
       "\n",
       "   customers_casual  \n",
       "0  37.0              "
      ]
     },
     "execution_count": 105,
     "metadata": {},
     "output_type": "execute_result"
    }
   ],
   "source": [
    "with open(\"ratio_same_st.txt\", \"w\") as file:\n",
    "    file.write(\"\"\"\n",
    "SELECT\n",
    "  subscribers_commuter, --subscribers commuter trip count = \n",
    "  subscribers_casual, --subscribers casual trip count = \n",
    "  customers_commuter, --customer commuter trip count = \n",
    "  customers_casual --customer casual trip count = \n",
    "FROM (\n",
    "  SELECT\n",
    "    ROUND(count(trip_id)*100/809238,2) AS subscribers_commuter\n",
    "  FROM\n",
    "    `bike_trip_data.bikeshare_trips_dists`\n",
    "  WHERE\n",
    "    duration_sec >= 180\n",
    "    AND duration_sec <= 1800\n",
    "    AND start_station_id = end_station_id ) AS sub_com,\n",
    "  (\n",
    "  SELECT\n",
    "    ROUND(count(trip_id)*100/5324,2) AS subscribers_casual\n",
    "  FROM\n",
    "    `bike_trip_data.bikeshare_trips_dists`\n",
    "  WHERE\n",
    "    duration_sec >1800\n",
    "    AND subscriber_type = \"Subscriber\"\n",
    "    AND start_station_id = end_station_id ) AS sub_cas,\n",
    "  (\n",
    "  SELECT\n",
    "    ROUND(count(trip_id)*100/93528,2) AS customers_commuter\n",
    "  FROM\n",
    "    `bike_trip_data.bikeshare_trips_dists`\n",
    "  WHERE\n",
    "    duration_sec >= 180\n",
    "    AND duration_sec <= 1800\n",
    "    AND subscriber_type = \"Customer\"\n",
    "    AND start_station_id = end_station_id ) AS cus_com,\n",
    "  (\n",
    "  SELECT\n",
    "    ROUND(count(trip_id)*100/42013,2) AS customers_casual\n",
    "  FROM\n",
    "    `bike_trip_data.bikeshare_trips_dists`\n",
    "  WHERE\n",
    "    duration_sec > 1800\n",
    "    AND subscriber_type = \"Customer\"\n",
    "    AND start_station_id = end_station_id ) AS cus_cas\n",
    "\"\"\")\n",
    "    \n",
    "! cat ratio_same_st.txt | bq query --use_legacy_sql=false --format=csv > ratio_same_st.csv\n",
    "ratio_same_st = pd.read_csv(\"ratio_same_st.csv\")\n",
    "\n",
    "ratio_same_st"
   ]
  },
  {
   "cell_type": "code",
   "execution_count": 106,
   "metadata": {},
   "outputs": [
    {
     "data": {
      "image/png": "[encoded data removed]",
      "text/plain": [
       "<Figure size 432x288 with 1 Axes>"
      ]
     },
     "metadata": {},
     "output_type": "display_data"
    }
   ],
   "source": [
    "plot_3 = ratio_same_st.plot(kind = 'bar')"
   ]
  },
  {
   "cell_type": "markdown",
   "metadata": {},
   "source": [
    "Therefore, we can infer that more than 82% of the trips made with shared bikes from this particular company are made by customers that use bikes regularly and for short trips when commuting to work. However around 15% of the trips are made by casual customers, that do not pay for the annual subscription, but are more keen to have longer trips even with higher fees.\n",
    "\n",
    "The next step in this study would be develop strategies that could suite this two different types of users and increase the usage of the bikeshare service.\n",
    "\n",
    "\n",
    "\n",
    "## The Subscriber Commuter: \n",
    "\n",
    "As observed, this kind of user tend to use the bikes to go to specific stations, usually adjacent to public transportation hubs. Is is also clear that the bikeshare service was created with focus in this user, and the strategy seems to be successfull. \n",
    "\n",
    "One possible problem to this approach is that it may concentrate the bikes in those specific stations, causing a bottleneck in their business model and reducing the attractiveness of this service (based in high availability of the bikes). Approching this problem is not trivial and one hypothesis is to encourage the other types of users to make the station balance using promotions and e-gift cards. This may be addressed in the following sections.\n",
    "\n",
    "\n",
    "\n",
    "## The Leisure Rides:\n",
    "\n",
    "One assumption made earlier was that leisure rides were related to tourism in the Bay Area. In order to undertand how the relationship may be, we included in our dataset an extra table, with references to 12 known touristic points in the area and their coordinates."
   ]
  },
  {
   "cell_type": "code",
   "execution_count": 107,
   "metadata": {},
   "outputs": [],
   "source": [
    "with open(\"tour_pts_insert.txt\", \"w\") as file:\n",
    "    file.write('''\n",
    "-- The table touristic_points were previously created in the GUI of Google Big Query.\n",
    "-- the script that created that table was ommited for simplicity.\n",
    "-- the null rolls will be used ahead.\n",
    "    \n",
    "INSERT INTO\n",
    "  `bike_trip_data.touristic_points` (Id,\n",
    "    Name,\n",
    "    latitude,\n",
    "    longitude,\n",
    "    closest_st,\n",
    "    dist_closest_st)\n",
    " VALUES\n",
    "  (1, 'Golden Gate Brige', 37.807648, -122.474985,null,null),\n",
    "  (2, 'Alcatraz Landing', 37.806705, -122.405137,null,null),\n",
    "  (3, 'Fishermans Wharf', 37.808401, -122.410240,null,null),\n",
    "  (4, 'Golden Gate Park', 37.770550, -122.454269,null,null),\n",
    "  (5, 'Chinatown', 37.794121, -122.406987,null,null),\n",
    "  (6, 'Legion of Honor', 37.784793, -122.500395,null,null),\n",
    "  (7, 'California Academy of Sciences', 37.769525, -122.465719,null,null),\n",
    "  (8, 'de Young Fine Arts Museum', 37.772122, -122.469330,null,null),\n",
    "  (9, 'Museum of Modern Art', 37.785645, -122.401169,null,null),\n",
    "  (10,'Twin Peaks', 37.752340, -122.447558,null,null),\n",
    "  (11, 'AT&T Park', 37.778680, -122.388905,null,null),\n",
    "  (12, 'Ghirardelli Square', 37.805379, -122.422823,null,null)\n",
    "''')\n",
    "    \n",
    "! cat tour_pts_insert.txt | bq query --use_legacy_sql=false --format=csv > tour_pts_insert.csv\n"
   ]
  },
  {
   "cell_type": "markdown",
   "metadata": {},
   "source": [
    "The next step was to update the trips dataset to include the latitude and longitude for start and end stations. the possiblity of creating a JOIN with the bikeshare_stations table was discarded for simplicity and performance, avoinding several JOIN queries during this study over a one time update in the trip dataset."
   ]
  },
  {
   "cell_type": "code",
   "execution_count": null,
   "metadata": {},
   "outputs": [],
   "source": [
    "with open(\"coord_trips_insert.txt\", \"w\") as file:\n",
    "    file.write(\"\"\"\n",
    "-- the table bikeshare_trips from public datasets of Google BigQuery was copied into a private project\n",
    "-- the columns below were created using the web interface of GBQ and the scripts for that were ommited for simplicity\n",
    "\n",
    "\n",
    "UPDATE\n",
    "`bike_trip_data.bikeshare_trips_dists` AS trips\n",
    "SET\n",
    "  trips.start_st_lat = stations.latitude\n",
    "FROM\n",
    "  `bike_trip_data.bikeshare_stations_distances` AS stations\n",
    "WHERE\n",
    "  trips.start_station_id = stations.station_id\n",
    "\n",
    "UPDATE\n",
    "  `bike_trip_data.bikeshare_trips_dists` AS trips\n",
    "SET\n",
    "  trips.start_st_long = stations.longitude\n",
    "FROM\n",
    "  `bike_trip_data.bikeshare_stations_distances` AS stations\n",
    "WHERE\n",
    "  trips.start_station_id = stations.station_id\n",
    "\n",
    "UPDATE\n",
    "  `bike_trip_data.bikeshare_trips_dists` AS trips\n",
    "SET\n",
    "  trips.end_st_lat = stations.latitude\n",
    "FROM\n",
    "  `bike_trip_data.bikeshare_stations_distances` AS stations\n",
    "WHERE\n",
    "  trips.end_station_id = stations.station_id\n",
    "\n",
    "UPDATE\n",
    "  `bike_trip_data.bikeshare_trips_dists` AS trips\n",
    "SET\n",
    "  trips.end_st_long = stations.longitude\n",
    "FROM\n",
    "  `bike_trip_data.bikeshare_stations_distances` AS stations\n",
    "WHERE\n",
    "  trips.end_station_id = stations.station_id\n",
    "\"\"\")\n",
    "\n",
    "! cat coord_trips_insert.txt | bq query --use_legacy_sql=false --format=csv > coord_trips_insert.csv\n"
   ]
  },
  {
   "cell_type": "markdown",
   "metadata": {},
   "source": [
    "### Additional analysis: the average speed\n",
    "\n",
    "One interesting analysis that can be done with the new set of coordinates available in our dataset is the average distance of the rides. For simplicity, we decided to use direct distance between stations as a predictor of ridden distance. The trips with origin and end in the same station were also filtered out."
   ]
  },
  {
   "cell_type": "code",
   "execution_count": 109,
   "metadata": {},
   "outputs": [
    {
     "name": "stdout",
     "output_type": "stream",
     "text": [
      "Waiting on bqjob_r465b7fea49260ce5_0000016401b691a5_1 ... (1s) Current status: DONE   "
     ]
    },
    {
     "data": {
      "text/html": [
       "<div>\n",
       "<style scoped>\n",
       "    .dataframe tbody tr th:only-of-type {\n",
       "        vertical-align: middle;\n",
       "    }\n",
       "\n",
       "    .dataframe tbody tr th {\n",
       "        vertical-align: top;\n",
       "    }\n",
       "\n",
       "    .dataframe thead th {\n",
       "        text-align: right;\n",
       "    }\n",
       "</style>\n",
       "<table border=\"1\" class=\"dataframe\">\n",
       "  <thead>\n",
       "    <tr style=\"text-align: right;\">\n",
       "      <th></th>\n",
       "      <th>subscribers_commuter</th>\n",
       "      <th>subscribers_casual</th>\n",
       "      <th>customers_commuter</th>\n",
       "      <th>customers_casual</th>\n",
       "    </tr>\n",
       "  </thead>\n",
       "  <tbody>\n",
       "    <tr>\n",
       "      <th>0</th>\n",
       "      <td>1.42</td>\n",
       "      <td>1.7</td>\n",
       "      <td>1.47</td>\n",
       "      <td>1.62</td>\n",
       "    </tr>\n",
       "  </tbody>\n",
       "</table>\n",
       "</div>"
      ],
      "text/plain": [
       "   subscribers_commuter  subscribers_casual  customers_commuter  \\\n",
       "0  1.42                  1.7                 1.47                 \n",
       "\n",
       "   customers_casual  \n",
       "0  1.62              "
      ]
     },
     "execution_count": 109,
     "metadata": {},
     "output_type": "execute_result"
    }
   ],
   "source": [
    "with open(\"trips_distance.txt\", \"w\") as file:\n",
    "    file.write(\"\"\"\n",
    "    \n",
    "CREATE TEMP FUNCTION RADI(x FLOAT64) AS ( ACOS(-1) * x / 180 );\n",
    "CREATE TEMP FUNCTION RADIANS_TO_KM(x FLOAT64) AS ( 111.045 * 180 * x / ACOS(-1) );\n",
    "CREATE TEMP FUNCTION HAVERSINE(lat1 FLOAT64, long1 FLOAT64, lat2 FLOAT64, long2 FLOAT64) AS ( \n",
    "  RADIANS_TO_KM( \n",
    "   ACOS(COS(RADI(lat1)) * COS(RADI(lat2)) * \n",
    "   COS(RADI(long1) - RADI(long2)) + \n",
    "   SIN(RADI(lat1)) * SIN(RADI(lat2)))) \n",
    ");\n",
    "SELECT\n",
    "    subscribers_commuter,\n",
    "    subscribers_casual,\n",
    "    customers_commuter,\n",
    "    customers_casual\n",
    "FROM (\n",
    " SELECT\n",
    "   ROUND(AVG(HAVERSINE(START_st_lat,\n",
    "       START_st_long,\n",
    "       end_st_lat,\n",
    "       end_st_long)),2) AS subscribers_commuter\n",
    " FROM\n",
    "   `bike_trip_data.bikeshare_trips_dists`\n",
    " WHERE\n",
    "   duration_sec >= 180\n",
    "   AND duration_sec <= 1800\n",
    "   AND subscriber_type = \"Subscriber\"\n",
    "   AND START_st_lat != end_st_lat\n",
    "   AND start_st_long != end_st_long ) AS sub_com,\n",
    " (\n",
    " SELECT\n",
    "   ROUND(AVG(HAVERSINE(START_st_lat,\n",
    "       START_st_long,\n",
    "       end_st_lat,\n",
    "       end_st_long)),2) AS subscribers_casual\n",
    " FROM\n",
    "   `bike_trip_data.bikeshare_trips_dists`\n",
    " WHERE\n",
    "   duration_sec >1800\n",
    "   AND subscriber_type = \"Subscriber\"\n",
    "   AND START_st_lat != end_st_lat\n",
    "   AND start_st_long != end_st_long ) AS sub_cas,\n",
    " (\n",
    " SELECT\n",
    "   ROUND(AVG(HAVERSINE(start_st_lat,\n",
    "       start_st_long,\n",
    "       end_st_lat,\n",
    "       end_st_long)),2) AS customers_commuter\n",
    " FROM\n",
    "   `bike_trip_data.bikeshare_trips_dists`\n",
    " WHERE\n",
    "   duration_sec >= 180\n",
    "   AND duration_sec <= 1800\n",
    "   AND subscriber_type = \"Customer\"\n",
    "   AND START_st_lat != end_st_lat\n",
    "   AND start_st_long != end_st_long ) AS cus_com,\n",
    " (\n",
    "SELECT\n",
    "   ROUND(AVG(HAVERSINE(start_st_lat,\n",
    "       start_st_long,\n",
    "       end_st_lat,\n",
    "       end_st_long)),2) AS customers_casual\n",
    "FROM\n",
    "  `bike_trip_data.bikeshare_trips_dists`\n",
    "WHERE\n",
    "  duration_sec > 1800\n",
    "  AND subscriber_type = \"Customer\"\n",
    "  AND START_st_lat != end_st_lat\n",
    "  AND start_st_long != end_st_long ) AS cus_cas\n",
    "\"\"\")\n",
    "\n",
    "! cat trips_distance.txt | bq query --use_legacy_sql=false --format=csv > trips_distance.csv\n",
    "\n",
    "trips_distance = pd.read_csv(\"trips_distance.csv\")\n",
    "\n",
    "trips_distance\n"
   ]
  },
  {
   "cell_type": "markdown",
   "metadata": {},
   "source": [
    "We can see that the average distances in kilometers are roughly the same for all user types, although a small difference can be noted for casual rides. This result, once more, suggests that longe trips have leisure purposes, with bikers riding in a much slower average speed, in km/h:"
   ]
  },
  {
   "cell_type": "code",
   "execution_count": 111,
   "metadata": {},
   "outputs": [
    {
     "data": {
      "text/html": [
       "<div>\n",
       "<style scoped>\n",
       "    .dataframe tbody tr th:only-of-type {\n",
       "        vertical-align: middle;\n",
       "    }\n",
       "\n",
       "    .dataframe tbody tr th {\n",
       "        vertical-align: top;\n",
       "    }\n",
       "\n",
       "    .dataframe thead th {\n",
       "        text-align: right;\n",
       "    }\n",
       "</style>\n",
       "<table border=\"1\" class=\"dataframe\">\n",
       "  <thead>\n",
       "    <tr style=\"text-align: right;\">\n",
       "      <th></th>\n",
       "      <th>subscribers_commuter</th>\n",
       "      <th>subscribers_casual</th>\n",
       "      <th>customers_commuter</th>\n",
       "      <th>customers_casual</th>\n",
       "    </tr>\n",
       "  </thead>\n",
       "  <tbody>\n",
       "    <tr>\n",
       "      <th>0</th>\n",
       "      <td>9.466667</td>\n",
       "      <td>0.593023</td>\n",
       "      <td>5.88</td>\n",
       "      <td>0.575148</td>\n",
       "    </tr>\n",
       "  </tbody>\n",
       "</table>\n",
       "</div>"
      ],
      "text/plain": [
       "   subscribers_commuter  subscribers_casual  customers_commuter  \\\n",
       "0  9.466667              0.593023            5.88                 \n",
       "\n",
       "   customers_casual  \n",
       "0  0.575148          "
      ]
     },
     "execution_count": 111,
     "metadata": {},
     "output_type": "execute_result"
    }
   ],
   "source": [
    "average_speed = trips_distance/(trip_duration/60)\n",
    "average_speed"
   ]
  },
  {
   "cell_type": "code",
   "execution_count": 118,
   "metadata": {
    "scrolled": true
   },
   "outputs": [
    {
     "data": {
      "text/plain": [
       "<matplotlib.axes._subplots.AxesSubplot at 0x7ff7e5992cf8>"
      ]
     },
     "execution_count": 118,
     "metadata": {},
     "output_type": "execute_result"
    },
    {
     "data": {
      "image/png": "[encoded data removed]",
      "text/plain": [
       "<Figure size 432x288 with 1 Axes>"
      ]
     },
     "metadata": {},
     "output_type": "display_data"
    }
   ],
   "source": [
    "average_speed.plot(kind='barh')"
   ]
  },
  {
   "cell_type": "markdown",
   "metadata": {},
   "source": [
    "## Conclusion\n",
    "\n",
    "We can see that the commuting purpose was achieved in this bikesharing system, but ons business model that rely only in daily commuter may have some bottlenecks in peak times and stations.\n",
    "We also shown that some users are keen to use the bikes as leisure, riding longer periods and delivering bike at touristic stations.\n",
    "\n",
    "Our recommendation is to try to use the casual riders as logistic optmizers, giving free rides case they deliver the bikes in stations near public tranportations for later use."
   ]
  },
  {
   "cell_type": "markdown",
   "metadata": {},
   "source": [
    "### References:\n",
    "\n",
    "[1] CBS News 10/29/13: Bike Share Program Launched In 5 Bay Area Cities\n",
    "http://sanfrancisco.cbslocal.com/2013/08/29/bike-share-bay-area-cities/\n"
   ]
  }
 ],
 "metadata": {
  "kernelspec": {
   "display_name": "Python 3",
   "language": "python",
   "name": "python3"
  },
  "language_info": {
   "codemirror_mode": {
    "name": "ipython",
    "version": 3
   },
   "file_extension": ".py",
   "mimetype": "text/x-python",
   "name": "python",
   "nbconvert_exporter": "python",
   "pygments_lexer": "ipython3",
   "version": "3.5.2"
  }
 },
 "nbformat": 4,
 "nbformat_minor": 2
}
