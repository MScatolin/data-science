{
 "cells": [
  {
   "cell_type": "code",
   "execution_count": 47,
   "metadata": {
    "scrolled": true
   },
   "outputs": [
    {
     "data": {
      "text/plain": [
       "'C:\\\\Users\\\\sm_fe\\\\Google Drive\\\\Project 2'"
      ]
     },
     "execution_count": 47,
     "metadata": {},
     "output_type": "execute_result"
    }
   ],
   "source": [
    "pwd"
   ]
  },
  {
   "cell_type": "markdown",
   "metadata": {},
   "source": [
    "### Link to the folder on Google Drive containing all analysis:\n",
    "https://drive.google.com/drive/folders/1JpgXFBv_Aea01sGxWOGbQLVKJkWSBFKi?usp=sharing\n",
    "\n",
    "### link directly to the write up:\n",
    "https://docs.google.com/document/d/1CB9SenavvaYQF-jSgpW3mJaz6oLNWH6ddSpl8McpkCI/edit?usp=sharing"
   ]
  },
  {
   "cell_type": "code",
   "execution_count": 48,
   "metadata": {},
   "outputs": [
    {
     "data": {
      "text/html": [
       "<div>\n",
       "<style>\n",
       "    .dataframe thead tr:only-child th {\n",
       "        text-align: right;\n",
       "    }\n",
       "\n",
       "    .dataframe thead th {\n",
       "        text-align: left;\n",
       "    }\n",
       "\n",
       "    .dataframe tbody tr th {\n",
       "        vertical-align: top;\n",
       "    }\n",
       "</style>\n",
       "<table border=\"1\" class=\"dataframe\">\n",
       "  <thead>\n",
       "    <tr style=\"text-align: right;\">\n",
       "      <th></th>\n",
       "      <th>backers_count</th>\n",
       "      <th>blurb</th>\n",
       "      <th>category</th>\n",
       "      <th>converted_pledged_amount</th>\n",
       "      <th>country</th>\n",
       "      <th>created_at</th>\n",
       "      <th>creator</th>\n",
       "      <th>currency</th>\n",
       "      <th>currency_symbol</th>\n",
       "      <th>currency_trailing_code</th>\n",
       "      <th>current_currency</th>\n",
       "      <th>deadline</th>\n",
       "      <th>disable_communication</th>\n",
       "      <th>fx_rate</th>\n",
       "      <th>goal</th>\n",
       "      <th>id</th>\n",
       "      <th>is_starrable</th>\n",
       "      <th>launched_at</th>\n",
       "      <th>name</th>\n",
       "      <th>photo</th>\n",
       "      <th>pledged</th>\n",
       "      <th>profile</th>\n",
       "      <th>slug</th>\n",
       "      <th>source_url</th>\n",
       "      <th>spotlight</th>\n",
       "      <th>staff_pick</th>\n",
       "      <th>state</th>\n",
       "      <th>state_changed_at</th>\n",
       "      <th>static_usd_rate</th>\n",
       "      <th>urls</th>\n",
       "      <th>usd_pledged</th>\n",
       "      <th>usd_type</th>\n",
       "      <th>location</th>\n",
       "      <th>friends</th>\n",
       "      <th>is_backing</th>\n",
       "      <th>is_starred</th>\n",
       "      <th>permissions</th>\n",
       "    </tr>\n",
       "  </thead>\n",
       "  <tbody>\n",
       "    <tr>\n",
       "      <th>0</th>\n",
       "      <td>80</td>\n",
       "      <td>I will be an artist-in-residence at Elsewhere Studios this summer, where I will stretch my wings and see where I land!</td>\n",
       "      <td>{\"urls\":{\"web\":{\"discover\":\"http://www.kickstarter.com/discover/categories/art/mixed%20media\"}},\"color\":16760235,\"parent_id\":1,\"name\":\"Mixed Media\",\"id\":54,\"position\":6,\"slug\":\"art/mixed media\"}</td>\n",
       "      <td>3596</td>\n",
       "      <td>US</td>\n",
       "      <td>2012-01-07 20:55:05</td>\n",
       "      <td>{\"urls\":{\"web\":{\"user\":\"https://www.kickstarter.com/profile/hilaryemersonlay\"},\"api\":{\"user\":\"https://api.kickstarter.com/v1/users/483835381?signature=1518794258.f01f6dbe22f25adbfb1a0b9bf0637e8e49e1f0f6\"}},\"is_registered\":true,\"chosen_currency\":null,\"name\":\"Hilary Emerson Lay\",\"id\":483835381,\"avatar\":{\"small\":\"https://ksr-ugc.imgix.net/assets/006/295/961/cda3a0d11906c53f2e69bbfa51ec9700_original.jpg?w=160&amp;h=160&amp;fit=crop&amp;v=1461379194&amp;auto=format&amp;q=92&amp;s=57d3cf86b953b13877053a9eb0b7a3f2\",\"thumb\":\"https://ksr-ugc.imgix.net/assets/006/295/961/cda3a0d11906c53f2e69bbfa51ec9700_original.jpg?w=40&amp;h=40&amp;fit=crop&amp;v=1461379194&amp;auto=format&amp;q=92&amp;s=c82e792178047287b48a37d06ac26466\",\"medium\":\"https://ksr-ugc.imgix.net/assets/006/295/961/cda3a0d11906c53f2e69bbfa51ec9700_original.jpg?w=160&amp;h=160&amp;fit=crop&amp;v=1461379194&amp;auto=format&amp;q=92&amp;s=57d3cf86b953b13877053a9eb0b7a3f2\"},\"slug\":\"hilaryemersonlay\"}</td>\n",
       "      <td>USD</td>\n",
       "      <td>$</td>\n",
       "      <td>True</td>\n",
       "      <td>USD</td>\n",
       "      <td>2012-04-19 17:16:00</td>\n",
       "      <td>False</td>\n",
       "      <td>1.00</td>\n",
       "      <td>2,800.00</td>\n",
       "      <td>1562040083</td>\n",
       "      <td>False</td>\n",
       "      <td>2012-03-28 18:14:20</td>\n",
       "      <td>Elsewhere Studios artist-in-residency program!</td>\n",
       "      <td>{\"small\":\"https://ksr-ugc.imgix.net/assets/011/311/400/cda3a0d11906c53f2e69bbfa51ec9700_original.jpg?crop=faces&amp;w=160&amp;h=90&amp;fit=crop&amp;v=1463680809&amp;auto=format&amp;q=92&amp;s=bfbc30ad8a4c7082b6293519f9c436ab\",\"thumb\":\"https://ksr-ugc.imgix.net/assets/011/311/400/cda3a0d11906c53f2e69bbfa51ec9700_original.jpg?crop=faces&amp;w=48&amp;h=27&amp;fit=crop&amp;v=1463680809&amp;auto=format&amp;q=92&amp;s=8a3c0883a3f386bd1e9be12a158e5368\",\"1024x576\":\"https://ksr-ugc.imgix.net/assets/011/311/400/cda3a0d11906c53f2e69bbfa51ec9700_original.jpg?crop=faces&amp;w=1024&amp;h=576&amp;fit=crop&amp;v=1463680809&amp;auto=format&amp;q=92&amp;s=7e1a9ded6a91f25ffb69652c20b17633\",\"med\":\"https://ksr-ugc.imgix.net/assets/011/311/400/cda3a0d11906c53f2e69bbfa51ec9700_original.jpg?crop=faces&amp;w=272&amp;h=153&amp;fit=crop&amp;v=1463680809&amp;auto=format&amp;q=92&amp;s=77ca95158c27de0e31c3c931ab6dc55a\",\"key\":\"assets/011/311/400/cda3a0d11906c53f2e69bbfa51ec9700_original.jpg\",\"1536x864\":\"https://ksr-ugc.imgix.net/assets/011/311/400/cda3a0d11906c53f2e69bbfa51ec9700_original.jpg?crop=faces&amp;w=1552&amp;h=873&amp;fit=crop&amp;v=1463680809&amp;auto=format&amp;q=92&amp;s=e849392efcd453bd180efafa5c8e7fb7\",\"ed\":\"https://ksr-ugc.imgix.net/assets/011/311/400/cda3a0d11906c53f2e69bbfa51ec9700_original.jpg?crop=faces&amp;w=352&amp;h=198&amp;fit=crop&amp;v=1463680809&amp;auto=format&amp;q=92&amp;s=826fac0fbc596ab0b0241bf7f56860bc\",\"full\":\"https://ksr-ugc.imgix.net/assets/011/311/400/cda3a0d11906c53f2e69bbfa51ec9700_original.jpg?crop=faces&amp;w=560&amp;h=315&amp;fit=crop&amp;v=1463680809&amp;auto=format&amp;q=92&amp;s=eccd9a1a64ed6ed0111efcba340d116b\",\"little\":\"https://ksr-ugc.imgix.net/assets/011/311/400/cda3a0d11906c53f2e69bbfa51ec9700_original.jpg?crop=faces&amp;w=208&amp;h=117&amp;fit=crop&amp;v=1463680809&amp;auto=format&amp;q=92&amp;s=1e7f3e26c7f9194ed410b052186fa1ca\"}</td>\n",
       "      <td>3,596.00</td>\n",
       "      <td>{\"background_image_opacity\":0.8,\"should_show_feature_image_section\":true,\"link_text_color\":null,\"state_changed_at\":1425915804,\"blurb\":null,\"background_color\":null,\"project_id\":69198,\"name\":null,\"feature_image_attributes\":{\"image_urls\":{\"default\":\"https://ksr-ugc.imgix.net/assets/011/311/400/cda3a0d11906c53f2e69bbfa51ec9700_original.jpg?crop=faces&amp;w=1552&amp;h=873&amp;fit=crop&amp;v=1463680809&amp;auto=format&amp;q=92&amp;s=e849392efcd453bd180efafa5c8e7fb7\",\"baseball_card\":\"https://ksr-ugc.imgix.net/assets/011/311/400/cda3a0d11906c53f2e69bbfa51ec9700_original.jpg?crop=faces&amp;w=560&amp;h=315&amp;fit=crop&amp;v=1463680809&amp;auto=format&amp;q=92&amp;s=eccd9a1a64ed6ed0111efcba340d116b\"}},\"link_url\":null,\"show_feature_image\":false,\"id\":69198,\"state\":\"inactive\",\"text_color\":null,\"link_text\":null,\"link_background_color\":null}</td>\n",
       "      <td>elsewhere-studios-artist-in-residency-program</td>\n",
       "      <td>https://www.kickstarter.com/discover/categories/art</td>\n",
       "      <td>True</td>\n",
       "      <td>False</td>\n",
       "      <td>successful</td>\n",
       "      <td>2012-04-19 17:16:00</td>\n",
       "      <td>1.00</td>\n",
       "      <td>{\"web\":{\"project\":\"https://www.kickstarter.com/projects/hilaryemersonlay/elsewhere-studios-artist-in-residency-program?ref=category_newest\",\"rewards\":\"https://www.kickstarter.com/projects/hilaryemersonlay/elsewhere-studios-artist-in-residency-program/rewards\"}}</td>\n",
       "      <td>3,596.00</td>\n",
       "      <td>domestic</td>\n",
       "      <td>{\"country\":\"US\",\"urls\":{\"web\":{\"discover\":\"https://www.kickstarter.com/discover/places/paonia-co\",\"location\":\"https://www.kickstarter.com/locations/paonia-co\"},\"api\":{\"nearby_projects\":\"https://api.kickstarter.com/v1/discover?signature=1518753993.05a59c69a5b76a1e1c451c4b1bc0c8b5cf840cc7&amp;woe_id=2468066\"}},\"name\":\"Paonia\",\"displayable_name\":\"Paonia, CO\",\"short_name\":\"Paonia, CO\",\"id\":2468066,\"state\":\"CO\",\"type\":\"Town\",\"is_root\":false,\"slug\":\"paonia-co\",\"localized_name\":\"Paonia\"}</td>\n",
       "      <td>NaN</td>\n",
       "      <td>NaN</td>\n",
       "      <td>NaN</td>\n",
       "      <td>NaN</td>\n",
       "    </tr>\n",
       "    <tr>\n",
       "      <th>1</th>\n",
       "      <td>47</td>\n",
       "      <td>We are looking to bring a Visiting Sculptor from the Ivory Coast to work with our students to create a sculpture of MLK for our campus.</td>\n",
       "      <td>{\"urls\":{\"web\":{\"discover\":\"http://www.kickstarter.com/discover/categories/art\"}},\"color\":16760235,\"name\":\"Art\",\"id\":1,\"position\":1,\"slug\":\"art\"}</td>\n",
       "      <td>4117</td>\n",
       "      <td>US</td>\n",
       "      <td>2012-03-02 19:29:22</td>\n",
       "      <td>{\"urls\":{\"web\":{\"user\":\"https://www.kickstarter.com/profile/1536850207\"},\"api\":{\"user\":\"https://api.kickstarter.com/v1/users/1536850207?signature=1518794258.7c406b5cd1138f2cf1fc9ae693ba91862acc7881\"}},\"is_registered\":true,\"chosen_currency\":null,\"name\":\"Csub Arts Humanities Matter\",\"id\":1536850207,\"avatar\":{\"small\":\"https://ksr-ugc.imgix.net/assets/006/416/003/5ad34bdcdda7d57d1037b2a9044c0105_original.jpg?w=160&amp;h=160&amp;fit=crop&amp;v=1461387504&amp;auto=format&amp;q=92&amp;s=b4b5512eb0c5c457062385a85ca7b335\",\"thumb\":\"https://ksr-ugc.imgix.net/assets/006/416/003/5ad34bdcdda7d57d1037b2a9044c0105_original.jpg?w=40&amp;h=40&amp;fit=crop&amp;v=1461387504&amp;auto=format&amp;q=92&amp;s=897759ae926ff6f3413a50fec3c71400\",\"medium\":\"https://ksr-ugc.imgix.net/assets/006/416/003/5ad34bdcdda7d57d1037b2a9044c0105_original.jpg?w=160&amp;h=160&amp;fit=crop&amp;v=1461387504&amp;auto=format&amp;q=92&amp;s=b4b5512eb0c5c457062385a85ca7b335\"}}</td>\n",
       "      <td>USD</td>\n",
       "      <td>$</td>\n",
       "      <td>True</td>\n",
       "      <td>USD</td>\n",
       "      <td>2012-04-20 19:06:38</td>\n",
       "      <td>False</td>\n",
       "      <td>1.00</td>\n",
       "      <td>3,900.00</td>\n",
       "      <td>1437561817</td>\n",
       "      <td>False</td>\n",
       "      <td>2012-03-28 19:06:38</td>\n",
       "      <td>Martin Luther King Jr. Sculpture on Campus!</td>\n",
       "      <td>{\"small\":\"https://ksr-ugc.imgix.net/assets/011/323/164/760ad5b62194c1c415c684721a69b02b_original.png?crop=faces&amp;w=160&amp;h=90&amp;fit=crop&amp;v=1463681009&amp;auto=format&amp;q=92&amp;s=a063c4950290059118ce35be1db43092\",\"thumb\":\"https://ksr-ugc.imgix.net/assets/011/323/164/760ad5b62194c1c415c684721a69b02b_original.png?crop=faces&amp;w=48&amp;h=27&amp;fit=crop&amp;v=1463681009&amp;auto=format&amp;q=92&amp;s=96266579771ecc71e5b18797fff0fa2c\",\"1024x576\":\"https://ksr-ugc.imgix.net/assets/011/323/164/760ad5b62194c1c415c684721a69b02b_original.png?crop=faces&amp;w=1024&amp;h=576&amp;fit=crop&amp;v=1463681009&amp;auto=format&amp;q=92&amp;s=3691eaa13a379a337de608a2cf347d98\",\"med\":\"https://ksr-ugc.imgix.net/assets/011/323/164/760ad5b62194c1c415c684721a69b02b_original.png?crop=faces&amp;w=272&amp;h=153&amp;fit=crop&amp;v=1463681009&amp;auto=format&amp;q=92&amp;s=4158639a06370371c8a243f430f2c4b0\",\"key\":\"assets/011/323/164/760ad5b62194c1c415c684721a69b02b_original.png\",\"1536x864\":\"https://ksr-ugc.imgix.net/assets/011/323/164/760ad5b62194c1c415c684721a69b02b_original.png?crop=faces&amp;w=1552&amp;h=873&amp;fit=crop&amp;v=1463681009&amp;auto=format&amp;q=92&amp;s=b3b472ac5397fc3887b0042d9a2d44be\",\"ed\":\"https://ksr-ugc.imgix.net/assets/011/323/164/760ad5b62194c1c415c684721a69b02b_original.png?crop=faces&amp;w=352&amp;h=198&amp;fit=crop&amp;v=1463681009&amp;auto=format&amp;q=92&amp;s=6586071ad0fd9befd468bf217b7c6d88\",\"full\":\"https://ksr-ugc.imgix.net/assets/011/323/164/760ad5b62194c1c415c684721a69b02b_original.png?crop=faces&amp;w=560&amp;h=315&amp;fit=crop&amp;v=1463681009&amp;auto=format&amp;q=92&amp;s=cc82909b42320248f7c256911ef5c10b\",\"little\":\"https://ksr-ugc.imgix.net/assets/011/323/164/760ad5b62194c1c415c684721a69b02b_original.png?crop=faces&amp;w=208&amp;h=117&amp;fit=crop&amp;v=1463681009&amp;auto=format&amp;q=92&amp;s=7ecd5728a28d4dca15bfae34b92014a8\"}</td>\n",
       "      <td>4,117.00</td>\n",
       "      <td>{\"background_image_opacity\":0.8,\"should_show_feature_image_section\":true,\"link_text_color\":null,\"state_changed_at\":1425915805,\"blurb\":null,\"background_color\":null,\"project_id\":88068,\"name\":null,\"feature_image_attributes\":{\"image_urls\":{\"default\":\"https://ksr-ugc.imgix.net/assets/011/323/164/760ad5b62194c1c415c684721a69b02b_original.png?crop=faces&amp;w=1552&amp;h=873&amp;fit=crop&amp;v=1463681009&amp;auto=format&amp;q=92&amp;s=b3b472ac5397fc3887b0042d9a2d44be\",\"baseball_card\":\"https://ksr-ugc.imgix.net/assets/011/323/164/760ad5b62194c1c415c684721a69b02b_original.png?crop=faces&amp;w=560&amp;h=315&amp;fit=crop&amp;v=1463681009&amp;auto=format&amp;q=92&amp;s=cc82909b42320248f7c256911ef5c10b\"}},\"link_url\":null,\"show_feature_image\":false,\"id\":88068,\"state\":\"inactive\",\"text_color\":null,\"link_text\":null,\"link_background_color\":null}</td>\n",
       "      <td>martin-luther-king-jr-sculpture-on-campus</td>\n",
       "      <td>https://www.kickstarter.com/discover/categories/art</td>\n",
       "      <td>True</td>\n",
       "      <td>False</td>\n",
       "      <td>successful</td>\n",
       "      <td>2012-04-20 19:06:38</td>\n",
       "      <td>1.00</td>\n",
       "      <td>{\"web\":{\"project\":\"https://www.kickstarter.com/projects/1536850207/martin-luther-king-jr-sculpture-on-campus?ref=category_newest\",\"rewards\":\"https://www.kickstarter.com/projects/1536850207/martin-luther-king-jr-sculpture-on-campus/rewards\"}}</td>\n",
       "      <td>4,117.00</td>\n",
       "      <td>domestic</td>\n",
       "      <td>{\"country\":\"US\",\"urls\":{\"web\":{\"discover\":\"https://www.kickstarter.com/discover/places/bakersfield-ca\",\"location\":\"https://www.kickstarter.com/locations/bakersfield-ca\"},\"api\":{\"nearby_projects\":\"https://api.kickstarter.com/v1/discover?signature=1518753980.64bc28ccbbd8bafb6f60a6e3619e53d837b5624c&amp;woe_id=2358492\"}},\"name\":\"Bakersfield\",\"displayable_name\":\"Bakersfield, CA\",\"short_name\":\"Bakersfield, CA\",\"id\":2358492,\"state\":\"CA\",\"type\":\"Town\",\"is_root\":false,\"slug\":\"bakersfield-ca\",\"localized_name\":\"Bakersfield\"}</td>\n",
       "      <td>NaN</td>\n",
       "      <td>NaN</td>\n",
       "      <td>NaN</td>\n",
       "      <td>NaN</td>\n",
       "    </tr>\n",
       "    <tr>\n",
       "      <th>2</th>\n",
       "      <td>80</td>\n",
       "      <td>Surrealistic oil paintings capturing the metamorphosis of organic forms springing to life.</td>\n",
       "      <td>{\"urls\":{\"web\":{\"discover\":\"http://www.kickstarter.com/discover/categories/art/painting\"}},\"color\":16760235,\"parent_id\":1,\"name\":\"Painting\",\"id\":23,\"position\":7,\"slug\":\"art/painting\"}</td>\n",
       "      <td>3125</td>\n",
       "      <td>US</td>\n",
       "      <td>2012-03-24 11:16:07</td>\n",
       "      <td>{\"urls\":{\"web\":{\"user\":\"https://www.kickstarter.com/profile/2039713907\"},\"api\":{\"user\":\"https://api.kickstarter.com/v1/users/2039713907?signature=1518794258.a5261010d91ef8939678f5d33dbe9b8bb545f870\"}},\"is_registered\":true,\"chosen_currency\":null,\"name\":\"J.J. Long\",\"id\":2039713907,\"avatar\":{\"small\":\"https://ksr-ugc.imgix.net/assets/006/464/945/67c088f0d0b43d34f7c6cd7b8b9b58ef_original.jpg?w=160&amp;h=160&amp;fit=crop&amp;v=1461390406&amp;auto=format&amp;q=92&amp;s=4d63baa12ed930d76dc67882db156597\",\"thumb\":\"https://ksr-ugc.imgix.net/assets/006/464/945/67c088f0d0b43d34f7c6cd7b8b9b58ef_original.jpg?w=40&amp;h=40&amp;fit=crop&amp;v=1461390406&amp;auto=format&amp;q=92&amp;s=7209d571b539895841e6669bf6bf0d01\",\"medium\":\"https://ksr-ugc.imgix.net/assets/006/464/945/67c088f0d0b43d34f7c6cd7b8b9b58ef_original.jpg?w=160&amp;h=160&amp;fit=crop&amp;v=1461390406&amp;auto=format&amp;q=92&amp;s=4d63baa12ed930d76dc67882db156597\"}}</td>\n",
       "      <td>USD</td>\n",
       "      <td>$</td>\n",
       "      <td>True</td>\n",
       "      <td>USD</td>\n",
       "      <td>2012-04-17 00:59:00</td>\n",
       "      <td>False</td>\n",
       "      <td>1.00</td>\n",
       "      <td>750.00</td>\n",
       "      <td>574125813</td>\n",
       "      <td>False</td>\n",
       "      <td>2012-03-28 20:01:19</td>\n",
       "      <td>EMERGENCE: Surreal Oil Paintings by J.J. Long</td>\n",
       "      <td>{\"small\":\"https://ksr-ugc.imgix.net/assets/011/335/247/4854ca6d945dd599ecdf46a5561ca9f2_original.jpg?crop=faces&amp;w=160&amp;h=90&amp;fit=crop&amp;v=1463681182&amp;auto=format&amp;q=92&amp;s=91c2d468084d1df88d0dfe8cfd938af9\",\"thumb\":\"https://ksr-ugc.imgix.net/assets/011/335/247/4854ca6d945dd599ecdf46a5561ca9f2_original.jpg?crop=faces&amp;w=48&amp;h=27&amp;fit=crop&amp;v=1463681182&amp;auto=format&amp;q=92&amp;s=e6316cf895b8fc17dc01bec33fb5bea0\",\"1024x576\":\"https://ksr-ugc.imgix.net/assets/011/335/247/4854ca6d945dd599ecdf46a5561ca9f2_original.jpg?crop=faces&amp;w=1024&amp;h=576&amp;fit=crop&amp;v=1463681182&amp;auto=format&amp;q=92&amp;s=8fb124fa29b622053d3aaa60167892f7\",\"med\":\"https://ksr-ugc.imgix.net/assets/011/335/247/4854ca6d945dd599ecdf46a5561ca9f2_original.jpg?crop=faces&amp;w=272&amp;h=153&amp;fit=crop&amp;v=1463681182&amp;auto=format&amp;q=92&amp;s=cd31677dde69260e08ddeb7fb7394c8c\",\"key\":\"assets/011/335/247/4854ca6d945dd599ecdf46a5561ca9f2_original.jpg\",\"1536x864\":\"https://ksr-ugc.imgix.net/assets/011/335/247/4854ca6d945dd599ecdf46a5561ca9f2_original.jpg?crop=faces&amp;w=1552&amp;h=873&amp;fit=crop&amp;v=1463681182&amp;auto=format&amp;q=92&amp;s=3a73418b8ca959959392b8a9c335fb94\",\"ed\":\"https://ksr-ugc.imgix.net/assets/011/335/247/4854ca6d945dd599ecdf46a5561ca9f2_original.jpg?crop=faces&amp;w=352&amp;h=198&amp;fit=crop&amp;v=1463681182&amp;auto=format&amp;q=92&amp;s=aa6b510ff92937aa1dbe5246a9a71ee2\",\"full\":\"https://ksr-ugc.imgix.net/assets/011/335/247/4854ca6d945dd599ecdf46a5561ca9f2_original.jpg?crop=faces&amp;w=560&amp;h=315&amp;fit=crop&amp;v=1463681182&amp;auto=format&amp;q=92&amp;s=3d5ad14e116fe11a4bad72b114dbf436\",\"little\":\"https://ksr-ugc.imgix.net/assets/011/335/247/4854ca6d945dd599ecdf46a5561ca9f2_original.jpg?crop=faces&amp;w=208&amp;h=117&amp;fit=crop&amp;v=1463681182&amp;auto=format&amp;q=92&amp;s=19706aa3adb849222f0b7f7f35b27a62\"}</td>\n",
       "      <td>3,125.00</td>\n",
       "      <td>{\"background_image_opacity\":0.8,\"should_show_feature_image_section\":true,\"link_text_color\":null,\"state_changed_at\":1425915807,\"blurb\":null,\"background_color\":null,\"project_id\":115925,\"name\":null,\"feature_image_attributes\":{\"image_urls\":{\"default\":\"https://ksr-ugc.imgix.net/assets/011/335/247/4854ca6d945dd599ecdf46a5561ca9f2_original.jpg?crop=faces&amp;w=1552&amp;h=873&amp;fit=crop&amp;v=1463681182&amp;auto=format&amp;q=92&amp;s=3a73418b8ca959959392b8a9c335fb94\",\"baseball_card\":\"https://ksr-ugc.imgix.net/assets/011/335/247/4854ca6d945dd599ecdf46a5561ca9f2_original.jpg?crop=faces&amp;w=560&amp;h=315&amp;fit=crop&amp;v=1463681182&amp;auto=format&amp;q=92&amp;s=3d5ad14e116fe11a4bad72b114dbf436\"}},\"link_url\":null,\"show_feature_image\":false,\"id\":115925,\"state\":\"inactive\",\"text_color\":null,\"link_text\":null,\"link_background_color\":null}</td>\n",
       "      <td>emergence-surreal-oil-paintings-by-jj-long</td>\n",
       "      <td>https://www.kickstarter.com/discover/categories/art</td>\n",
       "      <td>True</td>\n",
       "      <td>False</td>\n",
       "      <td>successful</td>\n",
       "      <td>2012-04-17 00:59:03</td>\n",
       "      <td>1.00</td>\n",
       "      <td>{\"web\":{\"project\":\"https://www.kickstarter.com/projects/2039713907/emergence-surreal-oil-paintings-by-jj-long?ref=category_newest\",\"rewards\":\"https://www.kickstarter.com/projects/2039713907/emergence-surreal-oil-paintings-by-jj-long/rewards\"}}</td>\n",
       "      <td>3,125.00</td>\n",
       "      <td>domestic</td>\n",
       "      <td>{\"country\":\"US\",\"urls\":{\"web\":{\"discover\":\"https://www.kickstarter.com/discover/places/lowell-ma\",\"location\":\"https://www.kickstarter.com/locations/lowell-ma\"},\"api\":{\"nearby_projects\":\"https://api.kickstarter.com/v1/discover?signature=1518754009.deafea54b81f1c464565e1b203aefbf8a6a6e7e0&amp;woe_id=2442564\"}},\"name\":\"Lowell\",\"displayable_name\":\"Lowell, MA\",\"short_name\":\"Lowell, MA\",\"id\":2442564,\"state\":\"MA\",\"type\":\"Town\",\"is_root\":false,\"slug\":\"lowell-ma\",\"localized_name\":\"Lowell\"}</td>\n",
       "      <td>NaN</td>\n",
       "      <td>NaN</td>\n",
       "      <td>NaN</td>\n",
       "      <td>NaN</td>\n",
       "    </tr>\n",
       "    <tr>\n",
       "      <th>3</th>\n",
       "      <td>82</td>\n",
       "      <td>1000 Artists is a public art-making installation on the Washington Mall which will occur on January 21 and 22nd 2013.</td>\n",
       "      <td>{\"urls\":{\"web\":{\"discover\":\"http://www.kickstarter.com/discover/categories/art/public%20art\"}},\"color\":16760235,\"parent_id\":1,\"name\":\"Public Art\",\"id\":53,\"position\":9,\"slug\":\"art/public art\"}</td>\n",
       "      <td>4586</td>\n",
       "      <td>US</td>\n",
       "      <td>2012-03-05 02:41:24</td>\n",
       "      <td>{\"urls\":{\"web\":{\"user\":\"https://www.kickstarter.com/profile/17146650\"},\"api\":{\"user\":\"https://api.kickstarter.com/v1/users/17146650?signature=1518794259.f00aeb4309075024b0d93dce8c6722e9c9b94802\"}},\"is_registered\":true,\"chosen_currency\":null,\"name\":\"Andrew Purchin\",\"id\":17146650,\"avatar\":{\"small\":\"https://ksr-ugc.imgix.net/assets/005/894/517/275b32d27cc5b5cc6f664cc3dda709d2_original.jpeg?w=160&amp;h=160&amp;fit=crop&amp;v=1461096303&amp;auto=format&amp;q=92&amp;s=ccda5736293b595a60b0ba7f77a3cfe8\",\"thumb\":\"https://ksr-ugc.imgix.net/assets/005/894/517/275b32d27cc5b5cc6f664cc3dda709d2_original.jpeg?w=40&amp;h=40&amp;fit=crop&amp;v=1461096303&amp;auto=format&amp;q=92&amp;s=09e6c6bb5b7fc6d803608af05df4149a\",\"medium\":\"https://ksr-ugc.imgix.net/assets/005/894/517/275b32d27cc5b5cc6f664cc3dda709d2_original.jpeg?w=160&amp;h=160&amp;fit=crop&amp;v=1461096303&amp;auto=format&amp;q=92&amp;s=ccda5736293b595a60b0ba7f77a3cfe8\"}}</td>\n",
       "      <td>USD</td>\n",
       "      <td>$</td>\n",
       "      <td>True</td>\n",
       "      <td>USD</td>\n",
       "      <td>2012-05-07 22:22:25</td>\n",
       "      <td>False</td>\n",
       "      <td>1.00</td>\n",
       "      <td>4,500.00</td>\n",
       "      <td>858990141</td>\n",
       "      <td>False</td>\n",
       "      <td>2012-03-28 22:22:25</td>\n",
       "      <td>1000 Artists: Presidential Inauguration 2013</td>\n",
       "      <td>{\"small\":\"https://ksr-ugc.imgix.net/assets/011/324/423/006b5d65c34c8a1b41cd073eabb445a0_original.JPG?crop=faces&amp;w=160&amp;h=90&amp;fit=crop&amp;v=1463681026&amp;auto=format&amp;q=92&amp;s=aaf7f8a6a86ec63b66b951ed9def94be\",\"thumb\":\"https://ksr-ugc.imgix.net/assets/011/324/423/006b5d65c34c8a1b41cd073eabb445a0_original.JPG?crop=faces&amp;w=48&amp;h=27&amp;fit=crop&amp;v=1463681026&amp;auto=format&amp;q=92&amp;s=df472376dbc4723ae41de3079578bc10\",\"1024x576\":\"https://ksr-ugc.imgix.net/assets/011/324/423/006b5d65c34c8a1b41cd073eabb445a0_original.JPG?crop=faces&amp;w=1024&amp;h=576&amp;fit=crop&amp;v=1463681026&amp;auto=format&amp;q=92&amp;s=d09b3e30b35494d188ce4e63f77ecd3e\",\"med\":\"https://ksr-ugc.imgix.net/assets/011/324/423/006b5d65c34c8a1b41cd073eabb445a0_original.JPG?crop=faces&amp;w=272&amp;h=153&amp;fit=crop&amp;v=1463681026&amp;auto=format&amp;q=92&amp;s=d20d1d8c0b448680ec8878d088cf565d\",\"key\":\"assets/011/324/423/006b5d65c34c8a1b41cd073eabb445a0_original.JPG\",\"1536x864\":\"https://ksr-ugc.imgix.net/assets/011/324/423/006b5d65c34c8a1b41cd073eabb445a0_original.JPG?crop=faces&amp;w=1552&amp;h=873&amp;fit=crop&amp;v=1463681026&amp;auto=format&amp;q=92&amp;s=68ea9ea800f933b90233d4218a4d83e0\",\"ed\":\"https://ksr-ugc.imgix.net/assets/011/324/423/006b5d65c34c8a1b41cd073eabb445a0_original.JPG?crop=faces&amp;w=352&amp;h=198&amp;fit=crop&amp;v=1463681026&amp;auto=format&amp;q=92&amp;s=20a16754064bab9e9904931677be9715\",\"full\":\"https://ksr-ugc.imgix.net/assets/011/324/423/006b5d65c34c8a1b41cd073eabb445a0_original.JPG?crop=faces&amp;w=560&amp;h=315&amp;fit=crop&amp;v=1463681026&amp;auto=format&amp;q=92&amp;s=83d9f2ccab0457a6f5e29623ea9e1449\",\"little\":\"https://ksr-ugc.imgix.net/assets/011/324/423/006b5d65c34c8a1b41cd073eabb445a0_original.JPG?crop=faces&amp;w=208&amp;h=117&amp;fit=crop&amp;v=1463681026&amp;auto=format&amp;q=92&amp;s=0775481e85e9aa7cd2110458fbb25764\"}</td>\n",
       "      <td>4,586.00</td>\n",
       "      <td>{\"background_image_opacity\":0.8,\"should_show_feature_image_section\":true,\"link_text_color\":null,\"state_changed_at\":1425915805,\"blurb\":null,\"background_color\":null,\"project_id\":90853,\"name\":null,\"feature_image_attributes\":{\"image_urls\":{\"default\":\"https://ksr-ugc.imgix.net/assets/011/324/423/006b5d65c34c8a1b41cd073eabb445a0_original.JPG?crop=faces&amp;w=1552&amp;h=873&amp;fit=crop&amp;v=1463681026&amp;auto=format&amp;q=92&amp;s=68ea9ea800f933b90233d4218a4d83e0\",\"baseball_card\":\"https://ksr-ugc.imgix.net/assets/011/324/423/006b5d65c34c8a1b41cd073eabb445a0_original.JPG?crop=faces&amp;w=560&amp;h=315&amp;fit=crop&amp;v=1463681026&amp;auto=format&amp;q=92&amp;s=83d9f2ccab0457a6f5e29623ea9e1449\"}},\"link_url\":null,\"show_feature_image\":false,\"id\":90853,\"state\":\"inactive\",\"text_color\":null,\"link_text\":null,\"link_background_color\":null}</td>\n",
       "      <td>1000-artists-presidential-inauguration-2013</td>\n",
       "      <td>https://www.kickstarter.com/discover/categories/art</td>\n",
       "      <td>True</td>\n",
       "      <td>False</td>\n",
       "      <td>successful</td>\n",
       "      <td>2012-05-07 22:22:25</td>\n",
       "      <td>1.00</td>\n",
       "      <td>{\"web\":{\"project\":\"https://www.kickstarter.com/projects/17146650/1000-artists-presidential-inauguration-2013?ref=category_newest\",\"rewards\":\"https://www.kickstarter.com/projects/17146650/1000-artists-presidential-inauguration-2013/rewards\"}}</td>\n",
       "      <td>4,586.00</td>\n",
       "      <td>domestic</td>\n",
       "      <td>{\"country\":\"US\",\"urls\":{\"web\":{\"discover\":\"https://www.kickstarter.com/discover/places/washington-dc\",\"location\":\"https://www.kickstarter.com/locations/washington-dc\"},\"api\":{\"nearby_projects\":\"https://api.kickstarter.com/v1/discover?signature=1518753922.2395f09e292c64f4a202e8842a00f23f84857a06&amp;woe_id=2514815\"}},\"name\":\"Washington\",\"displayable_name\":\"Washington, DC\",\"short_name\":\"Washington, DC\",\"id\":2514815,\"state\":\"DC\",\"type\":\"Town\",\"is_root\":false,\"slug\":\"washington-dc\",\"localized_name\":\"Washington\"}</td>\n",
       "      <td>NaN</td>\n",
       "      <td>NaN</td>\n",
       "      <td>NaN</td>\n",
       "      <td>NaN</td>\n",
       "    </tr>\n",
       "    <tr>\n",
       "      <th>4</th>\n",
       "      <td>31</td>\n",
       "      <td>P.M.A.F.T.W. my upcoming solo show June 2012 at Land Gallery.</td>\n",
       "      <td>{\"urls\":{\"web\":{\"discover\":\"http://www.kickstarter.com/discover/categories/art/painting\"}},\"color\":16760235,\"parent_id\":1,\"name\":\"Painting\",\"id\":23,\"position\":7,\"slug\":\"art/painting\"}</td>\n",
       "      <td>1036</td>\n",
       "      <td>US</td>\n",
       "      <td>2012-03-23 01:23:27</td>\n",
       "      <td>{\"urls\":{\"web\":{\"user\":\"https://www.kickstarter.com/profile/1442314751\"},\"api\":{\"user\":\"https://api.kickstarter.com/v1/users/1442314751?signature=1518794259.396ac3038d209ee81c4f9629b5bf01d8000c1d33\"}},\"is_registered\":true,\"chosen_currency\":null,\"name\":\"Ryan Jacob Smith\",\"id\":1442314751,\"avatar\":{\"small\":\"https://ksr-ugc.imgix.net/assets/006/462/589/6131c24ac72ee15455ecdfa79f3f5b10_original.jpg?w=160&amp;h=160&amp;fit=crop&amp;v=1461390271&amp;auto=format&amp;q=92&amp;s=a42fd48b8f4a6cde171c4647037a043c\",\"thumb\":\"https://ksr-ugc.imgix.net/assets/006/462/589/6131c24ac72ee15455ecdfa79f3f5b10_original.jpg?w=40&amp;h=40&amp;fit=crop&amp;v=1461390271&amp;auto=format&amp;q=92&amp;s=602e1a3aaf19881863db53aa8d26df52\",\"medium\":\"https://ksr-ugc.imgix.net/assets/006/462/589/6131c24ac72ee15455ecdfa79f3f5b10_original.jpg?w=160&amp;h=160&amp;fit=crop&amp;v=1461390271&amp;auto=format&amp;q=92&amp;s=a42fd48b8f4a6cde171c4647037a043c\"}}</td>\n",
       "      <td>USD</td>\n",
       "      <td>$</td>\n",
       "      <td>True</td>\n",
       "      <td>USD</td>\n",
       "      <td>2012-04-02 23:57:23</td>\n",
       "      <td>False</td>\n",
       "      <td>1.00</td>\n",
       "      <td>1,000.00</td>\n",
       "      <td>566704999</td>\n",
       "      <td>False</td>\n",
       "      <td>2012-03-28 23:57:23</td>\n",
       "      <td>P.M.A.F.T.W.</td>\n",
       "      <td>{\"small\":\"https://ksr-ugc.imgix.net/assets/011/334/704/b68be87dcfb331b234701e3dbf4c0e2d_original.jpg?crop=faces&amp;w=160&amp;h=90&amp;fit=crop&amp;v=1463681174&amp;auto=format&amp;q=92&amp;s=fb6395bdd14bb5b15782f75ec471612d\",\"thumb\":\"https://ksr-ugc.imgix.net/assets/011/334/704/b68be87dcfb331b234701e3dbf4c0e2d_original.jpg?crop=faces&amp;w=48&amp;h=27&amp;fit=crop&amp;v=1463681174&amp;auto=format&amp;q=92&amp;s=79a3d79a3e9484efbbcfb0aafbff4bb3\",\"1024x576\":\"https://ksr-ugc.imgix.net/assets/011/334/704/b68be87dcfb331b234701e3dbf4c0e2d_original.jpg?crop=faces&amp;w=1024&amp;h=576&amp;fit=crop&amp;v=1463681174&amp;auto=format&amp;q=92&amp;s=7bb275259c48825249c0cb9a5c594d86\",\"med\":\"https://ksr-ugc.imgix.net/assets/011/334/704/b68be87dcfb331b234701e3dbf4c0e2d_original.jpg?crop=faces&amp;w=272&amp;h=153&amp;fit=crop&amp;v=1463681174&amp;auto=format&amp;q=92&amp;s=760a338bbcb3446b49112ebe05be1fa7\",\"key\":\"assets/011/334/704/b68be87dcfb331b234701e3dbf4c0e2d_original.jpg\",\"1536x864\":\"https://ksr-ugc.imgix.net/assets/011/334/704/b68be87dcfb331b234701e3dbf4c0e2d_original.jpg?crop=faces&amp;w=1552&amp;h=873&amp;fit=crop&amp;v=1463681174&amp;auto=format&amp;q=92&amp;s=f0ea7649d490e71a27394e8e7eb51c36\",\"ed\":\"https://ksr-ugc.imgix.net/assets/011/334/704/b68be87dcfb331b234701e3dbf4c0e2d_original.jpg?crop=faces&amp;w=352&amp;h=198&amp;fit=crop&amp;v=1463681174&amp;auto=format&amp;q=92&amp;s=86a760ff58602ab7b826763345f815a3\",\"full\":\"https://ksr-ugc.imgix.net/assets/011/334/704/b68be87dcfb331b234701e3dbf4c0e2d_original.jpg?crop=faces&amp;w=560&amp;h=315&amp;fit=crop&amp;v=1463681174&amp;auto=format&amp;q=92&amp;s=1935440a0eee852f6a30c7b654dcad97\",\"little\":\"https://ksr-ugc.imgix.net/assets/011/334/704/b68be87dcfb331b234701e3dbf4c0e2d_original.jpg?crop=faces&amp;w=208&amp;h=117&amp;fit=crop&amp;v=1463681174&amp;auto=format&amp;q=92&amp;s=da60e251382a20418811e6a75495be30\"}</td>\n",
       "      <td>1,036.00</td>\n",
       "      <td>{\"background_image_opacity\":0.8,\"should_show_feature_image_section\":true,\"link_text_color\":null,\"state_changed_at\":1425915806,\"blurb\":null,\"background_color\":null,\"project_id\":114730,\"name\":null,\"feature_image_attributes\":{\"image_urls\":{\"default\":\"https://ksr-ugc.imgix.net/assets/011/334/704/b68be87dcfb331b234701e3dbf4c0e2d_original.jpg?crop=faces&amp;w=1552&amp;h=873&amp;fit=crop&amp;v=1463681174&amp;auto=format&amp;q=92&amp;s=f0ea7649d490e71a27394e8e7eb51c36\",\"baseball_card\":\"https://ksr-ugc.imgix.net/assets/011/334/704/b68be87dcfb331b234701e3dbf4c0e2d_original.jpg?crop=faces&amp;w=560&amp;h=315&amp;fit=crop&amp;v=1463681174&amp;auto=format&amp;q=92&amp;s=1935440a0eee852f6a30c7b654dcad97\"}},\"link_url\":null,\"show_feature_image\":false,\"id\":114730,\"state\":\"inactive\",\"text_color\":null,\"link_text\":null,\"link_background_color\":null}</td>\n",
       "      <td>pmaftw</td>\n",
       "      <td>https://www.kickstarter.com/discover/categories/art</td>\n",
       "      <td>True</td>\n",
       "      <td>False</td>\n",
       "      <td>successful</td>\n",
       "      <td>2012-04-02 23:57:23</td>\n",
       "      <td>1.00</td>\n",
       "      <td>{\"web\":{\"project\":\"https://www.kickstarter.com/projects/1442314751/pmaftw?ref=category_newest\",\"rewards\":\"https://www.kickstarter.com/projects/1442314751/pmaftw/rewards\"}}</td>\n",
       "      <td>1,036.00</td>\n",
       "      <td>domestic</td>\n",
       "      <td>{\"country\":\"US\",\"urls\":{\"web\":{\"discover\":\"https://www.kickstarter.com/discover/places/portland-or\",\"location\":\"https://www.kickstarter.com/locations/portland-or\"},\"api\":{\"nearby_projects\":\"https://api.kickstarter.com/v1/discover?signature=1518753923.476a6dcf0adf2c7765d10cae9319ea6350a256fd&amp;woe_id=2475687\"}},\"name\":\"Portland\",\"displayable_name\":\"Portland, OR\",\"short_name\":\"Portland, OR\",\"id\":2475687,\"state\":\"OR\",\"type\":\"Town\",\"is_root\":false,\"slug\":\"portland-or\",\"localized_name\":\"Portland\"}</td>\n",
       "      <td>NaN</td>\n",
       "      <td>NaN</td>\n",
       "      <td>NaN</td>\n",
       "      <td>NaN</td>\n",
       "    </tr>\n",
       "  </tbody>\n",
       "</table>\n",
       "</div>"
      ],
      "text/plain": [
       "   backers_count  \\\n",
       "0  80              \n",
       "1  47              \n",
       "2  80              \n",
       "3  82              \n",
       "4  31              \n",
       "\n",
       "                                                                                                                                     blurb  \\\n",
       "0  I will be an artist-in-residence at Elsewhere Studios this summer, where I will stretch my wings and see where I land!                    \n",
       "1  We are looking to bring a Visiting Sculptor from the Ivory Coast to work with our students to create a sculpture of MLK for our campus.   \n",
       "2  Surrealistic oil paintings capturing the metamorphosis of organic forms springing to life.                                                \n",
       "3  1000 Artists is a public art-making installation on the Washington Mall which will occur on January 21 and 22nd 2013.                     \n",
       "4  P.M.A.F.T.W. my upcoming solo show June 2012 at Land Gallery.                                                                             \n",
       "\n",
       "                                                                                                                                                                                             category  \\\n",
       "0  {\"urls\":{\"web\":{\"discover\":\"http://www.kickstarter.com/discover/categories/art/mixed%20media\"}},\"color\":16760235,\"parent_id\":1,\"name\":\"Mixed Media\",\"id\":54,\"position\":6,\"slug\":\"art/mixed media\"}   \n",
       "1  {\"urls\":{\"web\":{\"discover\":\"http://www.kickstarter.com/discover/categories/art\"}},\"color\":16760235,\"name\":\"Art\",\"id\":1,\"position\":1,\"slug\":\"art\"}                                                    \n",
       "2  {\"urls\":{\"web\":{\"discover\":\"http://www.kickstarter.com/discover/categories/art/painting\"}},\"color\":16760235,\"parent_id\":1,\"name\":\"Painting\",\"id\":23,\"position\":7,\"slug\":\"art/painting\"}              \n",
       "3  {\"urls\":{\"web\":{\"discover\":\"http://www.kickstarter.com/discover/categories/art/public%20art\"}},\"color\":16760235,\"parent_id\":1,\"name\":\"Public Art\",\"id\":53,\"position\":9,\"slug\":\"art/public art\"}      \n",
       "4  {\"urls\":{\"web\":{\"discover\":\"http://www.kickstarter.com/discover/categories/art/painting\"}},\"color\":16760235,\"parent_id\":1,\"name\":\"Painting\",\"id\":23,\"position\":7,\"slug\":\"art/painting\"}              \n",
       "\n",
       "   converted_pledged_amount country          created_at  \\\n",
       "0  3596                      US     2012-01-07 20:55:05   \n",
       "1  4117                      US     2012-03-02 19:29:22   \n",
       "2  3125                      US     2012-03-24 11:16:07   \n",
       "3  4586                      US     2012-03-05 02:41:24   \n",
       "4  1036                      US     2012-03-23 01:23:27   \n",
       "\n",
       "                                                                                                                                                                                                                                                                                                                                                                                                                                                                                                                                                                                                                                                                                                                                                                                                                                                                                                                      creator  \\\n",
       "0  {\"urls\":{\"web\":{\"user\":\"https://www.kickstarter.com/profile/hilaryemersonlay\"},\"api\":{\"user\":\"https://api.kickstarter.com/v1/users/483835381?signature=1518794258.f01f6dbe22f25adbfb1a0b9bf0637e8e49e1f0f6\"}},\"is_registered\":true,\"chosen_currency\":null,\"name\":\"Hilary Emerson Lay\",\"id\":483835381,\"avatar\":{\"small\":\"https://ksr-ugc.imgix.net/assets/006/295/961/cda3a0d11906c53f2e69bbfa51ec9700_original.jpg?w=160&h=160&fit=crop&v=1461379194&auto=format&q=92&s=57d3cf86b953b13877053a9eb0b7a3f2\",\"thumb\":\"https://ksr-ugc.imgix.net/assets/006/295/961/cda3a0d11906c53f2e69bbfa51ec9700_original.jpg?w=40&h=40&fit=crop&v=1461379194&auto=format&q=92&s=c82e792178047287b48a37d06ac26466\",\"medium\":\"https://ksr-ugc.imgix.net/assets/006/295/961/cda3a0d11906c53f2e69bbfa51ec9700_original.jpg?w=160&h=160&fit=crop&v=1461379194&auto=format&q=92&s=57d3cf86b953b13877053a9eb0b7a3f2\"},\"slug\":\"hilaryemersonlay\"}   \n",
       "1  {\"urls\":{\"web\":{\"user\":\"https://www.kickstarter.com/profile/1536850207\"},\"api\":{\"user\":\"https://api.kickstarter.com/v1/users/1536850207?signature=1518794258.7c406b5cd1138f2cf1fc9ae693ba91862acc7881\"}},\"is_registered\":true,\"chosen_currency\":null,\"name\":\"Csub Arts Humanities Matter\",\"id\":1536850207,\"avatar\":{\"small\":\"https://ksr-ugc.imgix.net/assets/006/416/003/5ad34bdcdda7d57d1037b2a9044c0105_original.jpg?w=160&h=160&fit=crop&v=1461387504&auto=format&q=92&s=b4b5512eb0c5c457062385a85ca7b335\",\"thumb\":\"https://ksr-ugc.imgix.net/assets/006/416/003/5ad34bdcdda7d57d1037b2a9044c0105_original.jpg?w=40&h=40&fit=crop&v=1461387504&auto=format&q=92&s=897759ae926ff6f3413a50fec3c71400\",\"medium\":\"https://ksr-ugc.imgix.net/assets/006/416/003/5ad34bdcdda7d57d1037b2a9044c0105_original.jpg?w=160&h=160&fit=crop&v=1461387504&auto=format&q=92&s=b4b5512eb0c5c457062385a85ca7b335\"}}                        \n",
       "2  {\"urls\":{\"web\":{\"user\":\"https://www.kickstarter.com/profile/2039713907\"},\"api\":{\"user\":\"https://api.kickstarter.com/v1/users/2039713907?signature=1518794258.a5261010d91ef8939678f5d33dbe9b8bb545f870\"}},\"is_registered\":true,\"chosen_currency\":null,\"name\":\"J.J. Long\",\"id\":2039713907,\"avatar\":{\"small\":\"https://ksr-ugc.imgix.net/assets/006/464/945/67c088f0d0b43d34f7c6cd7b8b9b58ef_original.jpg?w=160&h=160&fit=crop&v=1461390406&auto=format&q=92&s=4d63baa12ed930d76dc67882db156597\",\"thumb\":\"https://ksr-ugc.imgix.net/assets/006/464/945/67c088f0d0b43d34f7c6cd7b8b9b58ef_original.jpg?w=40&h=40&fit=crop&v=1461390406&auto=format&q=92&s=7209d571b539895841e6669bf6bf0d01\",\"medium\":\"https://ksr-ugc.imgix.net/assets/006/464/945/67c088f0d0b43d34f7c6cd7b8b9b58ef_original.jpg?w=160&h=160&fit=crop&v=1461390406&auto=format&q=92&s=4d63baa12ed930d76dc67882db156597\"}}                                          \n",
       "3  {\"urls\":{\"web\":{\"user\":\"https://www.kickstarter.com/profile/17146650\"},\"api\":{\"user\":\"https://api.kickstarter.com/v1/users/17146650?signature=1518794259.f00aeb4309075024b0d93dce8c6722e9c9b94802\"}},\"is_registered\":true,\"chosen_currency\":null,\"name\":\"Andrew Purchin\",\"id\":17146650,\"avatar\":{\"small\":\"https://ksr-ugc.imgix.net/assets/005/894/517/275b32d27cc5b5cc6f664cc3dda709d2_original.jpeg?w=160&h=160&fit=crop&v=1461096303&auto=format&q=92&s=ccda5736293b595a60b0ba7f77a3cfe8\",\"thumb\":\"https://ksr-ugc.imgix.net/assets/005/894/517/275b32d27cc5b5cc6f664cc3dda709d2_original.jpeg?w=40&h=40&fit=crop&v=1461096303&auto=format&q=92&s=09e6c6bb5b7fc6d803608af05df4149a\",\"medium\":\"https://ksr-ugc.imgix.net/assets/005/894/517/275b32d27cc5b5cc6f664cc3dda709d2_original.jpeg?w=160&h=160&fit=crop&v=1461096303&auto=format&q=92&s=ccda5736293b595a60b0ba7f77a3cfe8\"}}                                        \n",
       "4  {\"urls\":{\"web\":{\"user\":\"https://www.kickstarter.com/profile/1442314751\"},\"api\":{\"user\":\"https://api.kickstarter.com/v1/users/1442314751?signature=1518794259.396ac3038d209ee81c4f9629b5bf01d8000c1d33\"}},\"is_registered\":true,\"chosen_currency\":null,\"name\":\"Ryan Jacob Smith\",\"id\":1442314751,\"avatar\":{\"small\":\"https://ksr-ugc.imgix.net/assets/006/462/589/6131c24ac72ee15455ecdfa79f3f5b10_original.jpg?w=160&h=160&fit=crop&v=1461390271&auto=format&q=92&s=a42fd48b8f4a6cde171c4647037a043c\",\"thumb\":\"https://ksr-ugc.imgix.net/assets/006/462/589/6131c24ac72ee15455ecdfa79f3f5b10_original.jpg?w=40&h=40&fit=crop&v=1461390271&auto=format&q=92&s=602e1a3aaf19881863db53aa8d26df52\",\"medium\":\"https://ksr-ugc.imgix.net/assets/006/462/589/6131c24ac72ee15455ecdfa79f3f5b10_original.jpg?w=160&h=160&fit=crop&v=1461390271&auto=format&q=92&s=a42fd48b8f4a6cde171c4647037a043c\"}}                                   \n",
       "\n",
       "  currency currency_symbol  currency_trailing_code current_currency  \\\n",
       "0  USD      $               True                    USD               \n",
       "1  USD      $               True                    USD               \n",
       "2  USD      $               True                    USD               \n",
       "3  USD      $               True                    USD               \n",
       "4  USD      $               True                    USD               \n",
       "\n",
       "             deadline  disable_communication  fx_rate     goal          id  \\\n",
       "0 2012-04-19 17:16:00  False                 1.00     2,800.00  1562040083   \n",
       "1 2012-04-20 19:06:38  False                 1.00     3,900.00  1437561817   \n",
       "2 2012-04-17 00:59:00  False                 1.00     750.00    574125813    \n",
       "3 2012-05-07 22:22:25  False                 1.00     4,500.00  858990141    \n",
       "4 2012-04-02 23:57:23  False                 1.00     1,000.00  566704999    \n",
       "\n",
       "   is_starrable         launched_at  \\\n",
       "0  False        2012-03-28 18:14:20   \n",
       "1  False        2012-03-28 19:06:38   \n",
       "2  False        2012-03-28 20:01:19   \n",
       "3  False        2012-03-28 22:22:25   \n",
       "4  False        2012-03-28 23:57:23   \n",
       "\n",
       "                                             name  \\\n",
       "0  Elsewhere Studios artist-in-residency program!   \n",
       "1  Martin Luther King Jr. Sculpture on Campus!      \n",
       "2  EMERGENCE: Surreal Oil Paintings by J.J. Long    \n",
       "3  1000 Artists: Presidential Inauguration 2013     \n",
       "4  P.M.A.F.T.W.                                     \n",
       "\n",
       "                                                                                                                                                                                                                                                                                                                                                                                                                                                                                                                                                                                                                                                                                                                                                                                                                                                                                                                                                                                                                                                                                                                                                                                                                                                                                                                                                                                                                                                                                                                                                                                                                                                                                                                        photo  \\\n",
       "0  {\"small\":\"https://ksr-ugc.imgix.net/assets/011/311/400/cda3a0d11906c53f2e69bbfa51ec9700_original.jpg?crop=faces&w=160&h=90&fit=crop&v=1463680809&auto=format&q=92&s=bfbc30ad8a4c7082b6293519f9c436ab\",\"thumb\":\"https://ksr-ugc.imgix.net/assets/011/311/400/cda3a0d11906c53f2e69bbfa51ec9700_original.jpg?crop=faces&w=48&h=27&fit=crop&v=1463680809&auto=format&q=92&s=8a3c0883a3f386bd1e9be12a158e5368\",\"1024x576\":\"https://ksr-ugc.imgix.net/assets/011/311/400/cda3a0d11906c53f2e69bbfa51ec9700_original.jpg?crop=faces&w=1024&h=576&fit=crop&v=1463680809&auto=format&q=92&s=7e1a9ded6a91f25ffb69652c20b17633\",\"med\":\"https://ksr-ugc.imgix.net/assets/011/311/400/cda3a0d11906c53f2e69bbfa51ec9700_original.jpg?crop=faces&w=272&h=153&fit=crop&v=1463680809&auto=format&q=92&s=77ca95158c27de0e31c3c931ab6dc55a\",\"key\":\"assets/011/311/400/cda3a0d11906c53f2e69bbfa51ec9700_original.jpg\",\"1536x864\":\"https://ksr-ugc.imgix.net/assets/011/311/400/cda3a0d11906c53f2e69bbfa51ec9700_original.jpg?crop=faces&w=1552&h=873&fit=crop&v=1463680809&auto=format&q=92&s=e849392efcd453bd180efafa5c8e7fb7\",\"ed\":\"https://ksr-ugc.imgix.net/assets/011/311/400/cda3a0d11906c53f2e69bbfa51ec9700_original.jpg?crop=faces&w=352&h=198&fit=crop&v=1463680809&auto=format&q=92&s=826fac0fbc596ab0b0241bf7f56860bc\",\"full\":\"https://ksr-ugc.imgix.net/assets/011/311/400/cda3a0d11906c53f2e69bbfa51ec9700_original.jpg?crop=faces&w=560&h=315&fit=crop&v=1463680809&auto=format&q=92&s=eccd9a1a64ed6ed0111efcba340d116b\",\"little\":\"https://ksr-ugc.imgix.net/assets/011/311/400/cda3a0d11906c53f2e69bbfa51ec9700_original.jpg?crop=faces&w=208&h=117&fit=crop&v=1463680809&auto=format&q=92&s=1e7f3e26c7f9194ed410b052186fa1ca\"}   \n",
       "1  {\"small\":\"https://ksr-ugc.imgix.net/assets/011/323/164/760ad5b62194c1c415c684721a69b02b_original.png?crop=faces&w=160&h=90&fit=crop&v=1463681009&auto=format&q=92&s=a063c4950290059118ce35be1db43092\",\"thumb\":\"https://ksr-ugc.imgix.net/assets/011/323/164/760ad5b62194c1c415c684721a69b02b_original.png?crop=faces&w=48&h=27&fit=crop&v=1463681009&auto=format&q=92&s=96266579771ecc71e5b18797fff0fa2c\",\"1024x576\":\"https://ksr-ugc.imgix.net/assets/011/323/164/760ad5b62194c1c415c684721a69b02b_original.png?crop=faces&w=1024&h=576&fit=crop&v=1463681009&auto=format&q=92&s=3691eaa13a379a337de608a2cf347d98\",\"med\":\"https://ksr-ugc.imgix.net/assets/011/323/164/760ad5b62194c1c415c684721a69b02b_original.png?crop=faces&w=272&h=153&fit=crop&v=1463681009&auto=format&q=92&s=4158639a06370371c8a243f430f2c4b0\",\"key\":\"assets/011/323/164/760ad5b62194c1c415c684721a69b02b_original.png\",\"1536x864\":\"https://ksr-ugc.imgix.net/assets/011/323/164/760ad5b62194c1c415c684721a69b02b_original.png?crop=faces&w=1552&h=873&fit=crop&v=1463681009&auto=format&q=92&s=b3b472ac5397fc3887b0042d9a2d44be\",\"ed\":\"https://ksr-ugc.imgix.net/assets/011/323/164/760ad5b62194c1c415c684721a69b02b_original.png?crop=faces&w=352&h=198&fit=crop&v=1463681009&auto=format&q=92&s=6586071ad0fd9befd468bf217b7c6d88\",\"full\":\"https://ksr-ugc.imgix.net/assets/011/323/164/760ad5b62194c1c415c684721a69b02b_original.png?crop=faces&w=560&h=315&fit=crop&v=1463681009&auto=format&q=92&s=cc82909b42320248f7c256911ef5c10b\",\"little\":\"https://ksr-ugc.imgix.net/assets/011/323/164/760ad5b62194c1c415c684721a69b02b_original.png?crop=faces&w=208&h=117&fit=crop&v=1463681009&auto=format&q=92&s=7ecd5728a28d4dca15bfae34b92014a8\"}   \n",
       "2  {\"small\":\"https://ksr-ugc.imgix.net/assets/011/335/247/4854ca6d945dd599ecdf46a5561ca9f2_original.jpg?crop=faces&w=160&h=90&fit=crop&v=1463681182&auto=format&q=92&s=91c2d468084d1df88d0dfe8cfd938af9\",\"thumb\":\"https://ksr-ugc.imgix.net/assets/011/335/247/4854ca6d945dd599ecdf46a5561ca9f2_original.jpg?crop=faces&w=48&h=27&fit=crop&v=1463681182&auto=format&q=92&s=e6316cf895b8fc17dc01bec33fb5bea0\",\"1024x576\":\"https://ksr-ugc.imgix.net/assets/011/335/247/4854ca6d945dd599ecdf46a5561ca9f2_original.jpg?crop=faces&w=1024&h=576&fit=crop&v=1463681182&auto=format&q=92&s=8fb124fa29b622053d3aaa60167892f7\",\"med\":\"https://ksr-ugc.imgix.net/assets/011/335/247/4854ca6d945dd599ecdf46a5561ca9f2_original.jpg?crop=faces&w=272&h=153&fit=crop&v=1463681182&auto=format&q=92&s=cd31677dde69260e08ddeb7fb7394c8c\",\"key\":\"assets/011/335/247/4854ca6d945dd599ecdf46a5561ca9f2_original.jpg\",\"1536x864\":\"https://ksr-ugc.imgix.net/assets/011/335/247/4854ca6d945dd599ecdf46a5561ca9f2_original.jpg?crop=faces&w=1552&h=873&fit=crop&v=1463681182&auto=format&q=92&s=3a73418b8ca959959392b8a9c335fb94\",\"ed\":\"https://ksr-ugc.imgix.net/assets/011/335/247/4854ca6d945dd599ecdf46a5561ca9f2_original.jpg?crop=faces&w=352&h=198&fit=crop&v=1463681182&auto=format&q=92&s=aa6b510ff92937aa1dbe5246a9a71ee2\",\"full\":\"https://ksr-ugc.imgix.net/assets/011/335/247/4854ca6d945dd599ecdf46a5561ca9f2_original.jpg?crop=faces&w=560&h=315&fit=crop&v=1463681182&auto=format&q=92&s=3d5ad14e116fe11a4bad72b114dbf436\",\"little\":\"https://ksr-ugc.imgix.net/assets/011/335/247/4854ca6d945dd599ecdf46a5561ca9f2_original.jpg?crop=faces&w=208&h=117&fit=crop&v=1463681182&auto=format&q=92&s=19706aa3adb849222f0b7f7f35b27a62\"}   \n",
       "3  {\"small\":\"https://ksr-ugc.imgix.net/assets/011/324/423/006b5d65c34c8a1b41cd073eabb445a0_original.JPG?crop=faces&w=160&h=90&fit=crop&v=1463681026&auto=format&q=92&s=aaf7f8a6a86ec63b66b951ed9def94be\",\"thumb\":\"https://ksr-ugc.imgix.net/assets/011/324/423/006b5d65c34c8a1b41cd073eabb445a0_original.JPG?crop=faces&w=48&h=27&fit=crop&v=1463681026&auto=format&q=92&s=df472376dbc4723ae41de3079578bc10\",\"1024x576\":\"https://ksr-ugc.imgix.net/assets/011/324/423/006b5d65c34c8a1b41cd073eabb445a0_original.JPG?crop=faces&w=1024&h=576&fit=crop&v=1463681026&auto=format&q=92&s=d09b3e30b35494d188ce4e63f77ecd3e\",\"med\":\"https://ksr-ugc.imgix.net/assets/011/324/423/006b5d65c34c8a1b41cd073eabb445a0_original.JPG?crop=faces&w=272&h=153&fit=crop&v=1463681026&auto=format&q=92&s=d20d1d8c0b448680ec8878d088cf565d\",\"key\":\"assets/011/324/423/006b5d65c34c8a1b41cd073eabb445a0_original.JPG\",\"1536x864\":\"https://ksr-ugc.imgix.net/assets/011/324/423/006b5d65c34c8a1b41cd073eabb445a0_original.JPG?crop=faces&w=1552&h=873&fit=crop&v=1463681026&auto=format&q=92&s=68ea9ea800f933b90233d4218a4d83e0\",\"ed\":\"https://ksr-ugc.imgix.net/assets/011/324/423/006b5d65c34c8a1b41cd073eabb445a0_original.JPG?crop=faces&w=352&h=198&fit=crop&v=1463681026&auto=format&q=92&s=20a16754064bab9e9904931677be9715\",\"full\":\"https://ksr-ugc.imgix.net/assets/011/324/423/006b5d65c34c8a1b41cd073eabb445a0_original.JPG?crop=faces&w=560&h=315&fit=crop&v=1463681026&auto=format&q=92&s=83d9f2ccab0457a6f5e29623ea9e1449\",\"little\":\"https://ksr-ugc.imgix.net/assets/011/324/423/006b5d65c34c8a1b41cd073eabb445a0_original.JPG?crop=faces&w=208&h=117&fit=crop&v=1463681026&auto=format&q=92&s=0775481e85e9aa7cd2110458fbb25764\"}   \n",
       "4  {\"small\":\"https://ksr-ugc.imgix.net/assets/011/334/704/b68be87dcfb331b234701e3dbf4c0e2d_original.jpg?crop=faces&w=160&h=90&fit=crop&v=1463681174&auto=format&q=92&s=fb6395bdd14bb5b15782f75ec471612d\",\"thumb\":\"https://ksr-ugc.imgix.net/assets/011/334/704/b68be87dcfb331b234701e3dbf4c0e2d_original.jpg?crop=faces&w=48&h=27&fit=crop&v=1463681174&auto=format&q=92&s=79a3d79a3e9484efbbcfb0aafbff4bb3\",\"1024x576\":\"https://ksr-ugc.imgix.net/assets/011/334/704/b68be87dcfb331b234701e3dbf4c0e2d_original.jpg?crop=faces&w=1024&h=576&fit=crop&v=1463681174&auto=format&q=92&s=7bb275259c48825249c0cb9a5c594d86\",\"med\":\"https://ksr-ugc.imgix.net/assets/011/334/704/b68be87dcfb331b234701e3dbf4c0e2d_original.jpg?crop=faces&w=272&h=153&fit=crop&v=1463681174&auto=format&q=92&s=760a338bbcb3446b49112ebe05be1fa7\",\"key\":\"assets/011/334/704/b68be87dcfb331b234701e3dbf4c0e2d_original.jpg\",\"1536x864\":\"https://ksr-ugc.imgix.net/assets/011/334/704/b68be87dcfb331b234701e3dbf4c0e2d_original.jpg?crop=faces&w=1552&h=873&fit=crop&v=1463681174&auto=format&q=92&s=f0ea7649d490e71a27394e8e7eb51c36\",\"ed\":\"https://ksr-ugc.imgix.net/assets/011/334/704/b68be87dcfb331b234701e3dbf4c0e2d_original.jpg?crop=faces&w=352&h=198&fit=crop&v=1463681174&auto=format&q=92&s=86a760ff58602ab7b826763345f815a3\",\"full\":\"https://ksr-ugc.imgix.net/assets/011/334/704/b68be87dcfb331b234701e3dbf4c0e2d_original.jpg?crop=faces&w=560&h=315&fit=crop&v=1463681174&auto=format&q=92&s=1935440a0eee852f6a30c7b654dcad97\",\"little\":\"https://ksr-ugc.imgix.net/assets/011/334/704/b68be87dcfb331b234701e3dbf4c0e2d_original.jpg?crop=faces&w=208&h=117&fit=crop&v=1463681174&auto=format&q=92&s=da60e251382a20418811e6a75495be30\"}   \n",
       "\n",
       "   pledged  \\\n",
       "0 3,596.00   \n",
       "1 4,117.00   \n",
       "2 3,125.00   \n",
       "3 4,586.00   \n",
       "4 1,036.00   \n",
       "\n",
       "                                                                                                                                                                                                                                                                                                                                                                                                                                                                                                                                                                                                                                                                                                                                                                                                            profile  \\\n",
       "0  {\"background_image_opacity\":0.8,\"should_show_feature_image_section\":true,\"link_text_color\":null,\"state_changed_at\":1425915804,\"blurb\":null,\"background_color\":null,\"project_id\":69198,\"name\":null,\"feature_image_attributes\":{\"image_urls\":{\"default\":\"https://ksr-ugc.imgix.net/assets/011/311/400/cda3a0d11906c53f2e69bbfa51ec9700_original.jpg?crop=faces&w=1552&h=873&fit=crop&v=1463680809&auto=format&q=92&s=e849392efcd453bd180efafa5c8e7fb7\",\"baseball_card\":\"https://ksr-ugc.imgix.net/assets/011/311/400/cda3a0d11906c53f2e69bbfa51ec9700_original.jpg?crop=faces&w=560&h=315&fit=crop&v=1463680809&auto=format&q=92&s=eccd9a1a64ed6ed0111efcba340d116b\"}},\"link_url\":null,\"show_feature_image\":false,\"id\":69198,\"state\":\"inactive\",\"text_color\":null,\"link_text\":null,\"link_background_color\":null}     \n",
       "1  {\"background_image_opacity\":0.8,\"should_show_feature_image_section\":true,\"link_text_color\":null,\"state_changed_at\":1425915805,\"blurb\":null,\"background_color\":null,\"project_id\":88068,\"name\":null,\"feature_image_attributes\":{\"image_urls\":{\"default\":\"https://ksr-ugc.imgix.net/assets/011/323/164/760ad5b62194c1c415c684721a69b02b_original.png?crop=faces&w=1552&h=873&fit=crop&v=1463681009&auto=format&q=92&s=b3b472ac5397fc3887b0042d9a2d44be\",\"baseball_card\":\"https://ksr-ugc.imgix.net/assets/011/323/164/760ad5b62194c1c415c684721a69b02b_original.png?crop=faces&w=560&h=315&fit=crop&v=1463681009&auto=format&q=92&s=cc82909b42320248f7c256911ef5c10b\"}},\"link_url\":null,\"show_feature_image\":false,\"id\":88068,\"state\":\"inactive\",\"text_color\":null,\"link_text\":null,\"link_background_color\":null}     \n",
       "2  {\"background_image_opacity\":0.8,\"should_show_feature_image_section\":true,\"link_text_color\":null,\"state_changed_at\":1425915807,\"blurb\":null,\"background_color\":null,\"project_id\":115925,\"name\":null,\"feature_image_attributes\":{\"image_urls\":{\"default\":\"https://ksr-ugc.imgix.net/assets/011/335/247/4854ca6d945dd599ecdf46a5561ca9f2_original.jpg?crop=faces&w=1552&h=873&fit=crop&v=1463681182&auto=format&q=92&s=3a73418b8ca959959392b8a9c335fb94\",\"baseball_card\":\"https://ksr-ugc.imgix.net/assets/011/335/247/4854ca6d945dd599ecdf46a5561ca9f2_original.jpg?crop=faces&w=560&h=315&fit=crop&v=1463681182&auto=format&q=92&s=3d5ad14e116fe11a4bad72b114dbf436\"}},\"link_url\":null,\"show_feature_image\":false,\"id\":115925,\"state\":\"inactive\",\"text_color\":null,\"link_text\":null,\"link_background_color\":null}   \n",
       "3  {\"background_image_opacity\":0.8,\"should_show_feature_image_section\":true,\"link_text_color\":null,\"state_changed_at\":1425915805,\"blurb\":null,\"background_color\":null,\"project_id\":90853,\"name\":null,\"feature_image_attributes\":{\"image_urls\":{\"default\":\"https://ksr-ugc.imgix.net/assets/011/324/423/006b5d65c34c8a1b41cd073eabb445a0_original.JPG?crop=faces&w=1552&h=873&fit=crop&v=1463681026&auto=format&q=92&s=68ea9ea800f933b90233d4218a4d83e0\",\"baseball_card\":\"https://ksr-ugc.imgix.net/assets/011/324/423/006b5d65c34c8a1b41cd073eabb445a0_original.JPG?crop=faces&w=560&h=315&fit=crop&v=1463681026&auto=format&q=92&s=83d9f2ccab0457a6f5e29623ea9e1449\"}},\"link_url\":null,\"show_feature_image\":false,\"id\":90853,\"state\":\"inactive\",\"text_color\":null,\"link_text\":null,\"link_background_color\":null}     \n",
       "4  {\"background_image_opacity\":0.8,\"should_show_feature_image_section\":true,\"link_text_color\":null,\"state_changed_at\":1425915806,\"blurb\":null,\"background_color\":null,\"project_id\":114730,\"name\":null,\"feature_image_attributes\":{\"image_urls\":{\"default\":\"https://ksr-ugc.imgix.net/assets/011/334/704/b68be87dcfb331b234701e3dbf4c0e2d_original.jpg?crop=faces&w=1552&h=873&fit=crop&v=1463681174&auto=format&q=92&s=f0ea7649d490e71a27394e8e7eb51c36\",\"baseball_card\":\"https://ksr-ugc.imgix.net/assets/011/334/704/b68be87dcfb331b234701e3dbf4c0e2d_original.jpg?crop=faces&w=560&h=315&fit=crop&v=1463681174&auto=format&q=92&s=1935440a0eee852f6a30c7b654dcad97\"}},\"link_url\":null,\"show_feature_image\":false,\"id\":114730,\"state\":\"inactive\",\"text_color\":null,\"link_text\":null,\"link_background_color\":null}   \n",
       "\n",
       "                                            slug  \\\n",
       "0  elsewhere-studios-artist-in-residency-program   \n",
       "1  martin-luther-king-jr-sculpture-on-campus       \n",
       "2  emergence-surreal-oil-paintings-by-jj-long      \n",
       "3  1000-artists-presidential-inauguration-2013     \n",
       "4  pmaftw                                          \n",
       "\n",
       "                                            source_url  spotlight  staff_pick  \\\n",
       "0  https://www.kickstarter.com/discover/categories/art  True       False        \n",
       "1  https://www.kickstarter.com/discover/categories/art  True       False        \n",
       "2  https://www.kickstarter.com/discover/categories/art  True       False        \n",
       "3  https://www.kickstarter.com/discover/categories/art  True       False        \n",
       "4  https://www.kickstarter.com/discover/categories/art  True       False        \n",
       "\n",
       "        state    state_changed_at  static_usd_rate  \\\n",
       "0  successful 2012-04-19 17:16:00 1.00               \n",
       "1  successful 2012-04-20 19:06:38 1.00               \n",
       "2  successful 2012-04-17 00:59:03 1.00               \n",
       "3  successful 2012-05-07 22:22:25 1.00               \n",
       "4  successful 2012-04-02 23:57:23 1.00               \n",
       "\n",
       "                                                                                                                                                                                                                                                                    urls  \\\n",
       "0  {\"web\":{\"project\":\"https://www.kickstarter.com/projects/hilaryemersonlay/elsewhere-studios-artist-in-residency-program?ref=category_newest\",\"rewards\":\"https://www.kickstarter.com/projects/hilaryemersonlay/elsewhere-studios-artist-in-residency-program/rewards\"}}   \n",
       "1  {\"web\":{\"project\":\"https://www.kickstarter.com/projects/1536850207/martin-luther-king-jr-sculpture-on-campus?ref=category_newest\",\"rewards\":\"https://www.kickstarter.com/projects/1536850207/martin-luther-king-jr-sculpture-on-campus/rewards\"}}                       \n",
       "2  {\"web\":{\"project\":\"https://www.kickstarter.com/projects/2039713907/emergence-surreal-oil-paintings-by-jj-long?ref=category_newest\",\"rewards\":\"https://www.kickstarter.com/projects/2039713907/emergence-surreal-oil-paintings-by-jj-long/rewards\"}}                     \n",
       "3  {\"web\":{\"project\":\"https://www.kickstarter.com/projects/17146650/1000-artists-presidential-inauguration-2013?ref=category_newest\",\"rewards\":\"https://www.kickstarter.com/projects/17146650/1000-artists-presidential-inauguration-2013/rewards\"}}                       \n",
       "4  {\"web\":{\"project\":\"https://www.kickstarter.com/projects/1442314751/pmaftw?ref=category_newest\",\"rewards\":\"https://www.kickstarter.com/projects/1442314751/pmaftw/rewards\"}}                                                                                             \n",
       "\n",
       "   usd_pledged  usd_type  \\\n",
       "0 3,596.00      domestic   \n",
       "1 4,117.00      domestic   \n",
       "2 3,125.00      domestic   \n",
       "3 4,586.00      domestic   \n",
       "4 1,036.00      domestic   \n",
       "\n",
       "                                                                                                                                                                                                                                                                                                                                                                                                                                                                                                                               location  \\\n",
       "0  {\"country\":\"US\",\"urls\":{\"web\":{\"discover\":\"https://www.kickstarter.com/discover/places/paonia-co\",\"location\":\"https://www.kickstarter.com/locations/paonia-co\"},\"api\":{\"nearby_projects\":\"https://api.kickstarter.com/v1/discover?signature=1518753993.05a59c69a5b76a1e1c451c4b1bc0c8b5cf840cc7&woe_id=2468066\"}},\"name\":\"Paonia\",\"displayable_name\":\"Paonia, CO\",\"short_name\":\"Paonia, CO\",\"id\":2468066,\"state\":\"CO\",\"type\":\"Town\",\"is_root\":false,\"slug\":\"paonia-co\",\"localized_name\":\"Paonia\"}                                      \n",
       "1  {\"country\":\"US\",\"urls\":{\"web\":{\"discover\":\"https://www.kickstarter.com/discover/places/bakersfield-ca\",\"location\":\"https://www.kickstarter.com/locations/bakersfield-ca\"},\"api\":{\"nearby_projects\":\"https://api.kickstarter.com/v1/discover?signature=1518753980.64bc28ccbbd8bafb6f60a6e3619e53d837b5624c&woe_id=2358492\"}},\"name\":\"Bakersfield\",\"displayable_name\":\"Bakersfield, CA\",\"short_name\":\"Bakersfield, CA\",\"id\":2358492,\"state\":\"CA\",\"type\":\"Town\",\"is_root\":false,\"slug\":\"bakersfield-ca\",\"localized_name\":\"Bakersfield\"}   \n",
       "2  {\"country\":\"US\",\"urls\":{\"web\":{\"discover\":\"https://www.kickstarter.com/discover/places/lowell-ma\",\"location\":\"https://www.kickstarter.com/locations/lowell-ma\"},\"api\":{\"nearby_projects\":\"https://api.kickstarter.com/v1/discover?signature=1518754009.deafea54b81f1c464565e1b203aefbf8a6a6e7e0&woe_id=2442564\"}},\"name\":\"Lowell\",\"displayable_name\":\"Lowell, MA\",\"short_name\":\"Lowell, MA\",\"id\":2442564,\"state\":\"MA\",\"type\":\"Town\",\"is_root\":false,\"slug\":\"lowell-ma\",\"localized_name\":\"Lowell\"}                                      \n",
       "3  {\"country\":\"US\",\"urls\":{\"web\":{\"discover\":\"https://www.kickstarter.com/discover/places/washington-dc\",\"location\":\"https://www.kickstarter.com/locations/washington-dc\"},\"api\":{\"nearby_projects\":\"https://api.kickstarter.com/v1/discover?signature=1518753922.2395f09e292c64f4a202e8842a00f23f84857a06&woe_id=2514815\"}},\"name\":\"Washington\",\"displayable_name\":\"Washington, DC\",\"short_name\":\"Washington, DC\",\"id\":2514815,\"state\":\"DC\",\"type\":\"Town\",\"is_root\":false,\"slug\":\"washington-dc\",\"localized_name\":\"Washington\"}          \n",
       "4  {\"country\":\"US\",\"urls\":{\"web\":{\"discover\":\"https://www.kickstarter.com/discover/places/portland-or\",\"location\":\"https://www.kickstarter.com/locations/portland-or\"},\"api\":{\"nearby_projects\":\"https://api.kickstarter.com/v1/discover?signature=1518753923.476a6dcf0adf2c7765d10cae9319ea6350a256fd&woe_id=2475687\"}},\"name\":\"Portland\",\"displayable_name\":\"Portland, OR\",\"short_name\":\"Portland, OR\",\"id\":2475687,\"state\":\"OR\",\"type\":\"Town\",\"is_root\":false,\"slug\":\"portland-or\",\"localized_name\":\"Portland\"}                        \n",
       "\n",
       "  friends is_backing is_starred permissions  \n",
       "0  NaN     NaN        NaN        NaN         \n",
       "1  NaN     NaN        NaN        NaN         \n",
       "2  NaN     NaN        NaN        NaN         \n",
       "3  NaN     NaN        NaN        NaN         \n",
       "4  NaN     NaN        NaN        NaN         "
      ]
     },
     "execution_count": 48,
     "metadata": {},
     "output_type": "execute_result"
    }
   ],
   "source": [
    "import numpy as np\n",
    "import pandas as pd\n",
    "import matplotlib.pyplot as plt\n",
    "import datetime\n",
    "import re\n",
    "import pycountry as pc\n",
    "from matplotlib.ticker import PercentFormatter\n",
    "pd.options.display.float_format = '{:,.2f}'.format\n",
    "%matplotlib inline\n",
    "\n",
    "#Create date parser to pass to read_csv\n",
    "d = lambda x: datetime.datetime.fromtimestamp(int(x))\n",
    "date_cols = ['created_at','deadline','launched_at','state_changed_at']\n",
    "df = pd.read_csv('merged.csv', engine = 'python', parse_dates = date_cols, date_parser = d)\n",
    "df.head()"
   ]
  },
  {
   "cell_type": "markdown",
   "metadata": {},
   "source": [
    "### Sanity checks"
   ]
  },
  {
   "cell_type": "code",
   "execution_count": 49,
   "metadata": {},
   "outputs": [
    {
     "name": "stdout",
     "output_type": "stream",
     "text": [
      "       backers_count  converted_pledged_amount    fx_rate           goal  \\\n",
      "count 199,704.00     199,704.00                199,704.00 199,704.00       \n",
      "mean  142.75         11,713.73                 1.02       46,122.66        \n",
      "std   1,044.18       91,055.66                 0.18       1,190,380.06     \n",
      "min   0.00           0.00                      0.01       0.01             \n",
      "25%   3.00           100.00                    1.00       1,500.00         \n",
      "50%   25.00          1,448.00                  1.00       5,000.00         \n",
      "75%   81.00          5,884.00                  1.00       12,500.00        \n",
      "max   105,857.00     10,266,845.00             1.84       100,000,000.00   \n",
      "\n",
      "                    id       pledged  static_usd_rate   usd_pledged  \n",
      "count 199,704.00       199,704.00    199,704.00       199,704.00     \n",
      "mean  1,075,276,156.34 12,838.62     1.02             11,715.74      \n",
      "std   619,236,251.56   139,495.17    0.20             91,034.86      \n",
      "min   18,520.00        0.00          0.01             0.00           \n",
      "25%   538,077,872.50   100.00        1.00             100.00         \n",
      "50%   1,079,717,984.50 1,450.00      1.00             1,450.00       \n",
      "75%   1,609,462,572.50 5,958.00      1.00             5,885.93       \n",
      "max   2,147,476,221.00 29,021,909.00 1.72             10,266,845.74  \n",
      "\n"
     ]
    }
   ],
   "source": [
    "#Step 1: Check number of columns and rows against expectations\n",
    "print(df.describe())\n",
    "print()"
   ]
  },
  {
   "cell_type": "code",
   "execution_count": 51,
   "metadata": {},
   "outputs": [
    {
     "data": {
      "text/plain": [
       "<function matplotlib.pyplot.show(*args, **kw)>"
      ]
     },
     "execution_count": 51,
     "metadata": {},
     "output_type": "execute_result"
    },
    {
     "data": {
      "image/png": "[encoded data removed]",
      "text/plain": [
       "<matplotlib.figure.Figure at 0x175fdf36978>"
      ]
     },
     "metadata": {},
     "output_type": "display_data"
    }
   ],
   "source": [
    "#Histograms by quartile\n",
    "plt.hist(df.backers_count, bins = [0,3,25,81,105857])\n",
    "plt.show"
   ]
  },
  {
   "cell_type": "code",
   "execution_count": 52,
   "metadata": {},
   "outputs": [
    {
     "data": {
      "text/plain": [
       "<function matplotlib.pyplot.show(*args, **kw)>"
      ]
     },
     "execution_count": 52,
     "metadata": {},
     "output_type": "execute_result"
    },
    {
     "data": {
      "image/png": "[encoded data removed]",
      "text/plain": [
       "<matplotlib.figure.Figure at 0x175fe0e4d30>"
      ]
     },
     "metadata": {},
     "output_type": "display_data"
    }
   ],
   "source": [
    "plt.hist(df.usd_pledged, bins = [0,100,1448,5884,10266845])\n",
    "plt.show"
   ]
  },
  {
   "cell_type": "code",
   "execution_count": 53,
   "metadata": {},
   "outputs": [
    {
     "data": {
      "text/plain": [
       "<function matplotlib.pyplot.show(*args, **kw)>"
      ]
     },
     "execution_count": 53,
     "metadata": {},
     "output_type": "execute_result"
    },
    {
     "data": {
      "image/png": "[encoded data removed]",
      "text/plain": [
       "<matplotlib.figure.Figure at 0x175fde75518>"
      ]
     },
     "metadata": {},
     "output_type": "display_data"
    }
   ],
   "source": [
    "plt.hist(df.goal, bins = [0,1500,5000,12500,100000000])\n",
    "plt.show"
   ]
  },
  {
   "cell_type": "code",
   "execution_count": 54,
   "metadata": {},
   "outputs": [],
   "source": [
    "def plot_box_title(series):\n",
    "    plt.boxplot(np.sqrt(df[series]), whis = 75)\n",
    "    plt.title('square root of ' + series)\n",
    "    plt.show()"
   ]
  },
  {
   "cell_type": "code",
   "execution_count": 55,
   "metadata": {},
   "outputs": [],
   "source": [
    "def plot_hist_title(series):\n",
    "    plt.hist(np.sqrt(df[series]), bins = 100, density = True)\n",
    "    plt.title('square root of ' + series)\n",
    "    plt.show()"
   ]
  },
  {
   "cell_type": "code",
   "execution_count": 56,
   "metadata": {},
   "outputs": [
    {
     "data": {
      "image/png": "[encoded data removed]",
      "text/plain": [
       "<matplotlib.figure.Figure at 0x175fdeab320>"
      ]
     },
     "metadata": {},
     "output_type": "display_data"
    },
    {
     "data": {
      "image/png": "[encoded data removed]",
      "text/plain": [
       "<matplotlib.figure.Figure at 0x175fca95f98>"
      ]
     },
     "metadata": {},
     "output_type": "display_data"
    },
    {
     "data": {
      "image/png": "[encoded data removed]",
      "text/plain": [
       "<matplotlib.figure.Figure at 0x175fac64ac8>"
      ]
     },
     "metadata": {},
     "output_type": "display_data"
    },
    {
     "data": {
      "image/png": "[encoded data removed]",
      "text/plain": [
       "<matplotlib.figure.Figure at 0x175fde59ba8>"
      ]
     },
     "metadata": {},
     "output_type": "display_data"
    },
    {
     "data": {
      "image/png": "[encoded data removed]",
      "text/plain": [
       "<matplotlib.figure.Figure at 0x175f797b710>"
      ]
     },
     "metadata": {},
     "output_type": "display_data"
    },
    {
     "data": {
      "image/png": "[encoded data removed]",
      "text/plain": [
       "<matplotlib.figure.Figure at 0x175f748a940>"
      ]
     },
     "metadata": {},
     "output_type": "display_data"
    }
   ],
   "source": [
    "plot_hist_title('backers_count')\n",
    "plot_hist_title('usd_pledged')\n",
    "plot_hist_title('goal')\n",
    "plot_box_title('backers_count')\n",
    "plot_box_title('usd_pledged')\n",
    "plot_box_title('goal')"
   ]
  },
  {
   "cell_type": "code",
   "execution_count": 57,
   "metadata": {},
   "outputs": [
    {
     "name": "stdout",
     "output_type": "stream",
     "text": [
      "49857\n",
      "49937\n",
      "49796\n",
      "1414\n",
      "43\n",
      "84\n"
     ]
    }
   ],
   "source": [
    "#count number of objects above the third quartile\n",
    "print(np.sum(df.backers_count > 81))\n",
    "print(np.sum(df.usd_pledged > 5884))\n",
    "print(np.sum(df.goal > 12500))\n",
    "#count number of objects above significant declines in the histograms\n",
    "print(np.sum(df.backers_count > 2500))\n",
    "print(np.sum(df.usd_pledged > 2500000))\n",
    "print(np.sum(df.goal > 10266845.74))"
   ]
  },
  {
   "cell_type": "code",
   "execution_count": 58,
   "metadata": {},
   "outputs": [
    {
     "data": {
      "text/html": [
       "<div>\n",
       "<style>\n",
       "    .dataframe thead tr:only-child th {\n",
       "        text-align: right;\n",
       "    }\n",
       "\n",
       "    .dataframe thead th {\n",
       "        text-align: left;\n",
       "    }\n",
       "\n",
       "    .dataframe tbody tr th {\n",
       "        vertical-align: top;\n",
       "    }\n",
       "</style>\n",
       "<table border=\"1\" class=\"dataframe\">\n",
       "  <thead>\n",
       "    <tr style=\"text-align: right;\">\n",
       "      <th></th>\n",
       "      <th>backers_count</th>\n",
       "      <th>blurb</th>\n",
       "      <th>category</th>\n",
       "      <th>converted_pledged_amount</th>\n",
       "      <th>country</th>\n",
       "      <th>created_at</th>\n",
       "      <th>creator</th>\n",
       "      <th>currency</th>\n",
       "      <th>currency_symbol</th>\n",
       "      <th>currency_trailing_code</th>\n",
       "      <th>current_currency</th>\n",
       "      <th>deadline</th>\n",
       "      <th>disable_communication</th>\n",
       "      <th>fx_rate</th>\n",
       "      <th>goal</th>\n",
       "      <th>id</th>\n",
       "      <th>is_starrable</th>\n",
       "      <th>launched_at</th>\n",
       "      <th>name</th>\n",
       "      <th>photo</th>\n",
       "      <th>pledged</th>\n",
       "      <th>profile</th>\n",
       "      <th>slug</th>\n",
       "      <th>source_url</th>\n",
       "      <th>spotlight</th>\n",
       "      <th>staff_pick</th>\n",
       "      <th>state</th>\n",
       "      <th>state_changed_at</th>\n",
       "      <th>static_usd_rate</th>\n",
       "      <th>urls</th>\n",
       "      <th>usd_pledged</th>\n",
       "      <th>usd_type</th>\n",
       "      <th>location</th>\n",
       "      <th>friends</th>\n",
       "      <th>is_backing</th>\n",
       "      <th>is_starred</th>\n",
       "      <th>permissions</th>\n",
       "    </tr>\n",
       "  </thead>\n",
       "  <tbody>\n",
       "    <tr>\n",
       "      <th>9009</th>\n",
       "      <td>0</td>\n",
       "      <td>Fashion ill...</td>\n",
       "      <td>{\"urls\":{\"w...</td>\n",
       "      <td>0</td>\n",
       "      <td>CA</td>\n",
       "      <td>2015-04-29 1...</td>\n",
       "      <td>{\"urls\":{\"w...</td>\n",
       "      <td>CAD</td>\n",
       "      <td>$</td>\n",
       "      <td>True</td>\n",
       "      <td>USD</td>\n",
       "      <td>2015-06-30 1...</td>\n",
       "      <td>False</td>\n",
       "      <td>0.80</td>\n",
       "      <td>100,000,000.00</td>\n",
       "      <td>1720842777</td>\n",
       "      <td>False</td>\n",
       "      <td>2015-05-01 1...</td>\n",
       "      <td>NAKED FASHI...</td>\n",
       "      <td>{\"small\":\"h...</td>\n",
       "      <td>0.00</td>\n",
       "      <td>{\"backgroun...</td>\n",
       "      <td>naked-fashi...</td>\n",
       "      <td>https://www...</td>\n",
       "      <td>False</td>\n",
       "      <td>False</td>\n",
       "      <td>failed</td>\n",
       "      <td>2015-06-30 1...</td>\n",
       "      <td>0.83</td>\n",
       "      <td>{\"web\":{\"pr...</td>\n",
       "      <td>0.00</td>\n",
       "      <td>domestic</td>\n",
       "      <td>{\"country\":...</td>\n",
       "      <td>NaN</td>\n",
       "      <td>NaN</td>\n",
       "      <td>NaN</td>\n",
       "      <td>NaN</td>\n",
       "    </tr>\n",
       "    <tr>\n",
       "      <th>43010</th>\n",
       "      <td>1</td>\n",
       "      <td>We are desi...</td>\n",
       "      <td>{\"urls\":{\"w...</td>\n",
       "      <td>1</td>\n",
       "      <td>US</td>\n",
       "      <td>2015-01-01 1...</td>\n",
       "      <td>{\"urls\":{\"w...</td>\n",
       "      <td>USD</td>\n",
       "      <td>$</td>\n",
       "      <td>True</td>\n",
       "      <td>USD</td>\n",
       "      <td>2015-03-02 0...</td>\n",
       "      <td>False</td>\n",
       "      <td>1.00</td>\n",
       "      <td>100,000,000.00</td>\n",
       "      <td>601594365</td>\n",
       "      <td>False</td>\n",
       "      <td>2015-01-07 1...</td>\n",
       "      <td>The Multi-T...</td>\n",
       "      <td>{\"small\":\"h...</td>\n",
       "      <td>1.00</td>\n",
       "      <td>{\"backgroun...</td>\n",
       "      <td>the-multi-t...</td>\n",
       "      <td>https://www...</td>\n",
       "      <td>False</td>\n",
       "      <td>False</td>\n",
       "      <td>canceled</td>\n",
       "      <td>2015-01-21 1...</td>\n",
       "      <td>1.00</td>\n",
       "      <td>{\"web\":{\"pr...</td>\n",
       "      <td>1.00</td>\n",
       "      <td>domestic</td>\n",
       "      <td>{\"country\":...</td>\n",
       "      <td>NaN</td>\n",
       "      <td>NaN</td>\n",
       "      <td>NaN</td>\n",
       "      <td>NaN</td>\n",
       "    </tr>\n",
       "    <tr>\n",
       "      <th>61556</th>\n",
       "      <td>1</td>\n",
       "      <td>This is NOT...</td>\n",
       "      <td>{\"urls\":{\"w...</td>\n",
       "      <td>0</td>\n",
       "      <td>CA</td>\n",
       "      <td>2014-11-01 1...</td>\n",
       "      <td>{\"urls\":{\"w...</td>\n",
       "      <td>CAD</td>\n",
       "      <td>$</td>\n",
       "      <td>True</td>\n",
       "      <td>USD</td>\n",
       "      <td>2015-05-04 1...</td>\n",
       "      <td>False</td>\n",
       "      <td>0.80</td>\n",
       "      <td>100,000,000.00</td>\n",
       "      <td>308045282</td>\n",
       "      <td>False</td>\n",
       "      <td>2015-03-05 1...</td>\n",
       "      <td>Jesus Priest</td>\n",
       "      <td>{\"small\":\"h...</td>\n",
       "      <td>1.00</td>\n",
       "      <td>{\"backgroun...</td>\n",
       "      <td>jesus-priest</td>\n",
       "      <td>https://www...</td>\n",
       "      <td>False</td>\n",
       "      <td>False</td>\n",
       "      <td>failed</td>\n",
       "      <td>2015-05-04 1...</td>\n",
       "      <td>0.80</td>\n",
       "      <td>{\"web\":{\"pr...</td>\n",
       "      <td>0.80</td>\n",
       "      <td>domestic</td>\n",
       "      <td>{\"country\":...</td>\n",
       "      <td>NaN</td>\n",
       "      <td>NaN</td>\n",
       "      <td>NaN</td>\n",
       "      <td>NaN</td>\n",
       "    </tr>\n",
       "    <tr>\n",
       "      <th>63189</th>\n",
       "      <td>0</td>\n",
       "      <td>This cartoo...</td>\n",
       "      <td>{\"urls\":{\"w...</td>\n",
       "      <td>0</td>\n",
       "      <td>US</td>\n",
       "      <td>2015-02-08 0...</td>\n",
       "      <td>{\"urls\":{\"w...</td>\n",
       "      <td>USD</td>\n",
       "      <td>$</td>\n",
       "      <td>True</td>\n",
       "      <td>USD</td>\n",
       "      <td>2015-04-11 1...</td>\n",
       "      <td>False</td>\n",
       "      <td>1.00</td>\n",
       "      <td>100,000,000.00</td>\n",
       "      <td>962949560</td>\n",
       "      <td>False</td>\n",
       "      <td>2015-02-10 1...</td>\n",
       "      <td>\"PG\" Reanim...</td>\n",
       "      <td>{\"small\":\"h...</td>\n",
       "      <td>0.00</td>\n",
       "      <td>{\"backgroun...</td>\n",
       "      <td>pg-reanimat...</td>\n",
       "      <td>https://www...</td>\n",
       "      <td>False</td>\n",
       "      <td>False</td>\n",
       "      <td>failed</td>\n",
       "      <td>2015-04-11 1...</td>\n",
       "      <td>1.00</td>\n",
       "      <td>{\"web\":{\"pr...</td>\n",
       "      <td>0.00</td>\n",
       "      <td>domestic</td>\n",
       "      <td>{\"country\":...</td>\n",
       "      <td>NaN</td>\n",
       "      <td>NaN</td>\n",
       "      <td>NaN</td>\n",
       "      <td>NaN</td>\n",
       "    </tr>\n",
       "    <tr>\n",
       "      <th>68293</th>\n",
       "      <td>0</td>\n",
       "      <td>A 2000 year...</td>\n",
       "      <td>{\"urls\":{\"w...</td>\n",
       "      <td>0</td>\n",
       "      <td>GB</td>\n",
       "      <td>2015-10-29 1...</td>\n",
       "      <td>{\"urls\":{\"w...</td>\n",
       "      <td>GBP</td>\n",
       "      <td>Â£</td>\n",
       "      <td>False</td>\n",
       "      <td>USD</td>\n",
       "      <td>2015-11-30 1...</td>\n",
       "      <td>False</td>\n",
       "      <td>1.40</td>\n",
       "      <td>100,000,000.00</td>\n",
       "      <td>2000749004</td>\n",
       "      <td>False</td>\n",
       "      <td>2015-11-16 2...</td>\n",
       "      <td>A Celtic Lo...</td>\n",
       "      <td>{\"small\":\"h...</td>\n",
       "      <td>0.00</td>\n",
       "      <td>{\"backgroun...</td>\n",
       "      <td>a-celtic-lo...</td>\n",
       "      <td>https://www...</td>\n",
       "      <td>False</td>\n",
       "      <td>False</td>\n",
       "      <td>failed</td>\n",
       "      <td>2015-11-30 1...</td>\n",
       "      <td>1.52</td>\n",
       "      <td>{\"web\":{\"pr...</td>\n",
       "      <td>0.00</td>\n",
       "      <td>domestic</td>\n",
       "      <td>{\"country\":...</td>\n",
       "      <td>NaN</td>\n",
       "      <td>NaN</td>\n",
       "      <td>NaN</td>\n",
       "      <td>NaN</td>\n",
       "    </tr>\n",
       "  </tbody>\n",
       "</table>\n",
       "</div>"
      ],
      "text/plain": [
       "       backers_count           blurb        category  \\\n",
       "9009               0  Fashion ill...  {\"urls\":{\"w...   \n",
       "43010              1  We are desi...  {\"urls\":{\"w...   \n",
       "61556              1  This is NOT...  {\"urls\":{\"w...   \n",
       "63189              0  This cartoo...  {\"urls\":{\"w...   \n",
       "68293              0  A 2000 year...  {\"urls\":{\"w...   \n",
       "\n",
       "       converted_pledged_amount country      created_at         creator  \\\n",
       "9009                0                CA 2015-04-29 1...  {\"urls\":{\"w...   \n",
       "43010               1                US 2015-01-01 1...  {\"urls\":{\"w...   \n",
       "61556               0                CA 2014-11-01 1...  {\"urls\":{\"w...   \n",
       "63189               0                US 2015-02-08 0...  {\"urls\":{\"w...   \n",
       "68293               0                GB 2015-10-29 1...  {\"urls\":{\"w...   \n",
       "\n",
       "      currency currency_symbol  currency_trailing_code current_currency  \\\n",
       "9009       CAD               $            True                     USD    \n",
       "43010      USD               $            True                     USD    \n",
       "61556      CAD               $            True                     USD    \n",
       "63189      USD               $            True                     USD    \n",
       "68293      GBP              Â£           False                     USD    \n",
       "\n",
       "             deadline  disable_communication  fx_rate           goal  \\\n",
       "9009  2015-06-30 1...           False            0.80 100,000,000.00   \n",
       "43010 2015-03-02 0...           False            1.00 100,000,000.00   \n",
       "61556 2015-05-04 1...           False            0.80 100,000,000.00   \n",
       "63189 2015-04-11 1...           False            1.00 100,000,000.00   \n",
       "68293 2015-11-30 1...           False            1.40 100,000,000.00   \n",
       "\n",
       "               id  is_starrable     launched_at            name  \\\n",
       "9009   1720842777         False 2015-05-01 1...  NAKED FASHI...   \n",
       "43010   601594365         False 2015-01-07 1...  The Multi-T...   \n",
       "61556   308045282         False 2015-03-05 1...    Jesus Priest   \n",
       "63189   962949560         False 2015-02-10 1...  \"PG\" Reanim...   \n",
       "68293  2000749004         False 2015-11-16 2...  A Celtic Lo...   \n",
       "\n",
       "                photo  pledged         profile            slug  \\\n",
       "9009   {\"small\":\"h...     0.00  {\"backgroun...  naked-fashi...   \n",
       "43010  {\"small\":\"h...     1.00  {\"backgroun...  the-multi-t...   \n",
       "61556  {\"small\":\"h...     1.00  {\"backgroun...    jesus-priest   \n",
       "63189  {\"small\":\"h...     0.00  {\"backgroun...  pg-reanimat...   \n",
       "68293  {\"small\":\"h...     0.00  {\"backgroun...  a-celtic-lo...   \n",
       "\n",
       "           source_url  spotlight  staff_pick     state state_changed_at  \\\n",
       "9009   https://www...      False       False    failed 2015-06-30 1...    \n",
       "43010  https://www...      False       False  canceled 2015-01-21 1...    \n",
       "61556  https://www...      False       False    failed 2015-05-04 1...    \n",
       "63189  https://www...      False       False    failed 2015-04-11 1...    \n",
       "68293  https://www...      False       False    failed 2015-11-30 1...    \n",
       "\n",
       "       static_usd_rate            urls  usd_pledged  usd_type        location  \\\n",
       "9009             0.83   {\"web\":{\"pr...         0.00  domestic  {\"country\":...   \n",
       "43010            1.00   {\"web\":{\"pr...         1.00  domestic  {\"country\":...   \n",
       "61556            0.80   {\"web\":{\"pr...         0.80  domestic  {\"country\":...   \n",
       "63189            1.00   {\"web\":{\"pr...         0.00  domestic  {\"country\":...   \n",
       "68293            1.52   {\"web\":{\"pr...         0.00  domestic  {\"country\":...   \n",
       "\n",
       "      friends is_backing is_starred permissions  \n",
       "9009      NaN        NaN        NaN         NaN  \n",
       "43010     NaN        NaN        NaN         NaN  \n",
       "61556     NaN        NaN        NaN         NaN  \n",
       "63189     NaN        NaN        NaN         NaN  \n",
       "68293     NaN        NaN        NaN         NaN  "
      ]
     },
     "execution_count": 58,
     "metadata": {},
     "output_type": "execute_result"
    }
   ],
   "source": [
    "pd.set_option('display.max_columns', None)\n",
    "pd.set_option('display.max_colwidth', 15)\n",
    "df[df.goal == 100000000].head()"
   ]
  },
  {
   "cell_type": "code",
   "execution_count": 59,
   "metadata": {},
   "outputs": [
    {
     "data": {
      "text/plain": [
       "count       199,704.00\n",
       "mean         42,197.86\n",
       "std       1,141,947.28\n",
       "min               0.01\n",
       "25%           1,500.00\n",
       "50%           5,000.00\n",
       "75%          12,122.60\n",
       "max     152,350,076.00\n",
       "Name: usd_goal, dtype: float64"
      ]
     },
     "execution_count": 59,
     "metadata": {},
     "output_type": "execute_result"
    }
   ],
   "source": [
    "df['usd_goal'] = df.goal*df.static_usd_rate\n",
    "df.usd_goal.describe()"
   ]
  },
  {
   "cell_type": "code",
   "execution_count": 60,
   "metadata": {},
   "outputs": [
    {
     "name": "stdout",
     "output_type": "stream",
     "text": [
      "(13, 38)\n"
     ]
    },
    {
     "data": {
      "text/html": [
       "<div>\n",
       "<style>\n",
       "    .dataframe thead tr:only-child th {\n",
       "        text-align: right;\n",
       "    }\n",
       "\n",
       "    .dataframe thead th {\n",
       "        text-align: left;\n",
       "    }\n",
       "\n",
       "    .dataframe tbody tr th {\n",
       "        vertical-align: top;\n",
       "    }\n",
       "</style>\n",
       "<table border=\"1\" class=\"dataframe\">\n",
       "  <thead>\n",
       "    <tr style=\"text-align: right;\">\n",
       "      <th></th>\n",
       "      <th>backers_count</th>\n",
       "      <th>blurb</th>\n",
       "      <th>category</th>\n",
       "      <th>converted_pledged_amount</th>\n",
       "      <th>country</th>\n",
       "      <th>created_at</th>\n",
       "      <th>creator</th>\n",
       "      <th>currency</th>\n",
       "      <th>currency_symbol</th>\n",
       "      <th>currency_trailing_code</th>\n",
       "      <th>current_currency</th>\n",
       "      <th>deadline</th>\n",
       "      <th>disable_communication</th>\n",
       "      <th>fx_rate</th>\n",
       "      <th>goal</th>\n",
       "      <th>id</th>\n",
       "      <th>is_starrable</th>\n",
       "      <th>launched_at</th>\n",
       "      <th>name</th>\n",
       "      <th>photo</th>\n",
       "      <th>pledged</th>\n",
       "      <th>profile</th>\n",
       "      <th>slug</th>\n",
       "      <th>source_url</th>\n",
       "      <th>spotlight</th>\n",
       "      <th>staff_pick</th>\n",
       "      <th>state</th>\n",
       "      <th>state_changed_at</th>\n",
       "      <th>static_usd_rate</th>\n",
       "      <th>urls</th>\n",
       "      <th>usd_pledged</th>\n",
       "      <th>usd_type</th>\n",
       "      <th>location</th>\n",
       "      <th>friends</th>\n",
       "      <th>is_backing</th>\n",
       "      <th>is_starred</th>\n",
       "      <th>permissions</th>\n",
       "      <th>usd_goal</th>\n",
       "    </tr>\n",
       "  </thead>\n",
       "  <tbody>\n",
       "    <tr>\n",
       "      <th>68293</th>\n",
       "      <td>0</td>\n",
       "      <td>A 2000 year...</td>\n",
       "      <td>{\"urls\":{\"w...</td>\n",
       "      <td>0</td>\n",
       "      <td>GB</td>\n",
       "      <td>2015-10-29 1...</td>\n",
       "      <td>{\"urls\":{\"w...</td>\n",
       "      <td>GBP</td>\n",
       "      <td>Â£</td>\n",
       "      <td>False</td>\n",
       "      <td>USD</td>\n",
       "      <td>2015-11-30 1...</td>\n",
       "      <td>False</td>\n",
       "      <td>1.40</td>\n",
       "      <td>100,000,000.00</td>\n",
       "      <td>2000749004</td>\n",
       "      <td>False</td>\n",
       "      <td>2015-11-16 2...</td>\n",
       "      <td>A Celtic Lo...</td>\n",
       "      <td>{\"small\":\"h...</td>\n",
       "      <td>0.00</td>\n",
       "      <td>{\"backgroun...</td>\n",
       "      <td>a-celtic-lo...</td>\n",
       "      <td>https://www...</td>\n",
       "      <td>False</td>\n",
       "      <td>False</td>\n",
       "      <td>failed</td>\n",
       "      <td>2015-11-30 1...</td>\n",
       "      <td>1.52</td>\n",
       "      <td>{\"web\":{\"pr...</td>\n",
       "      <td>0.00</td>\n",
       "      <td>domestic</td>\n",
       "      <td>{\"country\":...</td>\n",
       "      <td>NaN</td>\n",
       "      <td>NaN</td>\n",
       "      <td>NaN</td>\n",
       "      <td>NaN</td>\n",
       "      <td>152,350,076.00</td>\n",
       "    </tr>\n",
       "    <tr>\n",
       "      <th>73225</th>\n",
       "      <td>2</td>\n",
       "      <td>Erlebe haut...</td>\n",
       "      <td>{\"urls\":{\"w...</td>\n",
       "      <td>38</td>\n",
       "      <td>DE</td>\n",
       "      <td>2017-01-11 2...</td>\n",
       "      <td>{\"urls\":{\"w...</td>\n",
       "      <td>EUR</td>\n",
       "      <td>â‚¬</td>\n",
       "      <td>False</td>\n",
       "      <td>USD</td>\n",
       "      <td>2017-03-14 1...</td>\n",
       "      <td>False</td>\n",
       "      <td>1.25</td>\n",
       "      <td>100,000,000.00</td>\n",
       "      <td>2132015082</td>\n",
       "      <td>False</td>\n",
       "      <td>2017-01-13 1...</td>\n",
       "      <td>DER NEANDER...</td>\n",
       "      <td>{\"small\":\"h...</td>\n",
       "      <td>36.00</td>\n",
       "      <td>{\"backgroun...</td>\n",
       "      <td>der-neander...</td>\n",
       "      <td>https://www...</td>\n",
       "      <td>False</td>\n",
       "      <td>False</td>\n",
       "      <td>failed</td>\n",
       "      <td>2017-03-14 1...</td>\n",
       "      <td>1.06</td>\n",
       "      <td>{\"web\":{\"pr...</td>\n",
       "      <td>38.16</td>\n",
       "      <td>domestic</td>\n",
       "      <td>{\"country\":...</td>\n",
       "      <td>NaN</td>\n",
       "      <td>NaN</td>\n",
       "      <td>NaN</td>\n",
       "      <td>NaN</td>\n",
       "      <td>105,999,014.00</td>\n",
       "    </tr>\n",
       "    <tr>\n",
       "      <th>96985</th>\n",
       "      <td>0</td>\n",
       "      <td>My wife And...</td>\n",
       "      <td>{\"urls\":{\"w...</td>\n",
       "      <td>0</td>\n",
       "      <td>CH</td>\n",
       "      <td>2015-08-01 0...</td>\n",
       "      <td>{\"urls\":{\"w...</td>\n",
       "      <td>CHF</td>\n",
       "      <td>Fr</td>\n",
       "      <td>False</td>\n",
       "      <td>USD</td>\n",
       "      <td>2015-10-05 1...</td>\n",
       "      <td>False</td>\n",
       "      <td>1.08</td>\n",
       "      <td>100,000,000.00</td>\n",
       "      <td>219702078</td>\n",
       "      <td>False</td>\n",
       "      <td>2015-08-06 1...</td>\n",
       "      <td>Kitchen fro...</td>\n",
       "      <td>{\"small\":\"h...</td>\n",
       "      <td>0.00</td>\n",
       "      <td>{\"backgroun...</td>\n",
       "      <td>kitchen-fro...</td>\n",
       "      <td>https://www...</td>\n",
       "      <td>False</td>\n",
       "      <td>False</td>\n",
       "      <td>failed</td>\n",
       "      <td>2015-10-05 1...</td>\n",
       "      <td>1.02</td>\n",
       "      <td>{\"web\":{\"pr...</td>\n",
       "      <td>0.00</td>\n",
       "      <td>domestic</td>\n",
       "      <td>{\"country\":...</td>\n",
       "      <td>NaN</td>\n",
       "      <td>NaN</td>\n",
       "      <td>NaN</td>\n",
       "      <td>NaN</td>\n",
       "      <td>102,344,508.00</td>\n",
       "    </tr>\n",
       "  </tbody>\n",
       "</table>\n",
       "</div>"
      ],
      "text/plain": [
       "       backers_count           blurb        category  \\\n",
       "68293              0  A 2000 year...  {\"urls\":{\"w...   \n",
       "73225              2  Erlebe haut...  {\"urls\":{\"w...   \n",
       "96985              0  My wife And...  {\"urls\":{\"w...   \n",
       "\n",
       "       converted_pledged_amount country      created_at         creator  \\\n",
       "68293               0                GB 2015-10-29 1...  {\"urls\":{\"w...   \n",
       "73225              38                DE 2017-01-11 2...  {\"urls\":{\"w...   \n",
       "96985               0                CH 2015-08-01 0...  {\"urls\":{\"w...   \n",
       "\n",
       "      currency currency_symbol  currency_trailing_code current_currency  \\\n",
       "68293      GBP              Â£           False                     USD    \n",
       "73225      EUR             â‚¬           False                     USD    \n",
       "96985      CHF             Fr            False                     USD    \n",
       "\n",
       "             deadline  disable_communication  fx_rate           goal  \\\n",
       "68293 2015-11-30 1...           False            1.40 100,000,000.00   \n",
       "73225 2017-03-14 1...           False            1.25 100,000,000.00   \n",
       "96985 2015-10-05 1...           False            1.08 100,000,000.00   \n",
       "\n",
       "               id  is_starrable     launched_at            name  \\\n",
       "68293  2000749004         False 2015-11-16 2...  A Celtic Lo...   \n",
       "73225  2132015082         False 2017-01-13 1...  DER NEANDER...   \n",
       "96985   219702078         False 2015-08-06 1...  Kitchen fro...   \n",
       "\n",
       "                photo  pledged         profile            slug  \\\n",
       "68293  {\"small\":\"h...     0.00  {\"backgroun...  a-celtic-lo...   \n",
       "73225  {\"small\":\"h...    36.00  {\"backgroun...  der-neander...   \n",
       "96985  {\"small\":\"h...     0.00  {\"backgroun...  kitchen-fro...   \n",
       "\n",
       "           source_url  spotlight  staff_pick   state state_changed_at  \\\n",
       "68293  https://www...      False       False  failed 2015-11-30 1...    \n",
       "73225  https://www...      False       False  failed 2017-03-14 1...    \n",
       "96985  https://www...      False       False  failed 2015-10-05 1...    \n",
       "\n",
       "       static_usd_rate            urls  usd_pledged  usd_type        location  \\\n",
       "68293            1.52   {\"web\":{\"pr...         0.00  domestic  {\"country\":...   \n",
       "73225            1.06   {\"web\":{\"pr...        38.16  domestic  {\"country\":...   \n",
       "96985            1.02   {\"web\":{\"pr...         0.00  domestic  {\"country\":...   \n",
       "\n",
       "      friends is_backing is_starred permissions       usd_goal  \n",
       "68293     NaN        NaN        NaN         NaN 152,350,076.00  \n",
       "73225     NaN        NaN        NaN         NaN 105,999,014.00  \n",
       "96985     NaN        NaN        NaN         NaN 102,344,508.00  "
      ]
     },
     "execution_count": 60,
     "metadata": {},
     "output_type": "execute_result"
    }
   ],
   "source": [
    "print(df[df.usd_goal >= 100000000].shape)\n",
    "pd.set_option('display.max_colwidth', 15)\n",
    "df[df.usd_goal > 100000000].head()"
   ]
  },
  {
   "cell_type": "code",
   "execution_count": 61,
   "metadata": {},
   "outputs": [
    {
     "data": {
      "text/plain": [
       "43010     {\"web\":{\"project\":\"https://www.kickstarter.com/projects/2004926375/the-multi-trillion-dollar-dreamtm?ref=category_newest\",\"rewards\":\"https://www.kickstarter.com/projects/2004926375/the-multi-trillion-dollar-dreamtm/rewards\"}}                              \n",
       "63189     {\"web\":{\"project\":\"https://www.kickstarter.com/projects/805079035/pg-reanimated-cartoons?ref=category_newest\",\"rewards\":\"https://www.kickstarter.com/projects/805079035/pg-reanimated-cartoons/rewards\"}}                                                      \n",
       "68293     {\"web\":{\"project\":\"https://www.kickstarter.com/projects/245190432/a-celtic-lovestory?ref=category_newest\",\"rewards\":\"https://www.kickstarter.com/projects/245190432/a-celtic-lovestory/rewards\"}}                                                              \n",
       "73215     {\"web\":{\"project\":\"https://www.kickstarter.com/projects/universalechelon/the-throne-fall-of-lucifer?ref=category_newest\",\"rewards\":\"https://www.kickstarter.com/projects/universalechelon/the-throne-fall-of-lucifer/rewards\"}}                                \n",
       "73225     {\"web\":{\"project\":\"https://www.kickstarter.com/projects/635433513/der-neandertaler-kinofilm-mit-starbesetzung-in-3d?ref=category_newest\",\"rewards\":\"https://www.kickstarter.com/projects/635433513/der-neandertaler-kinofilm-mit-starbesetzung-in-3d/rewards\"}}\n",
       "74313     {\"web\":{\"project\":\"https://www.kickstarter.com/projects/respecttherapper/the-scariest-movie-ever-created?ref=category_newest\",\"rewards\":\"https://www.kickstarter.com/projects/respecttherapper/the-scariest-movie-ever-created/rewards\"}}                      \n",
       "75704     {\"web\":{\"project\":\"https://www.kickstarter.com/projects/434641847/sage-warrior-of-the-fallen-gods-movie?ref=category_newest\",\"rewards\":\"https://www.kickstarter.com/projects/434641847/sage-warrior-of-the-fallen-gods-movie/rewards\"}}                        \n",
       "77948     {\"web\":{\"project\":\"https://www.kickstarter.com/projects/1076478145/the-time-jumper?ref=category_newest\",\"rewards\":\"https://www.kickstarter.com/projects/1076478145/the-time-jumper/rewards\"}}                                                                  \n",
       "96985     {\"web\":{\"project\":\"https://www.kickstarter.com/projects/kammerhofer/kitchen-from-austria-in-switzerland?ref=category_newest\",\"rewards\":\"https://www.kickstarter.com/projects/kammerhofer/kitchen-from-austria-in-switzerland/rewards\"}}                        \n",
       "103334    {\"web\":{\"project\":\"https://www.kickstarter.com/projects/1984842510/virtual-reality-playground-in-buffalo-ny?ref=category_newest\",\"rewards\":\"https://www.kickstarter.com/projects/1984842510/virtual-reality-playground-in-buffalo-ny/rewards\"}}                \n",
       "116999    {\"web\":{\"project\":\"https://www.kickstarter.com/projects/1882252849/lets-prove-the-earth-is-flat?ref=category_newest\",\"rewards\":\"https://www.kickstarter.com/projects/1882252849/lets-prove-the-earth-is-flat/rewards\"}}                                        \n",
       "121357    {\"web\":{\"project\":\"https://www.kickstarter.com/projects/1091086942/help-me-start-a-fair-media-company-trump-media?ref=category_newest\",\"rewards\":\"https://www.kickstarter.com/projects/1091086942/help-me-start-a-fair-media-company-trump-media/rewards\"}}    \n",
       "197724    {\"web\":{\"project\":\"https://www.kickstarter.com/projects/321109934/a-billion-pixels?ref=category_newest\",\"rewards\":\"https://www.kickstarter.com/projects/321109934/a-billion-pixels/rewards\"}}                                                                  \n",
       "Name: urls, dtype: object"
      ]
     },
     "execution_count": 61,
     "metadata": {},
     "output_type": "execute_result"
    }
   ],
   "source": [
    "pd.set_option('display.max_colwidth', -1)\n",
    "df[df.usd_goal >= 100000000].urls"
   ]
  },
  {
   "cell_type": "code",
   "execution_count": 62,
   "metadata": {},
   "outputs": [
    {
     "name": "stdout",
     "output_type": "stream",
     "text": [
      "79\n"
     ]
    },
    {
     "data": {
      "image/png": "[encoded data removed]",
      "text/plain": [
       "<matplotlib.figure.Figure at 0x175f7d03898>"
      ]
     },
     "metadata": {},
     "output_type": "display_data"
    },
    {
     "data": {
      "image/png": "[encoded data removed]",
      "text/plain": [
       "<matplotlib.figure.Figure at 0x175f9214940>"
      ]
     },
     "metadata": {},
     "output_type": "display_data"
    }
   ],
   "source": [
    "print(np.sum(df.usd_goal > 10266845.74))\n",
    "plot_hist_title('usd_goal')\n",
    "plot_box_title('usd_goal')"
   ]
  },
  {
   "cell_type": "code",
   "execution_count": 63,
   "metadata": {},
   "outputs": [],
   "source": [
    "df = df[df.usd_goal < df.usd_pledged.max()]"
   ]
  },
  {
   "cell_type": "code",
   "execution_count": 64,
   "metadata": {},
   "outputs": [
    {
     "name": "stdout",
     "output_type": "stream",
     "text": [
      "<class 'pandas.core.frame.DataFrame'>\n",
      "Int64Index: 199625 entries, 0 to 199703\n",
      "Data columns (total 38 columns):\n",
      "backers_count               199625 non-null int64\n",
      "blurb                       199613 non-null object\n",
      "category                    199625 non-null object\n",
      "converted_pledged_amount    199625 non-null int64\n",
      "country                     199625 non-null object\n",
      "created_at                  199625 non-null datetime64[ns]\n",
      "creator                     199625 non-null object\n",
      "currency                    199625 non-null object\n",
      "currency_symbol             199625 non-null object\n",
      "currency_trailing_code      199625 non-null bool\n",
      "current_currency            199625 non-null object\n",
      "deadline                    199625 non-null datetime64[ns]\n",
      "disable_communication       199625 non-null bool\n",
      "fx_rate                     199625 non-null float64\n",
      "goal                        199625 non-null float64\n",
      "id                          199625 non-null int64\n",
      "is_starrable                199625 non-null bool\n",
      "launched_at                 199625 non-null datetime64[ns]\n",
      "name                        199624 non-null object\n",
      "photo                       199625 non-null object\n",
      "pledged                     199625 non-null float64\n",
      "profile                     199625 non-null object\n",
      "slug                        199625 non-null object\n",
      "source_url                  199625 non-null object\n",
      "spotlight                   199625 non-null bool\n",
      "staff_pick                  199625 non-null bool\n",
      "state                       199625 non-null object\n",
      "state_changed_at            199625 non-null datetime64[ns]\n",
      "static_usd_rate             199625 non-null float64\n",
      "urls                        199625 non-null object\n",
      "usd_pledged                 199625 non-null float64\n",
      "usd_type                    199625 non-null object\n",
      "location                    198210 non-null object\n",
      "friends                     168 non-null object\n",
      "is_backing                  168 non-null object\n",
      "is_starred                  168 non-null object\n",
      "permissions                 168 non-null object\n",
      "usd_goal                    199625 non-null float64\n",
      "dtypes: bool(5), datetime64[ns](4), float64(6), int64(3), object(20)\n",
      "memory usage: 52.7+ MB\n",
      "None\n",
      "\n"
     ]
    },
    {
     "data": {
      "text/plain": [
       "Index(['backers_count', 'blurb', 'category', 'converted_pledged_amount',\n",
       "       'country', 'created_at', 'creator', 'currency', 'currency_symbol',\n",
       "       'currency_trailing_code', 'current_currency', 'deadline',\n",
       "       'disable_communication', 'fx_rate', 'goal', 'id', 'is_starrable',\n",
       "       'launched_at', 'name', 'photo', 'pledged', 'profile', 'slug',\n",
       "       'source_url', 'spotlight', 'staff_pick', 'state', 'state_changed_at',\n",
       "       'static_usd_rate', 'urls', 'usd_pledged', 'usd_type', 'location',\n",
       "       'friends', 'is_backing', 'is_starred', 'permissions', 'usd_goal'],\n",
       "      dtype='object')"
      ]
     },
     "execution_count": 64,
     "metadata": {},
     "output_type": "execute_result"
    }
   ],
   "source": [
    "print(df.info())\n",
    "print()\n",
    "df.columns\n"
   ]
  },
  {
   "cell_type": "code",
   "execution_count": 65,
   "metadata": {},
   "outputs": [
    {
     "name": "stdout",
     "output_type": "stream",
     "text": [
      "<class 'pandas.core.frame.DataFrame'>\n",
      "Int64Index: 195536 entries, 0 to 199703\n",
      "Data columns (total 38 columns):\n",
      "backers_count               195536 non-null int64\n",
      "blurb                       195526 non-null object\n",
      "category                    195536 non-null object\n",
      "converted_pledged_amount    195536 non-null int64\n",
      "country                     195536 non-null object\n",
      "created_at                  195536 non-null datetime64[ns]\n",
      "creator                     195536 non-null object\n",
      "currency                    195536 non-null object\n",
      "currency_symbol             195536 non-null object\n",
      "currency_trailing_code      195536 non-null bool\n",
      "current_currency            195536 non-null object\n",
      "deadline                    195536 non-null datetime64[ns]\n",
      "disable_communication       195536 non-null bool\n",
      "fx_rate                     195536 non-null float64\n",
      "goal                        195536 non-null float64\n",
      "id                          195536 non-null int64\n",
      "is_starrable                195536 non-null bool\n",
      "launched_at                 195536 non-null datetime64[ns]\n",
      "name                        195535 non-null object\n",
      "photo                       195536 non-null object\n",
      "pledged                     195536 non-null float64\n",
      "profile                     195536 non-null object\n",
      "slug                        195536 non-null object\n",
      "source_url                  195536 non-null object\n",
      "spotlight                   195536 non-null bool\n",
      "staff_pick                  195536 non-null bool\n",
      "state                       195536 non-null object\n",
      "state_changed_at            195536 non-null datetime64[ns]\n",
      "static_usd_rate             195536 non-null float64\n",
      "urls                        195536 non-null object\n",
      "usd_pledged                 195536 non-null float64\n",
      "usd_type                    195536 non-null object\n",
      "location                    194186 non-null object\n",
      "friends                     168 non-null object\n",
      "is_backing                  168 non-null object\n",
      "is_starred                  168 non-null object\n",
      "permissions                 168 non-null object\n",
      "usd_goal                    195536 non-null float64\n",
      "dtypes: bool(5), datetime64[ns](4), float64(6), int64(3), object(20)\n",
      "memory usage: 51.7+ MB\n",
      "None\n",
      "4089\n"
     ]
    }
   ],
   "source": [
    "#2 Check for duplicates\n",
    "df = df.drop_duplicates()\n",
    "print(df.info())\n",
    "print(str(199625 - 195536))"
   ]
  },
  {
   "cell_type": "markdown",
   "metadata": {},
   "source": [
    "### How big and diverse is Kickstarter?"
   ]
  },
  {
   "cell_type": "code",
   "execution_count": 66,
   "metadata": {},
   "outputs": [
    {
     "name": "stdout",
     "output_type": "stream",
     "text": [
      "How many countries?  22\n"
     ]
    },
    {
     "data": {
      "image/png": "[encoded data removed]",
      "text/plain": [
       "<matplotlib.figure.Figure at 0x175fc3b9c18>"
      ]
     },
     "metadata": {},
     "output_type": "display_data"
    },
    {
     "name": "stdout",
     "output_type": "stream",
     "text": [
      "US   0.79\n",
      "GB   0.08\n",
      "CA   0.04\n",
      "AU   0.02\n",
      "DE   0.01\n",
      "Name: country, dtype: float64\n",
      "['US', 'GB', 'CA', 'AU', 'DE']\n"
     ]
    }
   ],
   "source": [
    "x = df['country'].value_counts().index\n",
    "h = df['country'].value_counts(normalize = True)\n",
    "print('How many countries? ', str(len(x)))\n",
    "plt.bar(x, height = h)\n",
    "plt.gca().set_yticklabels(['{:.0f}%'.format(x*100) for x in plt.gca().get_yticks()]) \n",
    "plt.show()\n",
    "top5 = df['country'].value_counts(normalize = True).head()\n",
    "print(top5)\n",
    "print(list(top5.index))"
   ]
  },
  {
   "cell_type": "code",
   "execution_count": 67,
   "metadata": {},
   "outputs": [
    {
     "name": "stdout",
     "output_type": "stream",
     "text": [
      "Index(['US', 'GB', 'Other', 'CA', 'AU', 'DE'], dtype='object')\n",
      "US      0.79\n",
      "GB      0.08\n",
      "Other   0.06\n",
      "CA      0.04\n",
      "AU      0.02\n",
      "DE      0.01\n",
      "Name: country, dtype: float64\n"
     ]
    },
    {
     "data": {
      "image/png": "[encoded data removed]",
      "text/plain": [
       "<matplotlib.figure.Figure at 0x175fad8dd30>"
      ]
     },
     "metadata": {},
     "output_type": "display_data"
    }
   ],
   "source": [
    "df.country = df.country.apply(lambda x: x if x in list(top5.index) else 'Other')\n",
    "print(df.country.value_counts().index)\n",
    "print(df.country.value_counts(normalize = True))\n",
    "x = df.country.value_counts().index\n",
    "h = df.country.value_counts(normalize = True)\n",
    "fig, ax = plt.subplots()\n",
    "ind = np.arange(len(x))\n",
    "bars = ax.bar(ind, list(map(float,h)),tick_label = x)\n",
    "ax.set_yticklabels(['{:.0f}%'.format(x*100) for x in plt.gca().get_yticks()], visible = False)\n",
    "for bar in bars:\n",
    "    ax.text(bar.get_x() + .15, bar.get_height() + .05, str('{:.1f}%'.format(bar.get_height()*100)))\n",
    "ax.spines['top'].set_visible(False)\n",
    "ax.spines['right'].set_visible(False)\n",
    "ax.spines['bottom'].set_visible(False)\n",
    "ax.spines['left'].set_visible(False)\n",
    "plt.gca().axes.get_yaxis().set_visible(False)\n",
    "plt.show()\n"
   ]
  },
  {
   "cell_type": "markdown",
   "metadata": {},
   "source": [
    "## Unsurprisingly, the US is the country with the most projects, followed by Great Britain, Canada, Australia and Germany.  "
   ]
  },
  {
   "cell_type": "code",
   "execution_count": 68,
   "metadata": {},
   "outputs": [
    {
     "name": "stdout",
     "output_type": "stream",
     "text": [
      "music          26398\n",
      "film           26160\n",
      "technology     20252\n",
      "art            19687\n",
      "publishing     19135\n",
      "food           15240\n",
      "games          13659\n",
      "fashion        8835 \n",
      "design         8404 \n",
      "comics         7983 \n",
      "photography    7508 \n",
      "crafts         6620 \n",
      "theater        6332 \n",
      "journalism     5445 \n",
      "dance          3878 \n",
      "Name: cat, dtype: int64\n"
     ]
    },
    {
     "data": {
      "text/plain": [
       "music         0.14\n",
       "film          0.13\n",
       "technology    0.10\n",
       "art           0.10\n",
       "publishing    0.10\n",
       "food          0.08\n",
       "games         0.07\n",
       "fashion       0.05\n",
       "design        0.04\n",
       "comics        0.04\n",
       "photography   0.04\n",
       "crafts        0.03\n",
       "theater       0.03\n",
       "journalism    0.03\n",
       "dance         0.02\n",
       "Name: cat, dtype: float64"
      ]
     },
     "execution_count": 68,
     "metadata": {},
     "output_type": "execute_result"
    }
   ],
   "source": [
    "#Get the categories and subcategories\n",
    "def get_category(s):\n",
    "    m = re.search('g\":(.*)\"',s)[0].split('/')\n",
    "    cat = re.search('\\w+',m[0].split(':')[1])\n",
    "    return cat.group(0)\n",
    "\n",
    "def get_subcategory(s):\n",
    "    m = re.search('g\":(.*)\"',s)[0].split('/')\n",
    "    if len(m) < 2:\n",
    "        return 'undisclosed'\n",
    "    else:\n",
    "        sub = re.search('\\w+',m[1])\n",
    "    return sub.group(0)\n",
    "\n",
    "df['cat'] = df['category'].apply(get_category)\n",
    "df['sub_cat'] = df['category'].apply(get_subcategory)\n",
    "print(df['cat'].value_counts())\n",
    "df['cat'].value_counts(normalize = True)"
   ]
  },
  {
   "cell_type": "code",
   "execution_count": 69,
   "metadata": {},
   "outputs": [
    {
     "data": {
      "image/png": "[encoded data removed]",
      "text/plain": [
       "<matplotlib.figure.Figure at 0x175fad8ddd8>"
      ]
     },
     "metadata": {},
     "output_type": "display_data"
    }
   ],
   "source": [
    "x = df.state.value_counts().index\n",
    "h = df.state.value_counts(normalize = True)\n",
    "fig, ax = plt.subplots()\n",
    "ind = np.arange(len(x))\n",
    "bars = ax.bar(ind, list(map(float,h)),tick_label = x)\n",
    "ax.set_yticklabels(['{:.0f}%'.format(x*100) for x in plt.gca().get_yticks()], visible = False)\n",
    "for bar in bars:\n",
    "    ax.text(bar.get_x() + .15, bar.get_height() + .025, str('{:.1f}%'.format(bar.get_height()*100)))\n",
    "ax.spines['top'].set_visible(False)\n",
    "ax.spines['right'].set_visible(False)\n",
    "ax.spines['bottom'].set_visible(False)\n",
    "ax.spines['left'].set_visible(False)\n",
    "plt.gca().axes.get_yaxis().set_visible(False)\n",
    "plt.show()"
   ]
  },
  {
   "cell_type": "markdown",
   "metadata": {},
   "source": [
    "### 54% of the projects succeed, while 42% fail or are canceled."
   ]
  },
  {
   "cell_type": "code",
   "execution_count": 70,
   "metadata": {},
   "outputs": [
    {
     "data": {
      "text/plain": [
       "count   195,536.00   \n",
       "mean    11,885.85    \n",
       "std     91,964.47    \n",
       "min     0.00         \n",
       "25%     96.21        \n",
       "50%     1,450.00     \n",
       "75%     5,988.00     \n",
       "max     10,266,845.74\n",
       "Name: usd_pledged, dtype: float64"
      ]
     },
     "execution_count": 70,
     "metadata": {},
     "output_type": "execute_result"
    }
   ],
   "source": [
    "df['usd_pledged'].describe()"
   ]
  },
  {
   "cell_type": "code",
   "execution_count": 71,
   "metadata": {},
   "outputs": [],
   "source": [
    "### Move this to a .py file\n",
    "\n",
    "### Got this function from stack overflow to get rid of the outliers and improve visualizations:\n",
    "def is_outlier(points, thresh = 3.5):\n",
    "    \"\"\"\n",
    "    Returns a boolean array with True if points are outliers and False \n",
    "    otherwise.\n",
    "\n",
    "    Parameters:\n",
    "    -----------\n",
    "        points : An numobservations by numdimensions array of observations\n",
    "        thresh : The modified z-score to use as a threshold. Observations with\n",
    "            a modified z-score (based on the median absolute deviation) greater\n",
    "            than this value will be classified as outliers.\n",
    "\n",
    "    Returns:\n",
    "    --------\n",
    "        mask : A numobservations-length boolean array.\n",
    "\n",
    "    References:\n",
    "    ----------\n",
    "        Boris Iglewicz and David Hoaglin (1993), \"Volume 16: How to Detect and\n",
    "        Handle Outliers\", The ASQC Basic References in Quality Control:\n",
    "        Statistical Techniques, Edward F. Mykytka, Ph.D., Editor. \n",
    "    \"\"\"\n",
    "    if len(points.shape) == 1:\n",
    "        points = points[:,None]\n",
    "    median = np.median(points, axis=0)\n",
    "    diff = np.sum((points - median)**2, axis=-1)\n",
    "    diff = np.sqrt(diff)\n",
    "    med_abs_deviation = np.median(diff)\n",
    "\n",
    "    modified_z_score = 0.6745 * diff / med_abs_deviation\n",
    "\n",
    "    return modified_z_score > thresh"
   ]
  },
  {
   "cell_type": "code",
   "execution_count": 72,
   "metadata": {},
   "outputs": [
    {
     "data": {
      "text/plain": [
       "<function matplotlib.pyplot.show(*args, **kw)>"
      ]
     },
     "execution_count": 72,
     "metadata": {},
     "output_type": "execute_result"
    },
    {
     "data": {
      "image/png": "[encoded data removed]",
      "text/plain": [
       "<matplotlib.figure.Figure at 0x175fada5518>"
      ]
     },
     "metadata": {},
     "output_type": "display_data"
    }
   ],
   "source": [
    "plt.hist(df.usd_pledged[~is_outlier(df.usd_pledged)], bins = 50)\n",
    "plt.show"
   ]
  },
  {
   "cell_type": "code",
   "execution_count": 73,
   "metadata": {},
   "outputs": [
    {
     "data": {
      "text/plain": [
       "<matplotlib.axes._subplots.AxesSubplot at 0x17581789780>"
      ]
     },
     "execution_count": 73,
     "metadata": {},
     "output_type": "execute_result"
    },
    {
     "data": {
      "image/png": "[encoded data removed]",
      "text/plain": [
       "<matplotlib.figure.Figure at 0x175848a1e10>"
      ]
     },
     "metadata": {},
     "output_type": "display_data"
    }
   ],
   "source": [
    "df.plot.scatter(x = 'backers_count', y = 'usd_pledged', alpha = 0.35)"
   ]
  },
  {
   "cell_type": "markdown",
   "metadata": {},
   "source": [
    "### Paul: \"I know that the project goal has a strong effect on donations (people are less likely to donate once the goal is reached) so that might have a ceiling effect that's worth depicting in some way.\""
   ]
  },
  {
   "cell_type": "code",
   "execution_count": 75,
   "metadata": {},
   "outputs": [
    {
     "name": "stdout",
     "output_type": "stream",
     "text": [
      "count   195,536.00   \n",
      "mean    24,608.38    \n",
      "std     199,952.41   \n",
      "min     0.01         \n",
      "25%     1,561.49     \n",
      "50%     5,000.00     \n",
      "75%     12,500.00    \n",
      "max     10,000,000.00\n",
      "Name: usd_goal, dtype: float64\n"
     ]
    },
    {
     "data": {
      "text/plain": [
       "<matplotlib.axes._subplots.AxesSubplot at 0x1760fd79b38>"
      ]
     },
     "execution_count": 75,
     "metadata": {},
     "output_type": "execute_result"
    },
    {
     "data": {
      "image/png": "[encoded data removed]",
      "text/plain": [
       "<matplotlib.figure.Figure at 0x175f5bd3b00>"
      ]
     },
     "metadata": {},
     "output_type": "display_data"
    }
   ],
   "source": [
    "print(df.usd_goal.describe())\n",
    "df.plot.scatter(x = 'usd_goal', y = 'usd_pledged')"
   ]
  },
  {
   "cell_type": "markdown",
   "metadata": {},
   "source": [
    "### Weird result, it's worth normalizing and seeing the distribution."
   ]
  },
  {
   "cell_type": "code",
   "execution_count": 77,
   "metadata": {},
   "outputs": [
    {
     "name": "stdout",
     "output_type": "stream",
     "text": [
      "count   189,607.00\n",
      "mean    0.81      \n",
      "std     0.86      \n",
      "min     0.00      \n",
      "25%     0.02      \n",
      "50%     1.00      \n",
      "75%     1.17      \n",
      "max     5.16      \n",
      "Name: pct_acc_goal, dtype: float64\n"
     ]
    },
    {
     "data": {
      "image/png": "[encoded data removed]",
      "text/plain": [
       "<matplotlib.figure.Figure at 0x1760e839470>"
      ]
     },
     "metadata": {},
     "output_type": "display_data"
    }
   ],
   "source": [
    "df['pct_acc_goal'] = df['usd_pledged']/df['usd_goal']\n",
    "print(df.pct_acc_goal[~is_outlier(df.pct_acc_goal)].describe())\n",
    "plt.hist(df.pct_acc_goal[~is_outlier(df.pct_acc_goal)], bins = 100)\n",
    "plt.ylabel('project count')\n",
    "plt.xlabel('Pledge/Goal')\n",
    "plt.show()"
   ]
  },
  {
   "cell_type": "markdown",
   "metadata": {},
   "source": [
    "### The median project gets exactly their goal, but there are big outliers that push the mean even higher. It would be interesting to see this result by state of the project. That is, many projects are concentrated around zero, which are likely to have failed, while the other mode is in one, which should be correlated with succesful projects. "
   ]
  },
  {
   "cell_type": "code",
   "execution_count": 78,
   "metadata": {},
   "outputs": [
    {
     "data": {
      "image/png": "[encoded data removed]",
      "text/plain": [
       "<matplotlib.figure.Figure at 0x1760e4ff7f0>"
      ]
     },
     "metadata": {},
     "output_type": "display_data"
    },
    {
     "data": {
      "image/png": "[encoded data removed]",
      "text/plain": [
       "<matplotlib.figure.Figure at 0x1760e3b3c88>"
      ]
     },
     "metadata": {},
     "output_type": "display_data"
    },
    {
     "data": {
      "image/png": "[encoded data removed]",
      "text/plain": [
       "<matplotlib.figure.Figure at 0x1760e347a20>"
      ]
     },
     "metadata": {},
     "output_type": "display_data"
    }
   ],
   "source": [
    "plt.hist(df.pct_acc_goal[~is_outlier(df.pct_acc_goal)][df.state == 'failed'], bins = 50, density = True)\n",
    "plt.title('% of goal achieved for failed projects')\n",
    "plt.show()\n",
    "plt.hist(df.pct_acc_goal[~is_outlier(df.pct_acc_goal)][df.state == 'successful'], bins = 50, density = True)\n",
    "plt.title('% of goal achieved for successful projects')\n",
    "plt.show()\n",
    "x = df[df.state == 'successful']\n",
    "lineStart = x.usd_goal.min() \n",
    "lineEnd = x.usd_goal.max()  \n",
    "x.plot.scatter(x = 'usd_goal', y = 'usd_pledged', alpha = 0.35)\n",
    "plt.xticks(rotation='vertical')\n",
    "plt.plot([lineStart, lineEnd], [lineStart, lineEnd], 'k-', color = 'r')\n",
    "plt.xlim(lineStart, lineEnd)\n",
    "plt.ylim(lineStart, lineEnd)\n",
    "plt.title('Goal vs. Pledged amounts for successful projects')\n",
    "plt.show()"
   ]
  },
  {
   "cell_type": "code",
   "execution_count": 79,
   "metadata": {},
   "outputs": [
    {
     "data": {
      "text/plain": [
       "count   105,680.00\n",
       "mean    6.41      \n",
       "std     259.75    \n",
       "min     1.00      \n",
       "25%     1.05      \n",
       "50%     1.16      \n",
       "75%     1.59      \n",
       "max     41,535.01 \n",
       "Name: pct_acc_goal, dtype: float64"
      ]
     },
     "execution_count": 79,
     "metadata": {},
     "output_type": "execute_result"
    }
   ],
   "source": [
    "df[df.state == 'successful'].pct_acc_goal.describe()"
   ]
  },
  {
   "cell_type": "markdown",
   "metadata": {},
   "source": [
    "### After cleaning outliers, and focusing on sucessful projects we can see that most succesful projects get much more pledged capital than what they need. This points to certain motivations beyond making the project viable."
   ]
  },
  {
   "cell_type": "code",
   "execution_count": 80,
   "metadata": {},
   "outputs": [
    {
     "name": "stdout",
     "output_type": "stream",
     "text": [
      "count   174,742.00\n",
      "mean    78.49     \n",
      "std     139.12    \n",
      "min     0.46      \n",
      "25%     29.24     \n",
      "50%     51.55     \n",
      "75%     88.29     \n",
      "max     10,000.00 \n",
      "Name: avg_pledge, dtype: float64\n"
     ]
    },
    {
     "data": {
      "image/png": "[encoded data removed]",
      "text/plain": [
       "<matplotlib.figure.Figure at 0x1760fd524a8>"
      ]
     },
     "metadata": {},
     "output_type": "display_data"
    }
   ],
   "source": [
    "df['avg_pledge'] = df['usd_pledged']/df['backers_count']\n",
    "print(df['avg_pledge'].describe())\n",
    "plt.hist(df.avg_pledge[df.avg_pledge < 1000], bins = 100, density = True)\n",
    "plt.show()"
   ]
  },
  {
   "cell_type": "markdown",
   "metadata": {},
   "source": [
    "### When veryfying each projects have the highest average pledge, we realize that technology shows up between the best:"
   ]
  },
  {
   "cell_type": "code",
   "execution_count": 81,
   "metadata": {},
   "outputs": [
    {
     "name": "stderr",
     "output_type": "stream",
     "text": [
      "c:\\users\\sm_fe\\anaconda3\\lib\\site-packages\\numpy\\core\\fromnumeric.py:57: FutureWarning: reshape is deprecated and will raise in a subsequent release. Please use .values.reshape(...) instead\n",
      "  return getattr(obj, method)(*args, **kwds)\n"
     ]
    },
    {
     "data": {
      "text/plain": [
       "<matplotlib.axes._subplots.AxesSubplot at 0x175cd7d4668>"
      ]
     },
     "execution_count": 81,
     "metadata": {},
     "output_type": "execute_result"
    },
    {
     "data": {
      "image/png": "[encoded data removed]",
      "text/plain": [
       "<matplotlib.figure.Figure at 0x175c22840b8>"
      ]
     },
     "metadata": {},
     "output_type": "display_data"
    }
   ],
   "source": [
    "fig3, ax3 = plt.subplots(figsize=(16,10))\n",
    "\n",
    "ax3.set_xlabel('Categories')\n",
    "ax3.set_ylabel('Pledge Amount')\n",
    "\n",
    "df.boxplot(column = ['avg_pledge'], by = 'cat', ax = ax3, showfliers=False, patch_artist=True)\n"
   ]
  },
  {
   "cell_type": "code",
   "execution_count": 82,
   "metadata": {},
   "outputs": [
    {
     "data": {
      "text/html": [
       "<div>\n",
       "<style>\n",
       "    .dataframe thead tr:only-child th {\n",
       "        text-align: right;\n",
       "    }\n",
       "\n",
       "    .dataframe thead th {\n",
       "        text-align: left;\n",
       "    }\n",
       "\n",
       "    .dataframe tbody tr th {\n",
       "        vertical-align: top;\n",
       "    }\n",
       "</style>\n",
       "<table border=\"1\" class=\"dataframe\">\n",
       "  <thead>\n",
       "    <tr style=\"text-align: right;\">\n",
       "      <th></th>\n",
       "      <th>count</th>\n",
       "      <th>mean</th>\n",
       "      <th>std</th>\n",
       "      <th>min</th>\n",
       "      <th>25%</th>\n",
       "      <th>50%</th>\n",
       "      <th>75%</th>\n",
       "      <th>max</th>\n",
       "    </tr>\n",
       "    <tr>\n",
       "      <th>cat</th>\n",
       "      <th></th>\n",
       "      <th></th>\n",
       "      <th></th>\n",
       "      <th></th>\n",
       "      <th></th>\n",
       "      <th></th>\n",
       "      <th></th>\n",
       "      <th></th>\n",
       "    </tr>\n",
       "  </thead>\n",
       "  <tbody>\n",
       "    <tr>\n",
       "      <th>art</th>\n",
       "      <td>19,687.00</td>\n",
       "      <td>48.53</td>\n",
       "      <td>222.49</td>\n",
       "      <td>0.00</td>\n",
       "      <td>3.00</td>\n",
       "      <td>17.00</td>\n",
       "      <td>48.00</td>\n",
       "      <td>22,840.00</td>\n",
       "    </tr>\n",
       "    <tr>\n",
       "      <th>comics</th>\n",
       "      <td>7,983.00</td>\n",
       "      <td>178.08</td>\n",
       "      <td>446.20</td>\n",
       "      <td>0.00</td>\n",
       "      <td>22.00</td>\n",
       "      <td>65.00</td>\n",
       "      <td>167.00</td>\n",
       "      <td>14,952.00</td>\n",
       "    </tr>\n",
       "    <tr>\n",
       "      <th>crafts</th>\n",
       "      <td>6,620.00</td>\n",
       "      <td>44.92</td>\n",
       "      <td>196.84</td>\n",
       "      <td>0.00</td>\n",
       "      <td>2.00</td>\n",
       "      <td>8.00</td>\n",
       "      <td>36.00</td>\n",
       "      <td>12,705.00</td>\n",
       "    </tr>\n",
       "    <tr>\n",
       "      <th>dance</th>\n",
       "      <td>3,878.00</td>\n",
       "      <td>53.32</td>\n",
       "      <td>90.37</td>\n",
       "      <td>0.00</td>\n",
       "      <td>17.00</td>\n",
       "      <td>37.00</td>\n",
       "      <td>67.00</td>\n",
       "      <td>4,133.00</td>\n",
       "    </tr>\n",
       "    <tr>\n",
       "      <th>design</th>\n",
       "      <td>8,404.00</td>\n",
       "      <td>371.43</td>\n",
       "      <td>1,474.89</td>\n",
       "      <td>0.00</td>\n",
       "      <td>10.00</td>\n",
       "      <td>69.00</td>\n",
       "      <td>277.00</td>\n",
       "      <td>68,929.00</td>\n",
       "    </tr>\n",
       "    <tr>\n",
       "      <th>fashion</th>\n",
       "      <td>8,835.00</td>\n",
       "      <td>93.36</td>\n",
       "      <td>397.59</td>\n",
       "      <td>0.00</td>\n",
       "      <td>2.00</td>\n",
       "      <td>13.00</td>\n",
       "      <td>64.00</td>\n",
       "      <td>13,363.00</td>\n",
       "    </tr>\n",
       "    <tr>\n",
       "      <th>film</th>\n",
       "      <td>26,160.00</td>\n",
       "      <td>92.13</td>\n",
       "      <td>801.37</td>\n",
       "      <td>0.00</td>\n",
       "      <td>3.00</td>\n",
       "      <td>24.00</td>\n",
       "      <td>70.00</td>\n",
       "      <td>91,585.00</td>\n",
       "    </tr>\n",
       "    <tr>\n",
       "      <th>food</th>\n",
       "      <td>15,240.00</td>\n",
       "      <td>62.68</td>\n",
       "      <td>201.29</td>\n",
       "      <td>0.00</td>\n",
       "      <td>1.00</td>\n",
       "      <td>7.00</td>\n",
       "      <td>59.00</td>\n",
       "      <td>10,293.00</td>\n",
       "    </tr>\n",
       "    <tr>\n",
       "      <th>games</th>\n",
       "      <td>13,659.00</td>\n",
       "      <td>571.35</td>\n",
       "      <td>2,962.35</td>\n",
       "      <td>0.00</td>\n",
       "      <td>7.00</td>\n",
       "      <td>74.00</td>\n",
       "      <td>311.50</td>\n",
       "      <td>87,142.00</td>\n",
       "    </tr>\n",
       "    <tr>\n",
       "      <th>journalism</th>\n",
       "      <td>5,445.00</td>\n",
       "      <td>51.07</td>\n",
       "      <td>186.41</td>\n",
       "      <td>0.00</td>\n",
       "      <td>1.00</td>\n",
       "      <td>4.00</td>\n",
       "      <td>27.00</td>\n",
       "      <td>3,136.00</td>\n",
       "    </tr>\n",
       "    <tr>\n",
       "      <th>music</th>\n",
       "      <td>26,398.00</td>\n",
       "      <td>61.98</td>\n",
       "      <td>173.58</td>\n",
       "      <td>0.00</td>\n",
       "      <td>6.00</td>\n",
       "      <td>33.00</td>\n",
       "      <td>73.00</td>\n",
       "      <td>11,169.00</td>\n",
       "    </tr>\n",
       "    <tr>\n",
       "      <th>photography</th>\n",
       "      <td>7,508.00</td>\n",
       "      <td>58.25</td>\n",
       "      <td>154.37</td>\n",
       "      <td>0.00</td>\n",
       "      <td>2.00</td>\n",
       "      <td>14.00</td>\n",
       "      <td>58.00</td>\n",
       "      <td>5,582.00</td>\n",
       "    </tr>\n",
       "    <tr>\n",
       "      <th>publishing</th>\n",
       "      <td>19,135.00</td>\n",
       "      <td>102.69</td>\n",
       "      <td>390.21</td>\n",
       "      <td>0.00</td>\n",
       "      <td>8.00</td>\n",
       "      <td>37.00</td>\n",
       "      <td>95.00</td>\n",
       "      <td>21,808.00</td>\n",
       "    </tr>\n",
       "    <tr>\n",
       "      <th>technology</th>\n",
       "      <td>20,252.00</td>\n",
       "      <td>279.67</td>\n",
       "      <td>1,564.43</td>\n",
       "      <td>0.00</td>\n",
       "      <td>2.00</td>\n",
       "      <td>17.00</td>\n",
       "      <td>122.00</td>\n",
       "      <td>105,857.00</td>\n",
       "    </tr>\n",
       "    <tr>\n",
       "      <th>theater</th>\n",
       "      <td>6,332.00</td>\n",
       "      <td>48.89</td>\n",
       "      <td>93.67</td>\n",
       "      <td>0.00</td>\n",
       "      <td>10.00</td>\n",
       "      <td>30.00</td>\n",
       "      <td>60.00</td>\n",
       "      <td>3,722.00</td>\n",
       "    </tr>\n",
       "  </tbody>\n",
       "</table>\n",
       "</div>"
      ],
      "text/plain": [
       "                count   mean      std  min   25%   50%    75%        max\n",
       "cat                                                                     \n",
       "art         19,687.00 48.53  222.49   0.00 3.00  17.00 48.00  22,840.00 \n",
       "comics      7,983.00  178.08 446.20   0.00 22.00 65.00 167.00 14,952.00 \n",
       "crafts      6,620.00  44.92  196.84   0.00 2.00  8.00  36.00  12,705.00 \n",
       "dance       3,878.00  53.32  90.37    0.00 17.00 37.00 67.00  4,133.00  \n",
       "design      8,404.00  371.43 1,474.89 0.00 10.00 69.00 277.00 68,929.00 \n",
       "fashion     8,835.00  93.36  397.59   0.00 2.00  13.00 64.00  13,363.00 \n",
       "film        26,160.00 92.13  801.37   0.00 3.00  24.00 70.00  91,585.00 \n",
       "food        15,240.00 62.68  201.29   0.00 1.00  7.00  59.00  10,293.00 \n",
       "games       13,659.00 571.35 2,962.35 0.00 7.00  74.00 311.50 87,142.00 \n",
       "journalism  5,445.00  51.07  186.41   0.00 1.00  4.00  27.00  3,136.00  \n",
       "music       26,398.00 61.98  173.58   0.00 6.00  33.00 73.00  11,169.00 \n",
       "photography 7,508.00  58.25  154.37   0.00 2.00  14.00 58.00  5,582.00  \n",
       "publishing  19,135.00 102.69 390.21   0.00 8.00  37.00 95.00  21,808.00 \n",
       "technology  20,252.00 279.67 1,564.43 0.00 2.00  17.00 122.00 105,857.00\n",
       "theater     6,332.00  48.89  93.67    0.00 10.00 30.00 60.00  3,722.00  "
      ]
     },
     "execution_count": 82,
     "metadata": {},
     "output_type": "execute_result"
    }
   ],
   "source": [
    "df.groupby('cat').backers_count.describe()"
   ]
  },
  {
   "cell_type": "code",
   "execution_count": 83,
   "metadata": {},
   "outputs": [
    {
     "name": "stderr",
     "output_type": "stream",
     "text": [
      "c:\\users\\sm_fe\\anaconda3\\lib\\site-packages\\numpy\\core\\fromnumeric.py:57: FutureWarning: reshape is deprecated and will raise in a subsequent release. Please use .values.reshape(...) instead\n",
      "  return getattr(obj, method)(*args, **kwds)\n"
     ]
    },
    {
     "data": {
      "text/plain": [
       "<matplotlib.axes._subplots.AxesSubplot at 0x175ff929d30>"
      ]
     },
     "execution_count": 83,
     "metadata": {},
     "output_type": "execute_result"
    },
    {
     "data": {
      "image/png": "[encoded data removed]",
      "text/plain": [
       "<matplotlib.figure.Figure at 0x175faece860>"
      ]
     },
     "metadata": {},
     "output_type": "display_data"
    }
   ],
   "source": [
    "fig4, ax4 = plt.subplots(figsize=(16,10))\n",
    "\n",
    "ax4.set_xlabel('Technology States')\n",
    "ax4.set_ylabel('AVG Pledge Amount per backer')\n",
    "\n",
    "df[df.cat == 'technology'].boxplot(column = ['avg_pledge'], by = 'state', ax = ax4, showfliers=False, patch_artist=True)"
   ]
  },
  {
   "cell_type": "code",
   "execution_count": 84,
   "metadata": {},
   "outputs": [
    {
     "name": "stderr",
     "output_type": "stream",
     "text": [
      "c:\\users\\sm_fe\\anaconda3\\lib\\site-packages\\numpy\\core\\fromnumeric.py:57: FutureWarning: reshape is deprecated and will raise in a subsequent release. Please use .values.reshape(...) instead\n",
      "  return getattr(obj, method)(*args, **kwds)\n"
     ]
    },
    {
     "data": {
      "text/plain": [
       "<matplotlib.axes._subplots.AxesSubplot at 0x1760e465748>"
      ]
     },
     "execution_count": 84,
     "metadata": {},
     "output_type": "execute_result"
    },
    {
     "data": {
      "image/png": "[encoded data removed]",
      "text/plain": [
       "<matplotlib.figure.Figure at 0x175f280bef0>"
      ]
     },
     "metadata": {},
     "output_type": "display_data"
    }
   ],
   "source": [
    "fig5, ax5 = plt.subplots(figsize=(16,10))\n",
    "\n",
    "ax5.set_xlabel('Technology States')\n",
    "ax5.set_ylabel('AVG Pledge Amount per backer')\n",
    "\n",
    "df[df.cat == 'art'].boxplot(column = ['avg_pledge'], by = 'state', ax = ax5, showfliers=False, patch_artist=True)"
   ]
  },
  {
   "cell_type": "markdown",
   "metadata": {},
   "source": [
    "# Data analysis by state of the project"
   ]
  },
  {
   "cell_type": "code",
   "execution_count": 85,
   "metadata": {},
   "outputs": [],
   "source": [
    "def head_categories(state):\n",
    "    h = df[df.state == state]\n",
    "    print(h['cat'].value_counts().head(5))\n",
    "    print()\n",
    "    print(h['cat'].value_counts(normalize = True).head(5))"
   ]
  },
  {
   "cell_type": "code",
   "execution_count": 86,
   "metadata": {},
   "outputs": [
    {
     "name": "stdout",
     "output_type": "stream",
     "text": [
      "Top 5 categories in Successful:\n",
      "music         17112\n",
      "film          14734\n",
      "publishing    12828\n",
      "art           10315\n",
      "games         7850 \n",
      "Name: cat, dtype: int64\n",
      "\n",
      "music        0.16\n",
      "film         0.14\n",
      "publishing   0.12\n",
      "art          0.10\n",
      "games        0.07\n",
      "Name: cat, dtype: float64\n",
      "\n",
      "Top 5 categories in Canceled:\n",
      "film          1441\n",
      "food          938 \n",
      "games         900 \n",
      "technology    769 \n",
      "music         757 \n",
      "Name: cat, dtype: int64\n",
      "\n",
      "film         0.16\n",
      "food         0.11\n",
      "games        0.10\n",
      "technology   0.09\n",
      "music        0.09\n",
      "Name: cat, dtype: float64\n",
      "\n",
      "Top 5 categories in Failed:\n",
      "technology    11344\n",
      "film          9127 \n",
      "food          8781 \n",
      "art           8121 \n",
      "music         7923 \n",
      "Name: cat, dtype: int64\n",
      "\n",
      "technology   0.15\n",
      "film         0.12\n",
      "food         0.12\n",
      "art          0.11\n",
      "music        0.11\n",
      "Name: cat, dtype: float64\n"
     ]
    }
   ],
   "source": [
    "print(\"Top 5 categories in Successful:\")\n",
    "head_categories('successful')\n",
    "print(\"\\nTop 5 categories in Canceled:\")\n",
    "head_categories('canceled')\n",
    "print(\"\\nTop 5 categories in Failed:\")\n",
    "head_categories('failed')"
   ]
  },
  {
   "cell_type": "markdown",
   "metadata": {},
   "source": [
    "### This is very interesting, even though they make nearly 10% of Kickstarter projects, technology projects fail the most."
   ]
  },
  {
   "cell_type": "code",
   "execution_count": 87,
   "metadata": {},
   "outputs": [
    {
     "name": "stdout",
     "output_type": "stream",
     "text": [
      "web         2089\n",
      "software    1979\n",
      "apps        1899\n",
      "gadgets     1459\n",
      "hardware    1135\n",
      "Name: sub_cat, dtype: int64\n",
      "\n"
     ]
    },
    {
     "name": "stderr",
     "output_type": "stream",
     "text": [
      "c:\\users\\sm_fe\\anaconda3\\lib\\site-packages\\ipykernel_launcher.py:1: UserWarning: Boolean Series key will be reindexed to match DataFrame index.\n",
      "  \"\"\"Entry point for launching an IPython kernel.\n",
      "c:\\users\\sm_fe\\anaconda3\\lib\\site-packages\\ipykernel_launcher.py:3: UserWarning: Boolean Series key will be reindexed to match DataFrame index.\n",
      "  This is separate from the ipykernel package so we can avoid doing imports until\n"
     ]
    },
    {
     "data": {
      "text/plain": [
       "web        0.18\n",
       "software   0.17\n",
       "apps       0.17\n",
       "gadgets    0.13\n",
       "hardware   0.10\n",
       "Name: sub_cat, dtype: float64"
      ]
     },
     "execution_count": 87,
     "metadata": {},
     "output_type": "execute_result"
    }
   ],
   "source": [
    "print(df[df.state == 'failed'][df.cat == 'technology'].sub_cat.value_counts().head())\n",
    "print()\n",
    "df[df.state == 'failed'][df.cat == 'technology'].sub_cat.value_counts(normalize = True).head()"
   ]
  },
  {
   "cell_type": "markdown",
   "metadata": {},
   "source": [
    "### It would seem that software is most likely to fail than hardware, which would suggest some preference for orthodox inventors."
   ]
  },
  {
   "cell_type": "code",
   "execution_count": 88,
   "metadata": {},
   "outputs": [
    {
     "name": "stdout",
     "output_type": "stream",
     "text": [
      "hardware       1845\n",
      "gadgets        969 \n",
      "software       571 \n",
      "undisclosed    566 \n",
      "diy            519 \n",
      "Name: sub_cat, dtype: int64\n",
      "\n"
     ]
    },
    {
     "name": "stderr",
     "output_type": "stream",
     "text": [
      "c:\\users\\sm_fe\\anaconda3\\lib\\site-packages\\ipykernel_launcher.py:1: UserWarning: Boolean Series key will be reindexed to match DataFrame index.\n",
      "  \"\"\"Entry point for launching an IPython kernel.\n",
      "c:\\users\\sm_fe\\anaconda3\\lib\\site-packages\\ipykernel_launcher.py:3: UserWarning: Boolean Series key will be reindexed to match DataFrame index.\n",
      "  This is separate from the ipykernel package so we can avoid doing imports until\n"
     ]
    },
    {
     "data": {
      "text/plain": [
       "hardware      0.25\n",
       "gadgets       0.13\n",
       "software      0.08\n",
       "undisclosed   0.08\n",
       "diy           0.07\n",
       "Name: sub_cat, dtype: float64"
      ]
     },
     "execution_count": 88,
     "metadata": {},
     "output_type": "execute_result"
    }
   ],
   "source": [
    "print(df[df.state == 'successful'][df.cat == 'technology'].sub_cat.value_counts().head())\n",
    "print()\n",
    "df[df.state == 'successful'][df.cat == 'technology'].sub_cat.value_counts(normalize = True).head()"
   ]
  },
  {
   "cell_type": "code",
   "execution_count": 89,
   "metadata": {},
   "outputs": [
    {
     "data": {
      "text/html": [
       "<div>\n",
       "<style>\n",
       "    .dataframe thead tr:only-child th {\n",
       "        text-align: right;\n",
       "    }\n",
       "\n",
       "    .dataframe thead th {\n",
       "        text-align: left;\n",
       "    }\n",
       "\n",
       "    .dataframe tbody tr th {\n",
       "        vertical-align: top;\n",
       "    }\n",
       "</style>\n",
       "<table border=\"1\" class=\"dataframe\">\n",
       "  <thead>\n",
       "    <tr style=\"text-align: right;\">\n",
       "      <th>state</th>\n",
       "      <th>canceled</th>\n",
       "      <th>failed</th>\n",
       "      <th>live</th>\n",
       "      <th>successful</th>\n",
       "      <th>suspended</th>\n",
       "    </tr>\n",
       "    <tr>\n",
       "      <th>sub_cat</th>\n",
       "      <th></th>\n",
       "      <th></th>\n",
       "      <th></th>\n",
       "      <th></th>\n",
       "      <th></th>\n",
       "    </tr>\n",
       "  </thead>\n",
       "  <tbody>\n",
       "    <tr>\n",
       "      <th>undisclosed</th>\n",
       "      <td>0.0%</td>\n",
       "      <td>0.0%</td>\n",
       "      <td>10.0%</td>\n",
       "      <td>90.0%</td>\n",
       "      <td>0.0%</td>\n",
       "    </tr>\n",
       "    <tr>\n",
       "      <th>hardware</th>\n",
       "      <td>0.0%</td>\n",
       "      <td>37.2%</td>\n",
       "      <td>2.4%</td>\n",
       "      <td>60.5%</td>\n",
       "      <td>0.0%</td>\n",
       "    </tr>\n",
       "    <tr>\n",
       "      <th>camera</th>\n",
       "      <td>10.3%</td>\n",
       "      <td>34.9%</td>\n",
       "      <td>1.7%</td>\n",
       "      <td>50.5%</td>\n",
       "      <td>2.5%</td>\n",
       "    </tr>\n",
       "    <tr>\n",
       "      <th>diy</th>\n",
       "      <td>9.0%</td>\n",
       "      <td>38.0%</td>\n",
       "      <td>2.5%</td>\n",
       "      <td>50.2%</td>\n",
       "      <td>0.3%</td>\n",
       "    </tr>\n",
       "    <tr>\n",
       "      <th>robots</th>\n",
       "      <td>10.2%</td>\n",
       "      <td>41.2%</td>\n",
       "      <td>3.0%</td>\n",
       "      <td>44.4%</td>\n",
       "      <td>1.2%</td>\n",
       "    </tr>\n",
       "    <tr>\n",
       "      <th>sound</th>\n",
       "      <td>12.9%</td>\n",
       "      <td>37.9%</td>\n",
       "      <td>4.4%</td>\n",
       "      <td>43.7%</td>\n",
       "      <td>1.2%</td>\n",
       "    </tr>\n",
       "    <tr>\n",
       "      <th>space</th>\n",
       "      <td>7.6%</td>\n",
       "      <td>44.6%</td>\n",
       "      <td>2.2%</td>\n",
       "      <td>43.5%</td>\n",
       "      <td>2.2%</td>\n",
       "    </tr>\n",
       "    <tr>\n",
       "      <th>3d</th>\n",
       "      <td>12.1%</td>\n",
       "      <td>44.1%</td>\n",
       "      <td>1.8%</td>\n",
       "      <td>40.2%</td>\n",
       "      <td>1.8%</td>\n",
       "    </tr>\n",
       "    <tr>\n",
       "      <th>gadgets</th>\n",
       "      <td>0.0%</td>\n",
       "      <td>58.0%</td>\n",
       "      <td>3.5%</td>\n",
       "      <td>38.5%</td>\n",
       "      <td>0.0%</td>\n",
       "    </tr>\n",
       "    <tr>\n",
       "      <th>makerspaces</th>\n",
       "      <td>11.3%</td>\n",
       "      <td>51.4%</td>\n",
       "      <td>1.6%</td>\n",
       "      <td>35.4%</td>\n",
       "      <td>0.4%</td>\n",
       "    </tr>\n",
       "    <tr>\n",
       "      <th>wearables</th>\n",
       "      <td>17.4%</td>\n",
       "      <td>45.4%</td>\n",
       "      <td>2.6%</td>\n",
       "      <td>33.0%</td>\n",
       "      <td>1.6%</td>\n",
       "    </tr>\n",
       "    <tr>\n",
       "      <th>fabrication</th>\n",
       "      <td>10.1%</td>\n",
       "      <td>55.8%</td>\n",
       "      <td>2.2%</td>\n",
       "      <td>30.3%</td>\n",
       "      <td>1.5%</td>\n",
       "    </tr>\n",
       "    <tr>\n",
       "      <th>flight</th>\n",
       "      <td>12.1%</td>\n",
       "      <td>61.6%</td>\n",
       "      <td>1.8%</td>\n",
       "      <td>21.9%</td>\n",
       "      <td>2.6%</td>\n",
       "    </tr>\n",
       "    <tr>\n",
       "      <th>software</th>\n",
       "      <td>0.0%</td>\n",
       "      <td>75.4%</td>\n",
       "      <td>2.9%</td>\n",
       "      <td>21.7%</td>\n",
       "      <td>0.0%</td>\n",
       "    </tr>\n",
       "    <tr>\n",
       "      <th>apps</th>\n",
       "      <td>0.0%</td>\n",
       "      <td>73.9%</td>\n",
       "      <td>8.9%</td>\n",
       "      <td>17.2%</td>\n",
       "      <td>0.0%</td>\n",
       "    </tr>\n",
       "    <tr>\n",
       "      <th>web</th>\n",
       "      <td>0.0%</td>\n",
       "      <td>83.9%</td>\n",
       "      <td>3.9%</td>\n",
       "      <td>12.2%</td>\n",
       "      <td>0.0%</td>\n",
       "    </tr>\n",
       "  </tbody>\n",
       "</table>\n",
       "</div>"
      ],
      "text/plain": [
       "state        canceled  failed  live  successful  suspended\n",
       "sub_cat                                                   \n",
       "undisclosed 0.0%      0.0%    10.0% 90.0%       0.0%      \n",
       "hardware    0.0%      37.2%   2.4%  60.5%       0.0%      \n",
       "camera      10.3%     34.9%   1.7%  50.5%       2.5%      \n",
       "diy         9.0%      38.0%   2.5%  50.2%       0.3%      \n",
       "robots      10.2%     41.2%   3.0%  44.4%       1.2%      \n",
       "sound       12.9%     37.9%   4.4%  43.7%       1.2%      \n",
       "space       7.6%      44.6%   2.2%  43.5%       2.2%      \n",
       "3d          12.1%     44.1%   1.8%  40.2%       1.8%      \n",
       "gadgets     0.0%      58.0%   3.5%  38.5%       0.0%      \n",
       "makerspaces 11.3%     51.4%   1.6%  35.4%       0.4%      \n",
       "wearables   17.4%     45.4%   2.6%  33.0%       1.6%      \n",
       "fabrication 10.1%     55.8%   2.2%  30.3%       1.5%      \n",
       "flight      12.1%     61.6%   1.8%  21.9%       2.6%      \n",
       "software    0.0%      75.4%   2.9%  21.7%       0.0%      \n",
       "apps        0.0%      73.9%   8.9%  17.2%       0.0%      \n",
       "web         0.0%      83.9%   3.9%  12.2%       0.0%      "
      ]
     },
     "execution_count": 89,
     "metadata": {},
     "output_type": "execute_result"
    }
   ],
   "source": [
    "state_subcat = pd.crosstab(df[df.cat == 'technology'].sub_cat,df.state).apply(lambda x: 100*x/x.sum(), axis=1)\n",
    "state_subcat = state_subcat.sort_values('successful', ascending =  False)\n",
    "pd.options.display.float_format = '{:.1f}%'.format\n",
    "state_subcat"
   ]
  },
  {
   "cell_type": "code",
   "execution_count": 90,
   "metadata": {},
   "outputs": [
    {
     "data": {
      "image/png": "[encoded data removed]",
      "text/plain": [
       "<matplotlib.figure.Figure at 0x175f0d28d68>"
      ]
     },
     "metadata": {},
     "output_type": "display_data"
    }
   ],
   "source": [
    "state_subcat = state_subcat.drop(['live','suspended','canceled'], axis = 1)\n",
    "state_subcat.plot(kind = 'bar', title = '% of Successful x Failed', figsize = (13,8), rot = 45)\n",
    "plt.show()"
   ]
  },
  {
   "cell_type": "code",
   "execution_count": 91,
   "metadata": {},
   "outputs": [
    {
     "name": "stdout",
     "output_type": "stream",
     "text": [
      "171982    {\"web\":{\"project\":\"https://www.kickstarter.com/projects/ashleighwolfe/perths-urban-reptile-ecology-tracking-reptiles-in?ref=category_newest\",\"rewards\":\"https://www.kickstarter.com/projects/ashleighwolfe/perths-urban-reptile-ecology-tracking-reptiles-in/rewards\"}}\n",
      "171986    {\"web\":{\"project\":\"https://www.kickstarter.com/projects/1308642275/digitsole-the-first-interactive-insole-to-heat-you?ref=category_newest\",\"rewards\":\"https://www.kickstarter.com/projects/1308642275/digitsole-the-first-interactive-insole-to-heat-you/rewards\"}}    \n",
      "171992    {\"web\":{\"project\":\"https://www.kickstarter.com/projects/1771876920/oar-inspired-performance-measurement-solution?ref=category_newest\",\"rewards\":\"https://www.kickstarter.com/projects/1771876920/oar-inspired-performance-measurement-solution/rewards\"}}              \n",
      "171996    {\"web\":{\"project\":\"https://www.kickstarter.com/projects/107521314/holy-pie-smart-racket-for-badminton-and-tennis?ref=category_newest\",\"rewards\":\"https://www.kickstarter.com/projects/107521314/holy-pie-smart-racket-for-badminton-and-tennis/rewards\"}}              \n",
      "172008    {\"web\":{\"project\":\"https://www.kickstarter.com/projects/252587878/the-worlds-smallest-tiny-breadboard-power-supply-u?ref=category_newest\",\"rewards\":\"https://www.kickstarter.com/projects/252587878/the-worlds-smallest-tiny-breadboard-power-supply-u/rewards\"}}      \n",
      "Name: urls, dtype: object\n"
     ]
    },
    {
     "name": "stderr",
     "output_type": "stream",
     "text": [
      "c:\\users\\sm_fe\\anaconda3\\lib\\site-packages\\ipykernel_launcher.py:1: UserWarning: Boolean Series key will be reindexed to match DataFrame index.\n",
      "  \"\"\"Entry point for launching an IPython kernel.\n"
     ]
    }
   ],
   "source": [
    "print(df[df.state == 'successful'][df.cat == 'technology'][df.sub_cat == 'undisclosed'].urls.head())"
   ]
  },
  {
   "cell_type": "code",
   "execution_count": null,
   "metadata": {},
   "outputs": [],
   "source": []
  },
  {
   "cell_type": "markdown",
   "metadata": {},
   "source": [
    "### And it would seem that orthodox inventors get the most success in the technology sector in Kickstarter. "
   ]
  },
  {
   "cell_type": "markdown",
   "metadata": {},
   "source": [
    "# Talking to a friend of mine he suggested that technology projects were most expensive to make and thus more likely to not reach their goals. This section responds to that concern."
   ]
  },
  {
   "cell_type": "code",
   "execution_count": 92,
   "metadata": {},
   "outputs": [
    {
     "name": "stdout",
     "output_type": "stream",
     "text": [
      "count   195,536.0   \n",
      "mean    24,608.4    \n",
      "std     199,952.4   \n",
      "min     0.0         \n",
      "25%     1,561.5     \n",
      "50%     5,000.0     \n",
      "75%     12,500.0    \n",
      "max     10,000,000.0\n",
      "Name: usd_goal, dtype: float64\n"
     ]
    }
   ],
   "source": [
    "pd.options.display.float_format = '{:,.1f}'.format\n",
    "print(df['usd_goal'].describe())"
   ]
  },
  {
   "cell_type": "code",
   "execution_count": 93,
   "metadata": {},
   "outputs": [],
   "source": [
    "ranges = [0,1000,2500,10000,50000,100000]\n",
    "labels = ['Tiny','Small','Medium','Large','Huge']\n",
    "df['goal_size'] = pd.cut(df.usd_goal, ranges, labels=labels).astype('category')"
   ]
  },
  {
   "cell_type": "code",
   "execution_count": 94,
   "metadata": {},
   "outputs": [
    {
     "data": {
      "image/png": "[encoded data removed]",
      "text/plain": [
       "<matplotlib.figure.Figure at 0x1760e1ef710>"
      ]
     },
     "metadata": {},
     "output_type": "display_data"
    }
   ],
   "source": [
    "by_cat = df.groupby('cat')\n",
    "tech = by_cat.get_group('technology')\n",
    "x = tech['goal_size'].value_counts().index\n",
    "h = tech['goal_size'].value_counts(normalize = True)\n",
    "fig, ax = plt.subplots()\n",
    "ind = np.arange(len(x))\n",
    "bars = ax.bar(ind, list(map(float,h)),tick_label = x)\n",
    "ax.set_yticklabels(['{:.0f}%'.format(x*100) for x in plt.gca().get_yticks()], visible = False)\n",
    "for bar in bars:\n",
    "    ax.text(bar.get_x() + .15, bar.get_height() + .025, str('{:.1f}%'.format(bar.get_height()*100)))\n",
    "ax.spines['top'].set_visible(False)\n",
    "ax.spines['right'].set_visible(False)\n",
    "ax.spines['bottom'].set_visible(False)\n",
    "ax.spines['left'].set_visible(False)\n",
    "plt.gca().axes.get_yaxis().set_visible(False)\n",
    "plt.show()"
   ]
  },
  {
   "cell_type": "markdown",
   "metadata": {},
   "source": [
    "### So, more than half of the projects in tech ask for more than 10 thousand dollars, with 12% of them asking for more than 50 thousand dollars."
   ]
  },
  {
   "cell_type": "markdown",
   "metadata": {},
   "source": [
    "### Let's see the results for the most sucessful category: Music"
   ]
  },
  {
   "cell_type": "code",
   "execution_count": 95,
   "metadata": {},
   "outputs": [
    {
     "data": {
      "image/png": "[encoded data removed]",
      "text/plain": [
       "<matplotlib.figure.Figure at 0x175dc32c080>"
      ]
     },
     "metadata": {},
     "output_type": "display_data"
    }
   ],
   "source": [
    "music = by_cat.get_group('music')\n",
    "x = music['goal_size'].value_counts().index\n",
    "h = music['goal_size'].value_counts(normalize = True)\n",
    "fig, ax = plt.subplots()\n",
    "ind = np.arange(len(x))\n",
    "bars = ax.bar(ind, list(map(float,h)),tick_label = x)\n",
    "ax.set_yticklabels(['{:.0f}%'.format(x*100) for x in plt.gca().get_yticks()], visible = False)\n",
    "for bar in bars:\n",
    "    ax.text(bar.get_x() + .15, bar.get_height() + .025, str('{:.1f}%'.format(bar.get_height()*100)))\n",
    "ax.spines['top'].set_visible(False)\n",
    "ax.spines['right'].set_visible(False)\n",
    "ax.spines['bottom'].set_visible(False)\n",
    "ax.spines['left'].set_visible(False)\n",
    "plt.gca().axes.get_yaxis().set_visible(False)\n",
    "plt.show()"
   ]
  },
  {
   "cell_type": "markdown",
   "metadata": {},
   "source": [
    "### Less than 15% of music projects ask for more than 10k, which makes them easier to back."
   ]
  },
  {
   "cell_type": "code",
   "execution_count": 96,
   "metadata": {},
   "outputs": [
    {
     "data": {
      "image/png": "[encoded data removed]",
      "text/plain": [
       "<matplotlib.figure.Figure at 0x175e597cb38>"
      ]
     },
     "metadata": {},
     "output_type": "display_data"
    }
   ],
   "source": [
    "film = by_cat.get_group('film')\n",
    "x = film['goal_size'].value_counts().index\n",
    "h = film['goal_size'].value_counts(normalize = True)\n",
    "fig, ax = plt.subplots()\n",
    "ind = np.arange(len(x))\n",
    "bars = ax.bar(ind, list(map(float,h)),tick_label = x)\n",
    "ax.set_yticklabels(['{:.0f}%'.format(x*100) for x in plt.gca().get_yticks()], visible = False)\n",
    "for bar in bars:\n",
    "    ax.text(bar.get_x() + .15, bar.get_height() + .025, str('{:.1f}%'.format(bar.get_height()*100)))\n",
    "ax.spines['top'].set_visible(False)\n",
    "ax.spines['right'].set_visible(False)\n",
    "ax.spines['bottom'].set_visible(False)\n",
    "ax.spines['left'].set_visible(False)\n",
    "plt.gca().axes.get_yaxis().set_visible(False)\n",
    "plt.show()"
   ]
  },
  {
   "cell_type": "code",
   "execution_count": 97,
   "metadata": {},
   "outputs": [
    {
     "name": "stdout",
     "output_type": "stream",
     "text": [
      "count   26,160.0    \n",
      "mean    43,357.2    \n",
      "std     348,203.1   \n",
      "min     0.6         \n",
      "25%     2,000.0     \n",
      "50%     5,000.0     \n",
      "75%     15,000.0    \n",
      "max     10,000,000.0\n",
      "Name: usd_goal, dtype: float64\n",
      "count   20,252.0    \n",
      "mean    55,276.2    \n",
      "std     289,860.7   \n",
      "min     0.7         \n",
      "25%     5,000.0     \n",
      "50%     15,368.4    \n",
      "75%     49,450.8    \n",
      "max     10,000,000.0\n",
      "Name: usd_goal, dtype: float64\n"
     ]
    }
   ],
   "source": [
    "print(film.usd_goal.describe())\n",
    "print(tech.usd_goal.describe())"
   ]
  },
  {
   "cell_type": "code",
   "execution_count": 98,
   "metadata": {},
   "outputs": [
    {
     "name": "stdout",
     "output_type": "stream",
     "text": [
      "cat\n",
      "art           12,799.8\n",
      "comics        7,563.0 \n",
      "crafts        8,656.5 \n",
      "dance         7,589.4 \n",
      "design        31,051.1\n",
      "fashion       16,712.4\n",
      "film          43,357.2\n",
      "food          38,272.8\n",
      "games         27,966.6\n",
      "journalism    25,302.0\n",
      "music         9,175.6 \n",
      "photography   11,500.0\n",
      "publishing    9,659.7 \n",
      "technology    55,276.2\n",
      "theater       21,161.7\n",
      "Name: usd_goal, dtype: float64\n"
     ]
    },
    {
     "data": {
      "image/png": "[encoded data removed]",
      "text/plain": [
       "<matplotlib.figure.Figure at 0x175fc7e09e8>"
      ]
     },
     "metadata": {},
     "output_type": "display_data"
    }
   ],
   "source": [
    "print(by_cat.usd_goal.mean())\n",
    "x = by_cat.usd_goal.mean().index\n",
    "h = by_cat.usd_goal.mean().values/1000\n",
    "fig, ax = plt.subplots()\n",
    "ind = np.arange(len(x))\n",
    "bars = ax.bar(ind, list(map(float,h)),tick_label = x)\n",
    "#ax.set_yticklabels(['{:.0f}%'.format(x*100) for x in plt.gca().get_yticks()], visible = False)\n",
    "plt.xticks(rotation='vertical')\n",
    "plt.ylabel('USD thousands')\n",
    "for bar in bars:\n",
    "    ax.text(bar.get_x(), bar.get_height() + 1, str('{:.1f}'.format(bar.get_height())))\n",
    "ax.spines['top'].set_visible(False)\n",
    "ax.spines['right'].set_visible(False)\n",
    "ax.spines['bottom'].set_visible(False)\n",
    "ax.spines['left'].set_visible(False)\n",
    "#plt.gca().axes.get_yaxis().set_visible(False)\n",
    "plt.show()"
   ]
  },
  {
   "cell_type": "markdown",
   "metadata": {},
   "source": [
    "### Let's see the success rate by category and goal to get a sense of this."
   ]
  },
  {
   "cell_type": "code",
   "execution_count": 99,
   "metadata": {},
   "outputs": [],
   "source": [
    "df['successful'] = df['state'].apply(lambda x: 100 if x == 'successful' else 0)"
   ]
  },
  {
   "cell_type": "code",
   "execution_count": 100,
   "metadata": {},
   "outputs": [
    {
     "name": "stdout",
     "output_type": "stream",
     "text": [
      "Success rate by category and size of goal\n"
     ]
    },
    {
     "data": {
      "text/html": [
       "<div>\n",
       "<style>\n",
       "    .dataframe thead tr:only-child th {\n",
       "        text-align: right;\n",
       "    }\n",
       "\n",
       "    .dataframe thead th {\n",
       "        text-align: left;\n",
       "    }\n",
       "\n",
       "    .dataframe tbody tr th {\n",
       "        vertical-align: top;\n",
       "    }\n",
       "</style>\n",
       "<table border=\"1\" class=\"dataframe\">\n",
       "  <thead>\n",
       "    <tr style=\"text-align: right;\">\n",
       "      <th>goal_size</th>\n",
       "      <th>Tiny</th>\n",
       "      <th>Small</th>\n",
       "      <th>Medium</th>\n",
       "      <th>Large</th>\n",
       "      <th>Huge</th>\n",
       "    </tr>\n",
       "    <tr>\n",
       "      <th>cat</th>\n",
       "      <th></th>\n",
       "      <th></th>\n",
       "      <th></th>\n",
       "      <th></th>\n",
       "      <th></th>\n",
       "    </tr>\n",
       "  </thead>\n",
       "  <tbody>\n",
       "    <tr>\n",
       "      <th>art</th>\n",
       "      <td>62.8%</td>\n",
       "      <td>60.6%</td>\n",
       "      <td>49.1%</td>\n",
       "      <td>30.9%</td>\n",
       "      <td>14.4%</td>\n",
       "    </tr>\n",
       "    <tr>\n",
       "      <th>comics</th>\n",
       "      <td>81.9%</td>\n",
       "      <td>74.7%</td>\n",
       "      <td>68.3%</td>\n",
       "      <td>59.1%</td>\n",
       "      <td>31.0%</td>\n",
       "    </tr>\n",
       "    <tr>\n",
       "      <th>crafts</th>\n",
       "      <td>61.7%</td>\n",
       "      <td>43.0%</td>\n",
       "      <td>36.2%</td>\n",
       "      <td>26.7%</td>\n",
       "      <td>7.9%</td>\n",
       "    </tr>\n",
       "    <tr>\n",
       "      <th>dance</th>\n",
       "      <td>84.4%</td>\n",
       "      <td>87.2%</td>\n",
       "      <td>82.8%</td>\n",
       "      <td>65.0%</td>\n",
       "      <td>10.5%</td>\n",
       "    </tr>\n",
       "    <tr>\n",
       "      <th>design</th>\n",
       "      <td>62.9%</td>\n",
       "      <td>58.1%</td>\n",
       "      <td>66.9%</td>\n",
       "      <td>65.0%</td>\n",
       "      <td>50.2%</td>\n",
       "    </tr>\n",
       "    <tr>\n",
       "      <th>fashion</th>\n",
       "      <td>51.8%</td>\n",
       "      <td>39.2%</td>\n",
       "      <td>37.8%</td>\n",
       "      <td>39.8%</td>\n",
       "      <td>10.9%</td>\n",
       "    </tr>\n",
       "    <tr>\n",
       "      <th>film</th>\n",
       "      <td>65.5%</td>\n",
       "      <td>67.6%</td>\n",
       "      <td>61.9%</td>\n",
       "      <td>47.7%</td>\n",
       "      <td>26.2%</td>\n",
       "    </tr>\n",
       "    <tr>\n",
       "      <th>food</th>\n",
       "      <td>40.5%</td>\n",
       "      <td>44.3%</td>\n",
       "      <td>40.5%</td>\n",
       "      <td>30.0%</td>\n",
       "      <td>7.3%</td>\n",
       "    </tr>\n",
       "    <tr>\n",
       "      <th>games</th>\n",
       "      <td>67.4%</td>\n",
       "      <td>61.7%</td>\n",
       "      <td>58.2%</td>\n",
       "      <td>52.6%</td>\n",
       "      <td>44.1%</td>\n",
       "    </tr>\n",
       "    <tr>\n",
       "      <th>journalism</th>\n",
       "      <td>38.8%</td>\n",
       "      <td>32.9%</td>\n",
       "      <td>27.4%</td>\n",
       "      <td>25.4%</td>\n",
       "      <td>9.7%</td>\n",
       "    </tr>\n",
       "    <tr>\n",
       "      <th>music</th>\n",
       "      <td>70.3%</td>\n",
       "      <td>71.7%</td>\n",
       "      <td>66.1%</td>\n",
       "      <td>46.9%</td>\n",
       "      <td>15.3%</td>\n",
       "    </tr>\n",
       "    <tr>\n",
       "      <th>photography</th>\n",
       "      <td>59.9%</td>\n",
       "      <td>54.0%</td>\n",
       "      <td>46.7%</td>\n",
       "      <td>47.7%</td>\n",
       "      <td>11.7%</td>\n",
       "    </tr>\n",
       "    <tr>\n",
       "      <th>publishing</th>\n",
       "      <td>75.7%</td>\n",
       "      <td>71.7%</td>\n",
       "      <td>67.1%</td>\n",
       "      <td>53.2%</td>\n",
       "      <td>22.8%</td>\n",
       "    </tr>\n",
       "    <tr>\n",
       "      <th>technology</th>\n",
       "      <td>56.2%</td>\n",
       "      <td>47.0%</td>\n",
       "      <td>38.5%</td>\n",
       "      <td>33.8%</td>\n",
       "      <td>30.1%</td>\n",
       "    </tr>\n",
       "    <tr>\n",
       "      <th>theater</th>\n",
       "      <td>79.1%</td>\n",
       "      <td>81.7%</td>\n",
       "      <td>72.5%</td>\n",
       "      <td>45.2%</td>\n",
       "      <td>13.6%</td>\n",
       "    </tr>\n",
       "  </tbody>\n",
       "</table>\n",
       "</div>"
      ],
      "text/plain": [
       "goal_size    Tiny  Small  Medium  Large  Huge\n",
       "cat                                          \n",
       "art         62.8% 60.6%  49.1%   30.9%  14.4%\n",
       "comics      81.9% 74.7%  68.3%   59.1%  31.0%\n",
       "crafts      61.7% 43.0%  36.2%   26.7%  7.9% \n",
       "dance       84.4% 87.2%  82.8%   65.0%  10.5%\n",
       "design      62.9% 58.1%  66.9%   65.0%  50.2%\n",
       "fashion     51.8% 39.2%  37.8%   39.8%  10.9%\n",
       "film        65.5% 67.6%  61.9%   47.7%  26.2%\n",
       "food        40.5% 44.3%  40.5%   30.0%  7.3% \n",
       "games       67.4% 61.7%  58.2%   52.6%  44.1%\n",
       "journalism  38.8% 32.9%  27.4%   25.4%  9.7% \n",
       "music       70.3% 71.7%  66.1%   46.9%  15.3%\n",
       "photography 59.9% 54.0%  46.7%   47.7%  11.7%\n",
       "publishing  75.7% 71.7%  67.1%   53.2%  22.8%\n",
       "technology  56.2% 47.0%  38.5%   33.8%  30.1%\n",
       "theater     79.1% 81.7%  72.5%   45.2%  13.6%"
      ]
     },
     "execution_count": 100,
     "metadata": {},
     "output_type": "execute_result"
    }
   ],
   "source": [
    "table = pd.pivot_table(df, values = 'successful', index = 'cat', columns = 'goal_size')\n",
    "print('Success rate by category and size of goal')\n",
    "pd.options.display.float_format = '{:.1f}%'.format\n",
    "table"
   ]
  },
  {
   "cell_type": "code",
   "execution_count": 101,
   "metadata": {},
   "outputs": [
    {
     "data": {
      "text/plain": [
       "<matplotlib.axes._subplots.AxesSubplot at 0x175ea8437f0>"
      ]
     },
     "execution_count": 101,
     "metadata": {},
     "output_type": "execute_result"
    },
    {
     "data": {
      "image/png": "[encoded data removed]",
      "text/plain": [
       "<matplotlib.figure.Figure at 0x175dc32cb00>"
      ]
     },
     "metadata": {},
     "output_type": "display_data"
    }
   ],
   "source": [
    "table.mean(axis = 0).plot(kind = 'bar', title = '% of successful projects')"
   ]
  },
  {
   "cell_type": "markdown",
   "metadata": {},
   "source": [
    "### The inflated rate of failure of technology is due to the fact that most of their projects ask for more than 10k, i.e., they're more expensive to develop and have a higher natural cutoff. In fact, the success rate for huge projects is higher than the average."
   ]
  },
  {
   "cell_type": "markdown",
   "metadata": {},
   "source": [
    "## This is also true for the subcategories inside technology."
   ]
  },
  {
   "cell_type": "code",
   "execution_count": 102,
   "metadata": {},
   "outputs": [
    {
     "name": "stdout",
     "output_type": "stream",
     "text": [
      "Success rate by subcategory in tech and size of goal\n"
     ]
    },
    {
     "data": {
      "text/html": [
       "<div>\n",
       "<style>\n",
       "    .dataframe thead tr:only-child th {\n",
       "        text-align: right;\n",
       "    }\n",
       "\n",
       "    .dataframe thead th {\n",
       "        text-align: left;\n",
       "    }\n",
       "\n",
       "    .dataframe tbody tr th {\n",
       "        vertical-align: top;\n",
       "    }\n",
       "</style>\n",
       "<table border=\"1\" class=\"dataframe\">\n",
       "  <thead>\n",
       "    <tr style=\"text-align: right;\">\n",
       "      <th>goal_size</th>\n",
       "      <th>Tiny</th>\n",
       "      <th>Small</th>\n",
       "      <th>Medium</th>\n",
       "      <th>Large</th>\n",
       "      <th>Huge</th>\n",
       "    </tr>\n",
       "    <tr>\n",
       "      <th>sub_cat</th>\n",
       "      <th></th>\n",
       "      <th></th>\n",
       "      <th></th>\n",
       "      <th></th>\n",
       "      <th></th>\n",
       "    </tr>\n",
       "  </thead>\n",
       "  <tbody>\n",
       "    <tr>\n",
       "      <th>3d</th>\n",
       "      <td>53.3%</td>\n",
       "      <td>34.9%</td>\n",
       "      <td>37.3%</td>\n",
       "      <td>44.4%</td>\n",
       "      <td>43.4%</td>\n",
       "    </tr>\n",
       "    <tr>\n",
       "      <th>apps</th>\n",
       "      <td>35.8%</td>\n",
       "      <td>26.9%</td>\n",
       "      <td>21.0%</td>\n",
       "      <td>14.3%</td>\n",
       "      <td>3.1%</td>\n",
       "    </tr>\n",
       "    <tr>\n",
       "      <th>camera</th>\n",
       "      <td>75.0%</td>\n",
       "      <td>56.5%</td>\n",
       "      <td>43.8%</td>\n",
       "      <td>52.1%</td>\n",
       "      <td>57.7%</td>\n",
       "    </tr>\n",
       "    <tr>\n",
       "      <th>diy</th>\n",
       "      <td>75.1%</td>\n",
       "      <td>57.4%</td>\n",
       "      <td>49.1%</td>\n",
       "      <td>42.7%</td>\n",
       "      <td>23.3%</td>\n",
       "    </tr>\n",
       "    <tr>\n",
       "      <th>fabrication</th>\n",
       "      <td>63.2%</td>\n",
       "      <td>42.9%</td>\n",
       "      <td>29.9%</td>\n",
       "      <td>27.4%</td>\n",
       "      <td>37.8%</td>\n",
       "    </tr>\n",
       "    <tr>\n",
       "      <th>flight</th>\n",
       "      <td>40.5%</td>\n",
       "      <td>21.6%</td>\n",
       "      <td>23.6%</td>\n",
       "      <td>22.8%</td>\n",
       "      <td>15.0%</td>\n",
       "    </tr>\n",
       "    <tr>\n",
       "      <th>gadgets</th>\n",
       "      <td>61.8%</td>\n",
       "      <td>56.5%</td>\n",
       "      <td>46.0%</td>\n",
       "      <td>37.5%</td>\n",
       "      <td>27.1%</td>\n",
       "    </tr>\n",
       "    <tr>\n",
       "      <th>hardware</th>\n",
       "      <td>83.3%</td>\n",
       "      <td>79.0%</td>\n",
       "      <td>67.3%</td>\n",
       "      <td>57.0%</td>\n",
       "      <td>54.9%</td>\n",
       "    </tr>\n",
       "    <tr>\n",
       "      <th>makerspaces</th>\n",
       "      <td>68.2%</td>\n",
       "      <td>35.0%</td>\n",
       "      <td>46.4%</td>\n",
       "      <td>32.7%</td>\n",
       "      <td>5.0%</td>\n",
       "    </tr>\n",
       "    <tr>\n",
       "      <th>robots</th>\n",
       "      <td>58.1%</td>\n",
       "      <td>56.3%</td>\n",
       "      <td>47.8%</td>\n",
       "      <td>42.2%</td>\n",
       "      <td>38.7%</td>\n",
       "    </tr>\n",
       "    <tr>\n",
       "      <th>software</th>\n",
       "      <td>47.4%</td>\n",
       "      <td>36.3%</td>\n",
       "      <td>28.9%</td>\n",
       "      <td>13.0%</td>\n",
       "      <td>5.5%</td>\n",
       "    </tr>\n",
       "    <tr>\n",
       "      <th>sound</th>\n",
       "      <td>61.5%</td>\n",
       "      <td>47.7%</td>\n",
       "      <td>45.8%</td>\n",
       "      <td>46.1%</td>\n",
       "      <td>42.3%</td>\n",
       "    </tr>\n",
       "    <tr>\n",
       "      <th>space</th>\n",
       "      <td>76.7%</td>\n",
       "      <td>50.0%</td>\n",
       "      <td>47.7%</td>\n",
       "      <td>41.2%</td>\n",
       "      <td>18.9%</td>\n",
       "    </tr>\n",
       "    <tr>\n",
       "      <th>undisclosed</th>\n",
       "      <td>98.6%</td>\n",
       "      <td>94.4%</td>\n",
       "      <td>90.3%</td>\n",
       "      <td>89.4%</td>\n",
       "      <td>86.8%</td>\n",
       "    </tr>\n",
       "    <tr>\n",
       "      <th>wearables</th>\n",
       "      <td>59.2%</td>\n",
       "      <td>34.6%</td>\n",
       "      <td>29.9%</td>\n",
       "      <td>35.9%</td>\n",
       "      <td>35.2%</td>\n",
       "    </tr>\n",
       "    <tr>\n",
       "      <th>web</th>\n",
       "      <td>30.1%</td>\n",
       "      <td>15.2%</td>\n",
       "      <td>13.2%</td>\n",
       "      <td>10.4%</td>\n",
       "      <td>1.5%</td>\n",
       "    </tr>\n",
       "  </tbody>\n",
       "</table>\n",
       "</div>"
      ],
      "text/plain": [
       "goal_size    Tiny  Small  Medium  Large  Huge\n",
       "sub_cat                                      \n",
       "3d          53.3% 34.9%  37.3%   44.4%  43.4%\n",
       "apps        35.8% 26.9%  21.0%   14.3%  3.1% \n",
       "camera      75.0% 56.5%  43.8%   52.1%  57.7%\n",
       "diy         75.1% 57.4%  49.1%   42.7%  23.3%\n",
       "fabrication 63.2% 42.9%  29.9%   27.4%  37.8%\n",
       "flight      40.5% 21.6%  23.6%   22.8%  15.0%\n",
       "gadgets     61.8% 56.5%  46.0%   37.5%  27.1%\n",
       "hardware    83.3% 79.0%  67.3%   57.0%  54.9%\n",
       "makerspaces 68.2% 35.0%  46.4%   32.7%  5.0% \n",
       "robots      58.1% 56.3%  47.8%   42.2%  38.7%\n",
       "software    47.4% 36.3%  28.9%   13.0%  5.5% \n",
       "sound       61.5% 47.7%  45.8%   46.1%  42.3%\n",
       "space       76.7% 50.0%  47.7%   41.2%  18.9%\n",
       "undisclosed 98.6% 94.4%  90.3%   89.4%  86.8%\n",
       "wearables   59.2% 34.6%  29.9%   35.9%  35.2%\n",
       "web         30.1% 15.2%  13.2%   10.4%  1.5% "
      ]
     },
     "execution_count": 102,
     "metadata": {},
     "output_type": "execute_result"
    }
   ],
   "source": [
    "by_cat = df.groupby('cat')\n",
    "tech = by_cat.get_group('technology')\n",
    "table = pd.pivot_table(tech, values = 'successful', index = 'sub_cat', columns = 'goal_size')\n",
    "print('Success rate by subcategory in tech and size of goal')\n",
    "table"
   ]
  },
  {
   "cell_type": "markdown",
   "metadata": {},
   "source": [
    "### Starred projects"
   ]
  },
  {
   "cell_type": "code",
   "execution_count": 103,
   "metadata": {},
   "outputs": [
    {
     "name": "stdout",
     "output_type": "stream",
     "text": [
      "False    168\n",
      "Name: is_starred, dtype: int64\n"
     ]
    },
    {
     "data": {
      "text/html": [
       "<div>\n",
       "<style>\n",
       "    .dataframe thead tr:only-child th {\n",
       "        text-align: right;\n",
       "    }\n",
       "\n",
       "    .dataframe thead th {\n",
       "        text-align: left;\n",
       "    }\n",
       "\n",
       "    .dataframe tbody tr th {\n",
       "        vertical-align: top;\n",
       "    }\n",
       "</style>\n",
       "<table border=\"1\" class=\"dataframe\">\n",
       "  <thead>\n",
       "    <tr style=\"text-align: right;\">\n",
       "      <th></th>\n",
       "      <th>backers_count</th>\n",
       "      <th>converted_pledged_amount</th>\n",
       "      <th>fx_rate</th>\n",
       "      <th>goal</th>\n",
       "      <th>id</th>\n",
       "      <th>pledged</th>\n",
       "      <th>static_usd_rate</th>\n",
       "      <th>usd_pledged</th>\n",
       "      <th>usd_goal</th>\n",
       "      <th>pct_acc_goal</th>\n",
       "      <th>avg_pledge</th>\n",
       "      <th>successful</th>\n",
       "    </tr>\n",
       "  </thead>\n",
       "  <tbody>\n",
       "    <tr>\n",
       "      <th>count</th>\n",
       "      <td>195,536.0</td>\n",
       "      <td>195,536.0</td>\n",
       "      <td>195,536.0</td>\n",
       "      <td>195,536.0</td>\n",
       "      <td>195,536.0</td>\n",
       "      <td>195,536.0</td>\n",
       "      <td>195,536.0</td>\n",
       "      <td>195,536.0</td>\n",
       "      <td>195,536.0</td>\n",
       "      <td>195,536.0</td>\n",
       "      <td>174,742.0</td>\n",
       "      <td>195,536.0</td>\n",
       "    </tr>\n",
       "    <tr>\n",
       "      <th>mean</th>\n",
       "      <td>144.7</td>\n",
       "      <td>11,883.9</td>\n",
       "      <td>1.0</td>\n",
       "      <td>28,037.6</td>\n",
       "      <td>1,075,167,608.9</td>\n",
       "      <td>13,031.5</td>\n",
       "      <td>1.0</td>\n",
       "      <td>11,885.9</td>\n",
       "      <td>24,608.4</td>\n",
       "      <td>3.6</td>\n",
       "      <td>78.5</td>\n",
       "      <td>54.0</td>\n",
       "    </tr>\n",
       "    <tr>\n",
       "      <th>std</th>\n",
       "      <td>1,055.0</td>\n",
       "      <td>91,986.0</td>\n",
       "      <td>0.2</td>\n",
       "      <td>347,321.6</td>\n",
       "      <td>619,069,722.4</td>\n",
       "      <td>140,952.2</td>\n",
       "      <td>0.2</td>\n",
       "      <td>91,964.5</td>\n",
       "      <td>199,952.4</td>\n",
       "      <td>191.2</td>\n",
       "      <td>139.1</td>\n",
       "      <td>49.8</td>\n",
       "    </tr>\n",
       "    <tr>\n",
       "      <th>min</th>\n",
       "      <td>0.0</td>\n",
       "      <td>0.0</td>\n",
       "      <td>0.0</td>\n",
       "      <td>0.0</td>\n",
       "      <td>18,520.0</td>\n",
       "      <td>0.0</td>\n",
       "      <td>0.0</td>\n",
       "      <td>0.0</td>\n",
       "      <td>0.0</td>\n",
       "      <td>0.0</td>\n",
       "      <td>0.5</td>\n",
       "      <td>0.0</td>\n",
       "    </tr>\n",
       "    <tr>\n",
       "      <th>25%</th>\n",
       "      <td>3.0</td>\n",
       "      <td>96.0</td>\n",
       "      <td>1.0</td>\n",
       "      <td>1,500.0</td>\n",
       "      <td>538,088,760.5</td>\n",
       "      <td>100.0</td>\n",
       "      <td>1.0</td>\n",
       "      <td>96.2</td>\n",
       "      <td>1,561.5</td>\n",
       "      <td>0.0</td>\n",
       "      <td>29.2</td>\n",
       "      <td>0.0</td>\n",
       "    </tr>\n",
       "    <tr>\n",
       "      <th>50%</th>\n",
       "      <td>25.0</td>\n",
       "      <td>1,450.0</td>\n",
       "      <td>1.0</td>\n",
       "      <td>5,000.0</td>\n",
       "      <td>1,079,688,238.0</td>\n",
       "      <td>1,450.0</td>\n",
       "      <td>1.0</td>\n",
       "      <td>1,450.0</td>\n",
       "      <td>5,000.0</td>\n",
       "      <td>1.0</td>\n",
       "      <td>51.5</td>\n",
       "      <td>100.0</td>\n",
       "    </tr>\n",
       "    <tr>\n",
       "      <th>75%</th>\n",
       "      <td>82.0</td>\n",
       "      <td>5,985.0</td>\n",
       "      <td>1.0</td>\n",
       "      <td>13,000.0</td>\n",
       "      <td>1,609,188,999.5</td>\n",
       "      <td>6,025.0</td>\n",
       "      <td>1.0</td>\n",
       "      <td>5,988.0</td>\n",
       "      <td>12,500.0</td>\n",
       "      <td>1.2</td>\n",
       "      <td>88.3</td>\n",
       "      <td>100.0</td>\n",
       "    </tr>\n",
       "    <tr>\n",
       "      <th>max</th>\n",
       "      <td>105,857.0</td>\n",
       "      <td>10,266,845.0</td>\n",
       "      <td>1.8</td>\n",
       "      <td>100,000,000.0</td>\n",
       "      <td>2,147,476,221.0</td>\n",
       "      <td>29,021,909.0</td>\n",
       "      <td>1.7</td>\n",
       "      <td>10,266,845.7</td>\n",
       "      <td>10,000,000.0</td>\n",
       "      <td>41,535.0</td>\n",
       "      <td>10,000.0</td>\n",
       "      <td>100.0</td>\n",
       "    </tr>\n",
       "  </tbody>\n",
       "</table>\n",
       "</div>"
      ],
      "text/plain": [
       "       backers_count  converted_pledged_amount   fx_rate          goal  \\\n",
       "count 195,536.0      195,536.0                 195,536.0 195,536.0       \n",
       "mean  144.7          11,883.9                  1.0       28,037.6        \n",
       "std   1,055.0        91,986.0                  0.2       347,321.6       \n",
       "min   0.0            0.0                       0.0       0.0             \n",
       "25%   3.0            96.0                      1.0       1,500.0         \n",
       "50%   25.0           1,450.0                   1.0       5,000.0         \n",
       "75%   82.0           5,985.0                   1.0       13,000.0        \n",
       "max   105,857.0      10,266,845.0              1.8       100,000,000.0   \n",
       "\n",
       "                   id      pledged  static_usd_rate  usd_pledged     usd_goal  \\\n",
       "count 195,536.0       195,536.0    195,536.0        195,536.0    195,536.0      \n",
       "mean  1,075,167,608.9 13,031.5     1.0              11,885.9     24,608.4       \n",
       "std   619,069,722.4   140,952.2    0.2              91,964.5     199,952.4      \n",
       "min   18,520.0        0.0          0.0              0.0          0.0            \n",
       "25%   538,088,760.5   100.0        1.0              96.2         1,561.5        \n",
       "50%   1,079,688,238.0 1,450.0      1.0              1,450.0      5,000.0        \n",
       "75%   1,609,188,999.5 6,025.0      1.0              5,988.0      12,500.0       \n",
       "max   2,147,476,221.0 29,021,909.0 1.7              10,266,845.7 10,000,000.0   \n",
       "\n",
       "       pct_acc_goal  avg_pledge  successful  \n",
       "count 195,536.0     174,742.0   195,536.0    \n",
       "mean  3.6           78.5        54.0         \n",
       "std   191.2         139.1       49.8         \n",
       "min   0.0           0.5         0.0          \n",
       "25%   0.0           29.2        0.0          \n",
       "50%   1.0           51.5        100.0        \n",
       "75%   1.2           88.3        100.0        \n",
       "max   41,535.0      10,000.0    100.0        "
      ]
     },
     "execution_count": 103,
     "metadata": {},
     "output_type": "execute_result"
    }
   ],
   "source": [
    "print(df.is_starred.value_counts())\n",
    "starred = df[df.is_starred != None]\n",
    "pd.options.display.float_format = '{:,.1f}'.format\n",
    "starred.describe()"
   ]
  },
  {
   "cell_type": "markdown",
   "metadata": {},
   "source": [
    "# Concluding notes"
   ]
  },
  {
   "cell_type": "markdown",
   "metadata": {},
   "source": [
    "### The data analysis for this dataset of kickstarter project has many interesting insights. \n",
    "First, Kickstarter opened a new space for people with no access to traditional funding to get resources for their projects. The results show a bias in traditional funding against artists, which in response, flocked to Kickstarter and made three quarters of the available projects (90% if you count food and games). \n",
    "\n",
    "Second, one would think that once the goal is reached people stop contributing to the campaign. But this should be seen in the context of the campaigns. Art projects are not looking to be viable in the business sense of the word, and thus, most of the backers have a more altruistic approach, giving more than the project's goal.\n",
    "\n",
    "Third, technological projects fail the most even though they make a minority of the platforms projects. One part of the explanation is that technology has more access to traditional funding channels, which means that many projects reach kickstarter after being rejected by financial establishments. However, this study suggests that a big part of failure is structural: bigger projects tend to fail and most projects in technology are bigger than the average. In fact, subcategories from technology have great rates of success for tiny and small projects.\n",
    "\n",
    "Thus, if you were trying to get the best use of the platform you should try artistic projects that need less than 10k. For other interests, finding a viable business model should be enough for getting traditional financial backing for smaller technology projects, and a requirement for bigger ones. "
   ]
  },
  {
   "cell_type": "markdown",
   "metadata": {},
   "source": [
    "### BCI Pitch"
   ]
  },
  {
   "cell_type": "markdown",
   "metadata": {},
   "source": [
    "### How many projects in Florida did not receive financing and were larger than 10k?"
   ]
  },
  {
   "cell_type": "code",
   "execution_count": 104,
   "metadata": {},
   "outputs": [
    {
     "data": {
      "text/plain": [
       "0    {\"country\":\"US\",\"urls\":{\"web\":{\"discover\":\"https://www.kickstarter.com/discover/places/paonia-co\",\"location\":\"https://www.kickstarter.com/locations/paonia-co\"},\"api\":{\"nearby_projects\":\"https://api.kickstarter.com/v1/discover?signature=1518753993.05a59c69a5b76a1e1c451c4b1bc0c8b5cf840cc7&woe_id=2468066\"}},\"name\":\"Paonia\",\"displayable_name\":\"Paonia, CO\",\"short_name\":\"Paonia, CO\",\"id\":2468066,\"state\":\"CO\",\"type\":\"Town\",\"is_root\":false,\"slug\":\"paonia-co\",\"localized_name\":\"Paonia\"}                                   \n",
       "1    {\"country\":\"US\",\"urls\":{\"web\":{\"discover\":\"https://www.kickstarter.com/discover/places/bakersfield-ca\",\"location\":\"https://www.kickstarter.com/locations/bakersfield-ca\"},\"api\":{\"nearby_projects\":\"https://api.kickstarter.com/v1/discover?signature=1518753980.64bc28ccbbd8bafb6f60a6e3619e53d837b5624c&woe_id=2358492\"}},\"name\":\"Bakersfield\",\"displayable_name\":\"Bakersfield, CA\",\"short_name\":\"Bakersfield, CA\",\"id\":2358492,\"state\":\"CA\",\"type\":\"Town\",\"is_root\":false,\"slug\":\"bakersfield-ca\",\"localized_name\":\"Bakersfield\"}\n",
       "2    {\"country\":\"US\",\"urls\":{\"web\":{\"discover\":\"https://www.kickstarter.com/discover/places/lowell-ma\",\"location\":\"https://www.kickstarter.com/locations/lowell-ma\"},\"api\":{\"nearby_projects\":\"https://api.kickstarter.com/v1/discover?signature=1518754009.deafea54b81f1c464565e1b203aefbf8a6a6e7e0&woe_id=2442564\"}},\"name\":\"Lowell\",\"displayable_name\":\"Lowell, MA\",\"short_name\":\"Lowell, MA\",\"id\":2442564,\"state\":\"MA\",\"type\":\"Town\",\"is_root\":false,\"slug\":\"lowell-ma\",\"localized_name\":\"Lowell\"}                                   \n",
       "3    {\"country\":\"US\",\"urls\":{\"web\":{\"discover\":\"https://www.kickstarter.com/discover/places/washington-dc\",\"location\":\"https://www.kickstarter.com/locations/washington-dc\"},\"api\":{\"nearby_projects\":\"https://api.kickstarter.com/v1/discover?signature=1518753922.2395f09e292c64f4a202e8842a00f23f84857a06&woe_id=2514815\"}},\"name\":\"Washington\",\"displayable_name\":\"Washington, DC\",\"short_name\":\"Washington, DC\",\"id\":2514815,\"state\":\"DC\",\"type\":\"Town\",\"is_root\":false,\"slug\":\"washington-dc\",\"localized_name\":\"Washington\"}       \n",
       "4    {\"country\":\"US\",\"urls\":{\"web\":{\"discover\":\"https://www.kickstarter.com/discover/places/portland-or\",\"location\":\"https://www.kickstarter.com/locations/portland-or\"},\"api\":{\"nearby_projects\":\"https://api.kickstarter.com/v1/discover?signature=1518753923.476a6dcf0adf2c7765d10cae9319ea6350a256fd&woe_id=2475687\"}},\"name\":\"Portland\",\"displayable_name\":\"Portland, OR\",\"short_name\":\"Portland, OR\",\"id\":2475687,\"state\":\"OR\",\"type\":\"Town\",\"is_root\":false,\"slug\":\"portland-or\",\"localized_name\":\"Portland\"}                     \n",
       "Name: location, dtype: object"
      ]
     },
     "execution_count": 104,
     "metadata": {},
     "output_type": "execute_result"
    }
   ],
   "source": [
    "df.location.head()"
   ]
  },
  {
   "cell_type": "code",
   "execution_count": 121,
   "metadata": {},
   "outputs": [
    {
     "data": {
      "text/html": [
       "<div>\n",
       "<style>\n",
       "    .dataframe thead tr:only-child th {\n",
       "        text-align: right;\n",
       "    }\n",
       "\n",
       "    .dataframe thead th {\n",
       "        text-align: left;\n",
       "    }\n",
       "\n",
       "    .dataframe tbody tr th {\n",
       "        vertical-align: top;\n",
       "    }\n",
       "</style>\n",
       "<table border=\"1\" class=\"dataframe\">\n",
       "  <thead>\n",
       "    <tr style=\"text-align: right;\">\n",
       "      <th></th>\n",
       "      <th>backers_count</th>\n",
       "      <th>converted_pledged_amount</th>\n",
       "      <th>fx_rate</th>\n",
       "      <th>goal</th>\n",
       "      <th>id</th>\n",
       "      <th>pledged</th>\n",
       "      <th>static_usd_rate</th>\n",
       "      <th>usd_pledged</th>\n",
       "      <th>usd_goal</th>\n",
       "      <th>pct_acc_goal</th>\n",
       "      <th>avg_pledge</th>\n",
       "      <th>successful</th>\n",
       "    </tr>\n",
       "  </thead>\n",
       "  <tbody>\n",
       "    <tr>\n",
       "      <th>count</th>\n",
       "      <td>6,928.0</td>\n",
       "      <td>6,928.0</td>\n",
       "      <td>6,928.0</td>\n",
       "      <td>6,928.0</td>\n",
       "      <td>6,928.0</td>\n",
       "      <td>6,928.0</td>\n",
       "      <td>6,928.0</td>\n",
       "      <td>6,928.0</td>\n",
       "      <td>6,928.0</td>\n",
       "      <td>6,928.0</td>\n",
       "      <td>5,774.0</td>\n",
       "      <td>6,928.0</td>\n",
       "    </tr>\n",
       "    <tr>\n",
       "      <th>mean</th>\n",
       "      <td>79.8</td>\n",
       "      <td>7,158.3</td>\n",
       "      <td>1.0</td>\n",
       "      <td>25,962.8</td>\n",
       "      <td>1,073,360,125.7</td>\n",
       "      <td>7,162.8</td>\n",
       "      <td>1.0</td>\n",
       "      <td>7,158.7</td>\n",
       "      <td>25,973.6</td>\n",
       "      <td>1.9</td>\n",
       "      <td>69.4</td>\n",
       "      <td>37.5</td>\n",
       "    </tr>\n",
       "    <tr>\n",
       "      <th>std</th>\n",
       "      <td>588.6</td>\n",
       "      <td>82,675.4</td>\n",
       "      <td>0.0</td>\n",
       "      <td>170,036.3</td>\n",
       "      <td>617,344,761.4</td>\n",
       "      <td>82,675.5</td>\n",
       "      <td>0.0</td>\n",
       "      <td>82,675.4</td>\n",
       "      <td>170,118.4</td>\n",
       "      <td>62.1</td>\n",
       "      <td>129.8</td>\n",
       "      <td>48.4</td>\n",
       "    </tr>\n",
       "    <tr>\n",
       "      <th>min</th>\n",
       "      <td>0.0</td>\n",
       "      <td>0.0</td>\n",
       "      <td>0.1</td>\n",
       "      <td>1.0</td>\n",
       "      <td>538,104.0</td>\n",
       "      <td>0.0</td>\n",
       "      <td>0.1</td>\n",
       "      <td>0.0</td>\n",
       "      <td>1.0</td>\n",
       "      <td>0.0</td>\n",
       "      <td>0.8</td>\n",
       "      <td>0.0</td>\n",
       "    </tr>\n",
       "    <tr>\n",
       "      <th>25%</th>\n",
       "      <td>1.0</td>\n",
       "      <td>10.0</td>\n",
       "      <td>1.0</td>\n",
       "      <td>1,584.8</td>\n",
       "      <td>548,021,324.0</td>\n",
       "      <td>10.0</td>\n",
       "      <td>1.0</td>\n",
       "      <td>10.0</td>\n",
       "      <td>1,584.8</td>\n",
       "      <td>0.0</td>\n",
       "      <td>21.0</td>\n",
       "      <td>0.0</td>\n",
       "    </tr>\n",
       "    <tr>\n",
       "      <th>50%</th>\n",
       "      <td>8.0</td>\n",
       "      <td>340.0</td>\n",
       "      <td>1.0</td>\n",
       "      <td>5,000.0</td>\n",
       "      <td>1,074,084,223.0</td>\n",
       "      <td>340.0</td>\n",
       "      <td>1.0</td>\n",
       "      <td>340.0</td>\n",
       "      <td>5,000.0</td>\n",
       "      <td>0.1</td>\n",
       "      <td>43.1</td>\n",
       "      <td>0.0</td>\n",
       "    </tr>\n",
       "    <tr>\n",
       "      <th>75%</th>\n",
       "      <td>42.0</td>\n",
       "      <td>2,860.8</td>\n",
       "      <td>1.0</td>\n",
       "      <td>15,000.0</td>\n",
       "      <td>1,600,596,208.5</td>\n",
       "      <td>2,866.2</td>\n",
       "      <td>1.0</td>\n",
       "      <td>2,860.8</td>\n",
       "      <td>15,000.0</td>\n",
       "      <td>1.1</td>\n",
       "      <td>77.6</td>\n",
       "      <td>100.0</td>\n",
       "    </tr>\n",
       "    <tr>\n",
       "      <th>max</th>\n",
       "      <td>26,828.0</td>\n",
       "      <td>5,333,792.0</td>\n",
       "      <td>1.4</td>\n",
       "      <td>10,000,000.0</td>\n",
       "      <td>2,147,330,576.0</td>\n",
       "      <td>5,333,792.8</td>\n",
       "      <td>1.7</td>\n",
       "      <td>5,333,792.8</td>\n",
       "      <td>10,000,000.0</td>\n",
       "      <td>4,684.0</td>\n",
       "      <td>5,000.5</td>\n",
       "      <td>100.0</td>\n",
       "    </tr>\n",
       "  </tbody>\n",
       "</table>\n",
       "</div>"
      ],
      "text/plain": [
       "       backers_count  converted_pledged_amount  fx_rate         goal  \\\n",
       "count 6,928.0        6,928.0                   6,928.0  6,928.0        \n",
       "mean  79.8           7,158.3                   1.0      25,962.8       \n",
       "std   588.6          82,675.4                  0.0      170,036.3      \n",
       "min   0.0            0.0                       0.1      1.0            \n",
       "25%   1.0            10.0                      1.0      1,584.8        \n",
       "50%   8.0            340.0                     1.0      5,000.0        \n",
       "75%   42.0           2,860.8                   1.0      15,000.0       \n",
       "max   26,828.0       5,333,792.0               1.4      10,000,000.0   \n",
       "\n",
       "                   id     pledged  static_usd_rate  usd_pledged     usd_goal  \\\n",
       "count 6,928.0         6,928.0     6,928.0          6,928.0      6,928.0        \n",
       "mean  1,073,360,125.7 7,162.8     1.0              7,158.7      25,973.6       \n",
       "std   617,344,761.4   82,675.5    0.0              82,675.4     170,118.4      \n",
       "min   538,104.0       0.0         0.1              0.0          1.0            \n",
       "25%   548,021,324.0   10.0        1.0              10.0         1,584.8        \n",
       "50%   1,074,084,223.0 340.0       1.0              340.0        5,000.0        \n",
       "75%   1,600,596,208.5 2,866.2     1.0              2,860.8      15,000.0       \n",
       "max   2,147,330,576.0 5,333,792.8 1.7              5,333,792.8  10,000,000.0   \n",
       "\n",
       "       pct_acc_goal  avg_pledge  successful  \n",
       "count 6,928.0       5,774.0     6,928.0      \n",
       "mean  1.9           69.4        37.5         \n",
       "std   62.1          129.8       48.4         \n",
       "min   0.0           0.8         0.0          \n",
       "25%   0.0           21.0        0.0          \n",
       "50%   0.1           43.1        0.0          \n",
       "75%   1.1           77.6        100.0        \n",
       "max   4,684.0       5,000.5     100.0        "
      ]
     },
     "execution_count": 121,
     "metadata": {},
     "output_type": "execute_result"
    }
   ],
   "source": [
    "#Get the state\n",
    "def get_us_state(s):\n",
    "    try:\n",
    "        m = re.search('\"state\":\"\\w+\",',s)[0].split('\"')\n",
    "        us_state = m[3]\n",
    "        return us_state\n",
    "    except TypeError:\n",
    "        return \"\"\n",
    "\n",
    "df.us_state = df.location.apply(get_us_state)\n",
    "florida = df[df.us_state == 'FL']\n",
    "florida.describe()"
   ]
  },
  {
   "cell_type": "code",
   "execution_count": 129,
   "metadata": {},
   "outputs": [
    {
     "name": "stderr",
     "output_type": "stream",
     "text": [
      "c:\\users\\sm_fe\\anaconda3\\lib\\site-packages\\ipykernel_launcher.py:1: UserWarning: Boolean Series key will be reindexed to match DataFrame index.\n",
      "  \"\"\"Entry point for launching an IPython kernel.\n"
     ]
    },
    {
     "data": {
      "text/html": [
       "<div>\n",
       "<style>\n",
       "    .dataframe thead tr:only-child th {\n",
       "        text-align: right;\n",
       "    }\n",
       "\n",
       "    .dataframe thead th {\n",
       "        text-align: left;\n",
       "    }\n",
       "\n",
       "    .dataframe tbody tr th {\n",
       "        vertical-align: top;\n",
       "    }\n",
       "</style>\n",
       "<table border=\"1\" class=\"dataframe\">\n",
       "  <thead>\n",
       "    <tr style=\"text-align: right;\">\n",
       "      <th></th>\n",
       "      <th>backers_count</th>\n",
       "      <th>converted_pledged_amount</th>\n",
       "      <th>fx_rate</th>\n",
       "      <th>goal</th>\n",
       "      <th>id</th>\n",
       "      <th>pledged</th>\n",
       "      <th>static_usd_rate</th>\n",
       "      <th>usd_pledged</th>\n",
       "      <th>usd_goal</th>\n",
       "      <th>pct_acc_goal</th>\n",
       "      <th>avg_pledge</th>\n",
       "      <th>successful</th>\n",
       "    </tr>\n",
       "  </thead>\n",
       "  <tbody>\n",
       "    <tr>\n",
       "      <th>count</th>\n",
       "      <td>578.0</td>\n",
       "      <td>578.0</td>\n",
       "      <td>578.0</td>\n",
       "      <td>578.0</td>\n",
       "      <td>578.0</td>\n",
       "      <td>578.0</td>\n",
       "      <td>578.0</td>\n",
       "      <td>578.0</td>\n",
       "      <td>578.0</td>\n",
       "      <td>578.0</td>\n",
       "      <td>461.0</td>\n",
       "      <td>578.0</td>\n",
       "    </tr>\n",
       "    <tr>\n",
       "      <th>mean</th>\n",
       "      <td>22.4</td>\n",
       "      <td>2,075.0</td>\n",
       "      <td>1.0</td>\n",
       "      <td>51,863.1</td>\n",
       "      <td>1,067,875,356.4</td>\n",
       "      <td>2,074.3</td>\n",
       "      <td>1.0</td>\n",
       "      <td>2,075.0</td>\n",
       "      <td>51,873.7</td>\n",
       "      <td>0.1</td>\n",
       "      <td>67.6</td>\n",
       "      <td>0.0</td>\n",
       "    </tr>\n",
       "    <tr>\n",
       "      <th>std</th>\n",
       "      <td>131.3</td>\n",
       "      <td>9,362.3</td>\n",
       "      <td>0.0</td>\n",
       "      <td>117,563.8</td>\n",
       "      <td>619,073,307.0</td>\n",
       "      <td>9,362.2</td>\n",
       "      <td>0.0</td>\n",
       "      <td>9,362.3</td>\n",
       "      <td>117,565.7</td>\n",
       "      <td>0.1</td>\n",
       "      <td>127.2</td>\n",
       "      <td>0.0</td>\n",
       "    </tr>\n",
       "    <tr>\n",
       "      <th>min</th>\n",
       "      <td>0.0</td>\n",
       "      <td>0.0</td>\n",
       "      <td>1.0</td>\n",
       "      <td>10.0</td>\n",
       "      <td>1,473,252.0</td>\n",
       "      <td>0.0</td>\n",
       "      <td>1.0</td>\n",
       "      <td>0.0</td>\n",
       "      <td>10.0</td>\n",
       "      <td>0.0</td>\n",
       "      <td>1.0</td>\n",
       "      <td>0.0</td>\n",
       "    </tr>\n",
       "    <tr>\n",
       "      <th>25%</th>\n",
       "      <td>1.0</td>\n",
       "      <td>2.0</td>\n",
       "      <td>1.0</td>\n",
       "      <td>7,000.0</td>\n",
       "      <td>553,165,200.2</td>\n",
       "      <td>2.0</td>\n",
       "      <td>1.0</td>\n",
       "      <td>2.0</td>\n",
       "      <td>7,000.0</td>\n",
       "      <td>0.0</td>\n",
       "      <td>9.3</td>\n",
       "      <td>0.0</td>\n",
       "    </tr>\n",
       "    <tr>\n",
       "      <th>50%</th>\n",
       "      <td>3.0</td>\n",
       "      <td>51.0</td>\n",
       "      <td>1.0</td>\n",
       "      <td>20,000.0</td>\n",
       "      <td>1,059,908,989.0</td>\n",
       "      <td>51.0</td>\n",
       "      <td>1.0</td>\n",
       "      <td>51.0</td>\n",
       "      <td>20,000.0</td>\n",
       "      <td>0.0</td>\n",
       "      <td>29.6</td>\n",
       "      <td>0.0</td>\n",
       "    </tr>\n",
       "    <tr>\n",
       "      <th>75%</th>\n",
       "      <td>9.0</td>\n",
       "      <td>497.0</td>\n",
       "      <td>1.0</td>\n",
       "      <td>50,000.0</td>\n",
       "      <td>1,600,415,488.5</td>\n",
       "      <td>497.0</td>\n",
       "      <td>1.0</td>\n",
       "      <td>497.0</td>\n",
       "      <td>50,000.0</td>\n",
       "      <td>0.0</td>\n",
       "      <td>70.0</td>\n",
       "      <td>0.0</td>\n",
       "    </tr>\n",
       "    <tr>\n",
       "      <th>max</th>\n",
       "      <td>2,620.0</td>\n",
       "      <td>109,308.0</td>\n",
       "      <td>1.4</td>\n",
       "      <td>1,200,000.0</td>\n",
       "      <td>2,141,585,021.0</td>\n",
       "      <td>109,308.0</td>\n",
       "      <td>1.6</td>\n",
       "      <td>109,308.0</td>\n",
       "      <td>1,200,000.0</td>\n",
       "      <td>0.9</td>\n",
       "      <td>1,444.6</td>\n",
       "      <td>0.0</td>\n",
       "    </tr>\n",
       "  </tbody>\n",
       "</table>\n",
       "</div>"
      ],
      "text/plain": [
       "       backers_count  converted_pledged_amount  fx_rate        goal  \\\n",
       "count 578.0          578.0                     578.0    578.0         \n",
       "mean  22.4           2,075.0                   1.0      51,863.1      \n",
       "std   131.3          9,362.3                   0.0      117,563.8     \n",
       "min   0.0            0.0                       1.0      10.0          \n",
       "25%   1.0            2.0                       1.0      7,000.0       \n",
       "50%   3.0            51.0                      1.0      20,000.0      \n",
       "75%   9.0            497.0                     1.0      50,000.0      \n",
       "max   2,620.0        109,308.0                 1.4      1,200,000.0   \n",
       "\n",
       "                   id   pledged  static_usd_rate  usd_pledged    usd_goal  \\\n",
       "count 578.0           578.0     578.0            578.0        578.0         \n",
       "mean  1,067,875,356.4 2,074.3   1.0              2,075.0      51,873.7      \n",
       "std   619,073,307.0   9,362.2   0.0              9,362.3      117,565.7     \n",
       "min   1,473,252.0     0.0       1.0              0.0          10.0          \n",
       "25%   553,165,200.2   2.0       1.0              2.0          7,000.0       \n",
       "50%   1,059,908,989.0 51.0      1.0              51.0         20,000.0      \n",
       "75%   1,600,415,488.5 497.0     1.0              497.0        50,000.0      \n",
       "max   2,141,585,021.0 109,308.0 1.6              109,308.0    1,200,000.0   \n",
       "\n",
       "       pct_acc_goal  avg_pledge  successful  \n",
       "count 578.0         461.0       578.0        \n",
       "mean  0.1           67.6        0.0          \n",
       "std   0.1           127.2       0.0          \n",
       "min   0.0           1.0         0.0          \n",
       "25%   0.0           9.3         0.0          \n",
       "50%   0.0           29.6        0.0          \n",
       "75%   0.0           70.0        0.0          \n",
       "max   0.9           1,444.6     0.0          "
      ]
     },
     "execution_count": 129,
     "metadata": {},
     "output_type": "execute_result"
    }
   ],
   "source": [
    "florida_tech_failed = florida[florida.cat == 'technology'][florida.state == 'failed']\n",
    "florida_tech_failed.describe()"
   ]
  },
  {
   "cell_type": "code",
   "execution_count": 116,
   "metadata": {},
   "outputs": [
    {
     "data": {
      "text/plain": [
       "175680    {\"web\":{\"project\":\"https://www.kickstarter.com/projects/1090911217/apple-watch-crown-0?ref=category_newest\",\"rewards\":\"https://www.kickstarter.com/projects/1090911217/apple-watch-crown-0/rewards\"}}                                                            \n",
       "175692    {\"web\":{\"project\":\"https://www.kickstarter.com/projects/1090911217/apple-watch-crown?ref=category_newest\",\"rewards\":\"https://www.kickstarter.com/projects/1090911217/apple-watch-crown/rewards\"}}                                                                \n",
       "175702    {\"web\":{\"project\":\"https://www.kickstarter.com/projects/142937399/daisy-fit-project-breast-prostheses?ref=category_newest\",\"rewards\":\"https://www.kickstarter.com/projects/142937399/daisy-fit-project-breast-prostheses/rewards\"}}                              \n",
       "175745    {\"web\":{\"project\":\"https://www.kickstarter.com/projects/1484352170/my-stem-kits-k-12-curriculum-and-kits?ref=category_newest\",\"rewards\":\"https://www.kickstarter.com/projects/1484352170/my-stem-kits-k-12-curriculum-and-kits/rewards\"}}                        \n",
       "175771    {\"web\":{\"project\":\"https://www.kickstarter.com/projects/738022267/the-most-rigid-3d-delta-printer-ever-built-modular?ref=category_newest\",\"rewards\":\"https://www.kickstarter.com/projects/738022267/the-most-rigid-3d-delta-printer-ever-built-modular/rewards\"}}\n",
       "Name: urls, dtype: object"
      ]
     },
     "execution_count": 116,
     "metadata": {},
     "output_type": "execute_result"
    }
   ],
   "source": [
    "florida_by_size.get_group('Large').urls.head()"
   ]
  },
  {
   "cell_type": "code",
   "execution_count": 128,
   "metadata": {},
   "outputs": [
    {
     "data": {
      "text/html": [
       "<div>\n",
       "<style>\n",
       "    .dataframe thead tr:only-child th {\n",
       "        text-align: right;\n",
       "    }\n",
       "\n",
       "    .dataframe thead th {\n",
       "        text-align: left;\n",
       "    }\n",
       "\n",
       "    .dataframe tbody tr th {\n",
       "        vertical-align: top;\n",
       "    }\n",
       "</style>\n",
       "<table border=\"1\" class=\"dataframe\">\n",
       "  <thead>\n",
       "    <tr style=\"text-align: right;\">\n",
       "      <th>goal_size</th>\n",
       "      <th>Tiny</th>\n",
       "      <th>Small</th>\n",
       "      <th>Medium</th>\n",
       "      <th>Large</th>\n",
       "      <th>Huge</th>\n",
       "    </tr>\n",
       "    <tr>\n",
       "      <th>sub_cat</th>\n",
       "      <th></th>\n",
       "      <th></th>\n",
       "      <th></th>\n",
       "      <th></th>\n",
       "      <th></th>\n",
       "    </tr>\n",
       "  </thead>\n",
       "  <tbody>\n",
       "    <tr>\n",
       "      <th>3d</th>\n",
       "      <td>nan</td>\n",
       "      <td>nan</td>\n",
       "      <td>4.0</td>\n",
       "      <td>9.0</td>\n",
       "      <td>5.0</td>\n",
       "    </tr>\n",
       "    <tr>\n",
       "      <th>apps</th>\n",
       "      <td>4.0</td>\n",
       "      <td>4.0</td>\n",
       "      <td>33.0</td>\n",
       "      <td>49.0</td>\n",
       "      <td>9.0</td>\n",
       "    </tr>\n",
       "    <tr>\n",
       "      <th>camera</th>\n",
       "      <td>nan</td>\n",
       "      <td>nan</td>\n",
       "      <td>1.0</td>\n",
       "      <td>3.0</td>\n",
       "      <td>nan</td>\n",
       "    </tr>\n",
       "    <tr>\n",
       "      <th>diy</th>\n",
       "      <td>1.0</td>\n",
       "      <td>3.0</td>\n",
       "      <td>5.0</td>\n",
       "      <td>6.0</td>\n",
       "      <td>3.0</td>\n",
       "    </tr>\n",
       "    <tr>\n",
       "      <th>fabrication</th>\n",
       "      <td>nan</td>\n",
       "      <td>nan</td>\n",
       "      <td>4.0</td>\n",
       "      <td>nan</td>\n",
       "      <td>nan</td>\n",
       "    </tr>\n",
       "    <tr>\n",
       "      <th>flight</th>\n",
       "      <td>1.0</td>\n",
       "      <td>1.0</td>\n",
       "      <td>1.0</td>\n",
       "      <td>5.0</td>\n",
       "      <td>1.0</td>\n",
       "    </tr>\n",
       "    <tr>\n",
       "      <th>gadgets</th>\n",
       "      <td>2.0</td>\n",
       "      <td>5.0</td>\n",
       "      <td>14.0</td>\n",
       "      <td>36.0</td>\n",
       "      <td>11.0</td>\n",
       "    </tr>\n",
       "    <tr>\n",
       "      <th>hardware</th>\n",
       "      <td>1.0</td>\n",
       "      <td>3.0</td>\n",
       "      <td>17.0</td>\n",
       "      <td>18.0</td>\n",
       "      <td>10.0</td>\n",
       "    </tr>\n",
       "    <tr>\n",
       "      <th>makerspaces</th>\n",
       "      <td>nan</td>\n",
       "      <td>1.0</td>\n",
       "      <td>1.0</td>\n",
       "      <td>nan</td>\n",
       "      <td>1.0</td>\n",
       "    </tr>\n",
       "    <tr>\n",
       "      <th>robots</th>\n",
       "      <td>2.0</td>\n",
       "      <td>1.0</td>\n",
       "      <td>4.0</td>\n",
       "      <td>2.0</td>\n",
       "      <td>nan</td>\n",
       "    </tr>\n",
       "    <tr>\n",
       "      <th>software</th>\n",
       "      <td>3.0</td>\n",
       "      <td>11.0</td>\n",
       "      <td>23.0</td>\n",
       "      <td>43.0</td>\n",
       "      <td>8.0</td>\n",
       "    </tr>\n",
       "    <tr>\n",
       "      <th>sound</th>\n",
       "      <td>1.0</td>\n",
       "      <td>2.0</td>\n",
       "      <td>1.0</td>\n",
       "      <td>6.0</td>\n",
       "      <td>nan</td>\n",
       "    </tr>\n",
       "    <tr>\n",
       "      <th>space</th>\n",
       "      <td>nan</td>\n",
       "      <td>2.0</td>\n",
       "      <td>2.0</td>\n",
       "      <td>2.0</td>\n",
       "      <td>nan</td>\n",
       "    </tr>\n",
       "    <tr>\n",
       "      <th>wearables</th>\n",
       "      <td>1.0</td>\n",
       "      <td>2.0</td>\n",
       "      <td>8.0</td>\n",
       "      <td>13.0</td>\n",
       "      <td>4.0</td>\n",
       "    </tr>\n",
       "    <tr>\n",
       "      <th>web</th>\n",
       "      <td>11.0</td>\n",
       "      <td>7.0</td>\n",
       "      <td>33.0</td>\n",
       "      <td>48.0</td>\n",
       "      <td>15.0</td>\n",
       "    </tr>\n",
       "  </tbody>\n",
       "</table>\n",
       "</div>"
      ],
      "text/plain": [
       "goal_size    Tiny  Small  Medium  Large  Huge\n",
       "sub_cat                                      \n",
       "3d          nan   nan    4.0     9.0    5.0  \n",
       "apps        4.0   4.0    33.0    49.0   9.0  \n",
       "camera      nan   nan    1.0     3.0    nan  \n",
       "diy         1.0   3.0    5.0     6.0    3.0  \n",
       "fabrication nan   nan    4.0     nan    nan  \n",
       "flight      1.0   1.0    1.0     5.0    1.0  \n",
       "gadgets     2.0   5.0    14.0    36.0   11.0 \n",
       "hardware    1.0   3.0    17.0    18.0   10.0 \n",
       "makerspaces nan   1.0    1.0     nan    1.0  \n",
       "robots      2.0   1.0    4.0     2.0    nan  \n",
       "software    3.0   11.0   23.0    43.0   8.0  \n",
       "sound       1.0   2.0    1.0     6.0    nan  \n",
       "space       nan   2.0    2.0     2.0    nan  \n",
       "wearables   1.0   2.0    8.0     13.0   4.0  \n",
       "web         11.0  7.0    33.0    48.0   15.0 "
      ]
     },
     "execution_count": 128,
     "metadata": {},
     "output_type": "execute_result"
    }
   ],
   "source": [
    "table = pd.pivot_table(florida_tech_failed, values = 'usd_goal', index = 'sub_cat', columns = 'goal_size', aggfunc = len)\n",
    "table"
   ]
  }
 ],
 "metadata": {
  "kernelspec": {
   "display_name": "Python 3",
   "language": "python",
   "name": "python3"
  },
  "language_info": {
   "codemirror_mode": {
    "name": "ipython",
    "version": 3
   },
   "file_extension": ".py",
   "mimetype": "text/x-python",
   "name": "python",
   "nbconvert_exporter": "python",
   "pygments_lexer": "ipython3",
   "version": "3.6.3"
  }
 },
 "nbformat": 4,
 "nbformat_minor": 2
}
